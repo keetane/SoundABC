{
 "cells": [
  {
   "attachments": {},
   "cell_type": "markdown",
   "metadata": {},
   "source": [
    "# カラー&サウンド定義"
   ]
  },
  {
   "cell_type": "code",
   "execution_count": 1,
   "metadata": {},
   "outputs": [],
   "source": [
    "from playsound import playsound as ps\n",
    "\n",
    "color_dic =  {\n",
    "    '赤' : 'red',\n",
    "    '黄' : 'yellow',\n",
    "    '青' : 'blue',\n",
    "    '黒' : 'black',\n",
    "    'オレンジ' : 'orange',\n",
    "    '紫' : 'purple',\n",
    "    'ピンク' : 'pink',\n",
    "    '緑' : 'green',\n",
    "    '茶' : 'brown',\n",
    "}\n",
    "color_j = dict(zip(range(1,len(color_dic)+1), list(color_dic.keys())))\n",
    "color_j[0] = 'もう一度聞く'\n",
    "color_e = dict(zip(range(1,len(color_dic)+1), list(color_dic.values())))\n",
    "\n",
    "def sound(x):\n",
    "    ps('sound/{}.mp3'.format(color_dic[df.iloc[x,1]]))\n"
   ]
  },
  {
   "attachments": {},
   "cell_type": "markdown",
   "metadata": {},
   "source": [
    "# 新しいゲーム作成"
   ]
  },
  {
   "cell_type": "code",
   "execution_count": 52,
   "metadata": {},
   "outputs": [
    {
     "name": "stdout",
     "output_type": "stream",
     "text": [
      "new game name?\n",
      "New game 'chisa.csv' was created\n"
     ]
    }
   ],
   "source": [
    "#　自動上書きされるので注意\n",
    "import pandas as pd\n",
    "pd.set_option('display.max_columns', None)\n",
    "\n",
    "# 問題の作成\n",
    "# カラムの作成\n",
    "col = ['No.'] + ['Q'] + ['A'] + ['B'] + ['datetime']\n",
    "df = pd.DataFrame(columns=col)\n",
    "\n",
    "print('new game name?')\n",
    "\n",
    "new_game = input('new game name?')\n",
    "new_game_name = new_game + str('.csv')\n",
    "df.to_csv('games/' + new_game_name, index=False)\n",
    "print\n",
    "print(\"New game '\" + new_game_name + \"' was created\")"
   ]
  },
  {
   "attachments": {},
   "cell_type": "markdown",
   "metadata": {},
   "source": [
    "# 遊ぶゲームを選ぶ"
   ]
  },
  {
   "cell_type": "code",
   "execution_count": 3,
   "metadata": {},
   "outputs": [
    {
     "name": "stdout",
     "output_type": "stream",
     "text": [
      "どのゲームで遊ぶ？\n",
      "\n",
      "{1: 'games/keetane.csv', 2: 'games/chisa.csv', 3: 'games/test.csv', 4: 'games/hajime.csv'}\n",
      "\n",
      "testで遊びます\n"
     ]
    }
   ],
   "source": [
    "import pandas as pd\n",
    "pd.set_option('display.max_columns', None)\n",
    "import glob\n",
    "\n",
    "games = glob.glob('games/*.csv')\n",
    "games_dict = dict(zip(range(1,len(games)+1), games))\n",
    "\n",
    "print('どのゲームで遊ぶ？\\n')\n",
    "print(games_dict)\n",
    "\n",
    "game = input()\n",
    "df = pd.read_csv(games_dict[int(game)])\n",
    "print()\n",
    "print(games_dict[int(game)].removeprefix('games/').removesuffix('.csv') + 'で遊びます')"
   ]
  },
  {
   "attachments": {},
   "cell_type": "markdown",
   "metadata": {},
   "source": [
    "# 新しい問題作成"
   ]
  },
  {
   "cell_type": "code",
   "execution_count": 4,
   "metadata": {},
   "outputs": [],
   "source": [
    "import pandas as pd\n",
    "# カラムを全て表示する　https://kino-code.com/python-pandas-set_option/\n",
    "pd.set_option('display.max_columns', None) \n",
    "import random\n",
    "import datetime\n",
    "\n",
    "# 色と音の定義\n",
    "color_dic =  {\n",
    "    '赤' : 'red',\n",
    "    '黄' : 'yellow',\n",
    "    '青' : 'blue',\n",
    "    '黒' : 'black',\n",
    "    'オレンジ' : 'orange',\n",
    "    '紫' : 'purple',\n",
    "    'ピンク' : 'pink',\n",
    "    '緑' : 'green',\n",
    "    '茶' : 'brown',\n",
    "}\n",
    "color_j = dict(zip(range(1,len(color_dic)+1), list(color_dic.keys())))\n",
    "color_j[0] = 'もう一度聞く'\n",
    "color_e = dict(zip(range(1,len(color_dic)+1), list(color_dic.values())))\n",
    "\n",
    "# 問題の作成\n",
    "# カラムの作成\n",
    "col = ['No.'] + ['Q'] + ['A'] + ['B'] + ['datetime']\n",
    "df2 = pd.DataFrame(columns=col)\n",
    "\n",
    "# No.をふる\n",
    "df2['No.'] = [str(i) for i in list(range(1,31))]\n",
    "\n",
    "df2['datetime'] = datetime.datetime.now().strftime('%Y-%m-%d %H:%M:%S')\n",
    "\n",
    "# 色を重複しないようにランダムに並べる\n",
    "# 色を一つ選択\n",
    "first =  random.choice(list(color_dic.keys()))\n",
    "# firstを除いた色のlistを作成\n",
    "new_dict = [x for x in color_dic if x != first]\n",
    "\n",
    "# 色をdfに追加し、新たなリストを作成、をloop\n",
    "for x in range(30):\n",
    "    df2['Q'].iloc[x] = random.choice(new_dict)\n",
    "    new_dict = [c for c in color_dic if c != df2.iloc[x,1]]\n",
    "    "
   ]
  },
  {
   "attachments": {},
   "cell_type": "markdown",
   "metadata": {},
   "source": [
    "# 回答する"
   ]
  },
  {
   "cell_type": "code",
   "execution_count": 60,
   "metadata": {},
   "outputs": [
    {
     "name": "stdout",
     "output_type": "stream",
     "text": [
      "{1: '赤', 2: '黄', 3: '青', 4: '黒', 5: 'オレンジ', 6: '紫', 7: 'ピンク', 8: '緑', 9: '茶', 0: 'もう一度聞く'}\n",
      "\n",
      "1問目\n"
     ]
    },
    {
     "ename": "PermissionError",
     "evalue": "[Errno 1] Operation not permitted",
     "output_type": "error",
     "traceback": [
      "\u001b[0;31m---------------------------------------------------------------------------\u001b[0m",
      "\u001b[0;31mPermissionError\u001b[0m                           Traceback (most recent call last)",
      "\u001b[1;32m/Users/keetane/Documents/python/SoundABC/SoundABC2.ipynb Cell 10\u001b[0m in \u001b[0;36m<cell line: 28>\u001b[0;34m()\u001b[0m\n\u001b[1;32m     <a href='vscode-notebook-cell:/Users/keetane/Documents/python/SoundABC/SoundABC2.ipynb#X12sZmlsZQ%3D%3D?line=28'>29</a>\u001b[0m \u001b[39mprint\u001b[39m(\u001b[39mstr\u001b[39m(x\u001b[39m+\u001b[39m\u001b[39m1\u001b[39m)\u001b[39m+\u001b[39m\u001b[39m'\u001b[39m\u001b[39m問目\u001b[39m\u001b[39m'\u001b[39m)\n\u001b[1;32m     <a href='vscode-notebook-cell:/Users/keetane/Documents/python/SoundABC/SoundABC2.ipynb#X12sZmlsZQ%3D%3D?line=29'>30</a>\u001b[0m \u001b[39m# print(color_j)\u001b[39;00m\n\u001b[0;32m---> <a href='vscode-notebook-cell:/Users/keetane/Documents/python/SoundABC/SoundABC2.ipynb#X12sZmlsZQ%3D%3D?line=31'>32</a>\u001b[0m sound(x)\n\u001b[1;32m     <a href='vscode-notebook-cell:/Users/keetane/Documents/python/SoundABC/SoundABC2.ipynb#X12sZmlsZQ%3D%3D?line=32'>33</a>\u001b[0m answer \u001b[39m=\u001b[39m \u001b[39minput\u001b[39m(\u001b[39mstr\u001b[39m(x)\u001b[39m+\u001b[39m\u001b[39m'\u001b[39m\u001b[39m?\u001b[39m\u001b[39m'\u001b[39m)\n\u001b[1;32m     <a href='vscode-notebook-cell:/Users/keetane/Documents/python/SoundABC/SoundABC2.ipynb#X12sZmlsZQ%3D%3D?line=34'>35</a>\u001b[0m \u001b[39mwhile\u001b[39;00m \u001b[39mint\u001b[39m(answer) \u001b[39m==\u001b[39m \u001b[39m0\u001b[39m:\n",
      "\u001b[1;32m/Users/keetane/Documents/python/SoundABC/SoundABC2.ipynb Cell 10\u001b[0m in \u001b[0;36msound\u001b[0;34m(x)\u001b[0m\n\u001b[1;32m     <a href='vscode-notebook-cell:/Users/keetane/Documents/python/SoundABC/SoundABC2.ipynb#X12sZmlsZQ%3D%3D?line=20'>21</a>\u001b[0m \u001b[39mdef\u001b[39;00m \u001b[39msound\u001b[39m(x):\n\u001b[0;32m---> <a href='vscode-notebook-cell:/Users/keetane/Documents/python/SoundABC/SoundABC2.ipynb#X12sZmlsZQ%3D%3D?line=21'>22</a>\u001b[0m     ps(\u001b[39m'\u001b[39;49m\u001b[39msound/\u001b[39;49m\u001b[39m{}\u001b[39;49;00m\u001b[39m.mp3\u001b[39;49m\u001b[39m'\u001b[39;49m\u001b[39m.\u001b[39;49mformat(color_dic[df2\u001b[39m.\u001b[39;49miloc[x,\u001b[39m1\u001b[39;49m]]))\n",
      "File \u001b[0;32m~/opt/anaconda3/envs/pymol/lib/python3.10/site-packages/playsound.py:128\u001b[0m, in \u001b[0;36m_playsoundOSX\u001b[0;34m(sound, block)\u001b[0m\n\u001b[1;32m    125\u001b[0m \u001b[39mfrom\u001b[39;00m \u001b[39mFoundation\u001b[39;00m \u001b[39mimport\u001b[39;00m NSURL\n\u001b[1;32m    126\u001b[0m \u001b[39mfrom\u001b[39;00m \u001b[39mtime\u001b[39;00m       \u001b[39mimport\u001b[39;00m sleep\n\u001b[0;32m--> 128\u001b[0m sound \u001b[39m=\u001b[39m _handlePathOSX(sound)\n\u001b[1;32m    129\u001b[0m url   \u001b[39m=\u001b[39m NSURL\u001b[39m.\u001b[39mURLWithString_(sound)\n\u001b[1;32m    130\u001b[0m \u001b[39mif\u001b[39;00m \u001b[39mnot\u001b[39;00m url:\n",
      "File \u001b[0;32m~/opt/anaconda3/envs/pymol/lib/python3.10/site-packages/playsound.py:89\u001b[0m, in \u001b[0;36m_handlePathOSX\u001b[0;34m(sound)\u001b[0m\n\u001b[1;32m     87\u001b[0m     \u001b[39mif\u001b[39;00m \u001b[39mnot\u001b[39;00m sound\u001b[39m.\u001b[39mstartswith(\u001b[39m'\u001b[39m\u001b[39m/\u001b[39m\u001b[39m'\u001b[39m):\n\u001b[1;32m     88\u001b[0m         \u001b[39mfrom\u001b[39;00m \u001b[39mos\u001b[39;00m \u001b[39mimport\u001b[39;00m getcwd\n\u001b[0;32m---> 89\u001b[0m         sound \u001b[39m=\u001b[39m getcwd() \u001b[39m+\u001b[39m \u001b[39m'\u001b[39m\u001b[39m/\u001b[39m\u001b[39m'\u001b[39m \u001b[39m+\u001b[39m sound\n\u001b[1;32m     90\u001b[0m     sound \u001b[39m=\u001b[39m \u001b[39m'\u001b[39m\u001b[39mfile://\u001b[39m\u001b[39m'\u001b[39m \u001b[39m+\u001b[39m sound\n\u001b[1;32m     92\u001b[0m \u001b[39mtry\u001b[39;00m:\n\u001b[1;32m     93\u001b[0m     \u001b[39m# Don't double-encode it.\u001b[39;00m\n",
      "\u001b[0;31mPermissionError\u001b[0m: [Errno 1] Operation not permitted"
     ]
    }
   ],
   "source": [
    "import pandas as pd\n",
    "pd.set_option('display.max_columns', None)\n",
    "from playsound import playsound as ps\n",
    "\n",
    "# カラー&サウンド定義\n",
    "color_dic =  {\n",
    "    '赤' : 'red',\n",
    "    '黄' : 'yellow',\n",
    "    '青' : 'blue',\n",
    "    '黒' : 'black',\n",
    "    'オレンジ' : 'orange',\n",
    "    '紫' : 'purple',\n",
    "    'ピンク' : 'pink',\n",
    "    '緑' : 'green',\n",
    "    '茶' : 'brown',\n",
    "}\n",
    "color_j = dict(zip(range(1,len(color_dic)+1), list(color_dic.keys())))\n",
    "color_j[0] = 'もう一度聞く'\n",
    "color_e = dict(zip(range(1,len(color_dic)+1), list(color_dic.values())))\n",
    "\n",
    "def sound(x):\n",
    "    ps('sound/{}.mp3'.format(color_dic[df2.iloc[x,1]]))\n",
    "\n",
    "print(color_j)\n",
    "print()\n",
    "\n",
    "# ここからが回答\n",
    "for x in range(30):\n",
    "    print(str(x+1)+'問目')\n",
    "    # print(color_j)\n",
    "\n",
    "    sound(x)\n",
    "    answer = input(str(x)+'?')\n",
    "\n",
    "    while int(answer) == 0:\n",
    "        sound(x)\n",
    "        answer = input(str(x)+'?')\n",
    "    df2.iloc[x, 2] = color_j[int(answer)]\n",
    "\n",
    "    if df2.iloc[x,1] == df2.iloc[x,2] :\n",
    "        print(df2.iloc[x,1] + ' : 正解! ^o^ せいかい!! \\^o^/\\n')\n",
    "        df2.iloc[x,3] = 'O'\n",
    "    else :\n",
    "        print(df2.iloc[x,1] + ' : 残念...ざんねん... o_o\\n')\n",
    "        df2.iloc[x,3] = 'X'\n",
    "\n",
    "    # print(df.iloc[0,x+1])\n",
    "print('{}問 せいかいしたよ！ (^.u.^)'.format(list(df2['B']=='O').count(True)))\n",
    "df = pd.concat([df, df2], ignore_index=True)\n",
    "df.to_csv(games_dict[int(game)], index=False)\n",
    "df2[['No.', 'Q', 'A', 'B']].T\n"
   ]
  },
  {
   "cell_type": "code",
   "execution_count": 35,
   "metadata": {},
   "outputs": [
    {
     "data": {
      "text/html": [
       "<div>\n",
       "<style scoped>\n",
       "    .dataframe tbody tr th:only-of-type {\n",
       "        vertical-align: middle;\n",
       "    }\n",
       "\n",
       "    .dataframe tbody tr th {\n",
       "        vertical-align: top;\n",
       "    }\n",
       "\n",
       "    .dataframe thead th {\n",
       "        text-align: right;\n",
       "    }\n",
       "</style>\n",
       "<table border=\"1\" class=\"dataframe\">\n",
       "  <thead>\n",
       "    <tr style=\"text-align: right;\">\n",
       "      <th></th>\n",
       "      <th>0</th>\n",
       "      <th>1</th>\n",
       "      <th>2</th>\n",
       "      <th>3</th>\n",
       "      <th>4</th>\n",
       "      <th>5</th>\n",
       "      <th>6</th>\n",
       "      <th>7</th>\n",
       "      <th>8</th>\n",
       "      <th>9</th>\n",
       "      <th>10</th>\n",
       "      <th>11</th>\n",
       "      <th>12</th>\n",
       "      <th>13</th>\n",
       "      <th>14</th>\n",
       "      <th>15</th>\n",
       "      <th>16</th>\n",
       "      <th>17</th>\n",
       "      <th>18</th>\n",
       "      <th>19</th>\n",
       "      <th>20</th>\n",
       "      <th>21</th>\n",
       "      <th>22</th>\n",
       "      <th>23</th>\n",
       "      <th>24</th>\n",
       "      <th>25</th>\n",
       "      <th>26</th>\n",
       "      <th>27</th>\n",
       "      <th>28</th>\n",
       "      <th>29</th>\n",
       "    </tr>\n",
       "  </thead>\n",
       "  <tbody>\n",
       "    <tr>\n",
       "      <th>No.</th>\n",
       "      <td>1</td>\n",
       "      <td>2</td>\n",
       "      <td>3</td>\n",
       "      <td>4</td>\n",
       "      <td>5</td>\n",
       "      <td>6</td>\n",
       "      <td>7</td>\n",
       "      <td>8</td>\n",
       "      <td>9</td>\n",
       "      <td>10</td>\n",
       "      <td>11</td>\n",
       "      <td>12</td>\n",
       "      <td>13</td>\n",
       "      <td>14</td>\n",
       "      <td>15</td>\n",
       "      <td>16</td>\n",
       "      <td>17</td>\n",
       "      <td>18</td>\n",
       "      <td>19</td>\n",
       "      <td>20</td>\n",
       "      <td>21</td>\n",
       "      <td>22</td>\n",
       "      <td>23</td>\n",
       "      <td>24</td>\n",
       "      <td>25</td>\n",
       "      <td>26</td>\n",
       "      <td>27</td>\n",
       "      <td>28</td>\n",
       "      <td>29</td>\n",
       "      <td>30</td>\n",
       "    </tr>\n",
       "    <tr>\n",
       "      <th>Q</th>\n",
       "      <td>ピンク</td>\n",
       "      <td>青</td>\n",
       "      <td>オレンジ</td>\n",
       "      <td>茶</td>\n",
       "      <td>紫</td>\n",
       "      <td>ピンク</td>\n",
       "      <td>紫</td>\n",
       "      <td>赤</td>\n",
       "      <td>青</td>\n",
       "      <td>オレンジ</td>\n",
       "      <td>赤</td>\n",
       "      <td>青</td>\n",
       "      <td>黄</td>\n",
       "      <td>ピンク</td>\n",
       "      <td>赤</td>\n",
       "      <td>青</td>\n",
       "      <td>ピンク</td>\n",
       "      <td>オレンジ</td>\n",
       "      <td>ピンク</td>\n",
       "      <td>黒</td>\n",
       "      <td>青</td>\n",
       "      <td>黒</td>\n",
       "      <td>茶</td>\n",
       "      <td>黄</td>\n",
       "      <td>赤</td>\n",
       "      <td>オレンジ</td>\n",
       "      <td>赤</td>\n",
       "      <td>黄</td>\n",
       "      <td>赤</td>\n",
       "      <td>緑</td>\n",
       "    </tr>\n",
       "    <tr>\n",
       "      <th>A</th>\n",
       "      <td>緑</td>\n",
       "      <td>青</td>\n",
       "      <td>赤</td>\n",
       "      <td>茶</td>\n",
       "      <td>緑</td>\n",
       "      <td>緑</td>\n",
       "      <td>緑</td>\n",
       "      <td>赤</td>\n",
       "      <td>赤</td>\n",
       "      <td>オレンジ</td>\n",
       "      <td>赤</td>\n",
       "      <td>青</td>\n",
       "      <td>黄</td>\n",
       "      <td>ピンク</td>\n",
       "      <td>赤</td>\n",
       "      <td>黄</td>\n",
       "      <td>ピンク</td>\n",
       "      <td>オレンジ</td>\n",
       "      <td>ピンク</td>\n",
       "      <td>黒</td>\n",
       "      <td>青</td>\n",
       "      <td>黒</td>\n",
       "      <td>茶</td>\n",
       "      <td>黄</td>\n",
       "      <td>赤</td>\n",
       "      <td>オレンジ</td>\n",
       "      <td>緑</td>\n",
       "      <td>黄</td>\n",
       "      <td>赤</td>\n",
       "      <td>緑</td>\n",
       "    </tr>\n",
       "    <tr>\n",
       "      <th>B</th>\n",
       "      <td>X</td>\n",
       "      <td>O</td>\n",
       "      <td>X</td>\n",
       "      <td>O</td>\n",
       "      <td>X</td>\n",
       "      <td>X</td>\n",
       "      <td>X</td>\n",
       "      <td>O</td>\n",
       "      <td>X</td>\n",
       "      <td>O</td>\n",
       "      <td>O</td>\n",
       "      <td>O</td>\n",
       "      <td>O</td>\n",
       "      <td>O</td>\n",
       "      <td>O</td>\n",
       "      <td>X</td>\n",
       "      <td>O</td>\n",
       "      <td>O</td>\n",
       "      <td>O</td>\n",
       "      <td>O</td>\n",
       "      <td>O</td>\n",
       "      <td>O</td>\n",
       "      <td>O</td>\n",
       "      <td>O</td>\n",
       "      <td>O</td>\n",
       "      <td>O</td>\n",
       "      <td>X</td>\n",
       "      <td>O</td>\n",
       "      <td>O</td>\n",
       "      <td>O</td>\n",
       "    </tr>\n",
       "  </tbody>\n",
       "</table>\n",
       "</div>"
      ],
      "text/plain": [
       "      0  1     2  3  4    5  6  7  8     9   10  11  12   13  14  15   16  \\\n",
       "No.    1  2     3  4  5    6  7  8  9    10  11  12  13   14  15  16   17   \n",
       "Q    ピンク  青  オレンジ  茶  紫  ピンク  紫  赤  青  オレンジ   赤   青   黄  ピンク   赤   青  ピンク   \n",
       "A      緑  青     赤  茶  緑    緑  緑  赤  赤  オレンジ   赤   青   黄  ピンク   赤   黄  ピンク   \n",
       "B      X  O     X  O  X    X  X  O  X     O   O   O   O    O   O   X    O   \n",
       "\n",
       "       17   18  19  20  21  22  23  24    25  26  27  28  29  \n",
       "No.    18   19  20  21  22  23  24  25    26  27  28  29  30  \n",
       "Q    オレンジ  ピンク   黒   青   黒   茶   黄   赤  オレンジ   赤   黄   赤   緑  \n",
       "A    オレンジ  ピンク   黒   青   黒   茶   黄   赤  オレンジ   緑   黄   赤   緑  \n",
       "B       O    O   O   O   O   O   O   O     O   X   O   O   O  "
      ]
     },
     "execution_count": 35,
     "metadata": {},
     "output_type": "execute_result"
    }
   ],
   "source": [
    "df[['No.', 'Q', 'A', 'B']].tail(30).T"
   ]
  },
  {
   "attachments": {},
   "cell_type": "markdown",
   "metadata": {},
   "source": [
    "# 音を聞く"
   ]
  },
  {
   "cell_type": "code",
   "execution_count": 4,
   "metadata": {},
   "outputs": [
    {
     "name": "stdout",
     "output_type": "stream",
     "text": [
      "{1: '赤', 2: '黄', 3: '青', 4: '黒', 5: 'オレンジ', 6: '紫', 7: 'ピンク', 8: '緑', 9: '茶', 0: 'もう一度聞く'}\n"
     ]
    }
   ],
   "source": [
    "print(color_j)\n",
    "test = input('test?')\n",
    "ps('sound/{}.mp3'.format(color_dic[color_j[int(test)]]))\n"
   ]
  },
  {
   "cell_type": "code",
   "execution_count": null,
   "metadata": {},
   "outputs": [],
   "source": []
  },
  {
   "attachments": {},
   "cell_type": "markdown",
   "metadata": {},
   "source": [
    "# 問題を確認"
   ]
  },
  {
   "cell_type": "code",
   "execution_count": 49,
   "metadata": {},
   "outputs": [
    {
     "data": {
      "text/html": [
       "<div>\n",
       "<style scoped>\n",
       "    .dataframe tbody tr th:only-of-type {\n",
       "        vertical-align: middle;\n",
       "    }\n",
       "\n",
       "    .dataframe tbody tr th {\n",
       "        vertical-align: top;\n",
       "    }\n",
       "\n",
       "    .dataframe thead th {\n",
       "        text-align: right;\n",
       "    }\n",
       "</style>\n",
       "<table border=\"1\" class=\"dataframe\">\n",
       "  <thead>\n",
       "    <tr style=\"text-align: right;\">\n",
       "      <th></th>\n",
       "      <th>0</th>\n",
       "      <th>1</th>\n",
       "      <th>2</th>\n",
       "      <th>3</th>\n",
       "      <th>4</th>\n",
       "      <th>5</th>\n",
       "      <th>6</th>\n",
       "      <th>7</th>\n",
       "      <th>8</th>\n",
       "      <th>9</th>\n",
       "      <th>10</th>\n",
       "      <th>11</th>\n",
       "      <th>12</th>\n",
       "      <th>13</th>\n",
       "      <th>14</th>\n",
       "      <th>15</th>\n",
       "      <th>16</th>\n",
       "      <th>17</th>\n",
       "      <th>18</th>\n",
       "      <th>19</th>\n",
       "      <th>20</th>\n",
       "      <th>21</th>\n",
       "      <th>22</th>\n",
       "      <th>23</th>\n",
       "      <th>24</th>\n",
       "      <th>25</th>\n",
       "      <th>26</th>\n",
       "      <th>27</th>\n",
       "      <th>28</th>\n",
       "      <th>29</th>\n",
       "    </tr>\n",
       "  </thead>\n",
       "  <tbody>\n",
       "    <tr>\n",
       "      <th>No.</th>\n",
       "      <td>1</td>\n",
       "      <td>2</td>\n",
       "      <td>3</td>\n",
       "      <td>4</td>\n",
       "      <td>5</td>\n",
       "      <td>6</td>\n",
       "      <td>7</td>\n",
       "      <td>8</td>\n",
       "      <td>9</td>\n",
       "      <td>10</td>\n",
       "      <td>11</td>\n",
       "      <td>12</td>\n",
       "      <td>13</td>\n",
       "      <td>14</td>\n",
       "      <td>15</td>\n",
       "      <td>16</td>\n",
       "      <td>17</td>\n",
       "      <td>18</td>\n",
       "      <td>19</td>\n",
       "      <td>20</td>\n",
       "      <td>21</td>\n",
       "      <td>22</td>\n",
       "      <td>23</td>\n",
       "      <td>24</td>\n",
       "      <td>25</td>\n",
       "      <td>26</td>\n",
       "      <td>27</td>\n",
       "      <td>28</td>\n",
       "      <td>29</td>\n",
       "      <td>30</td>\n",
       "    </tr>\n",
       "    <tr>\n",
       "      <th>Q</th>\n",
       "      <td>ピンク</td>\n",
       "      <td>青</td>\n",
       "      <td>オレンジ</td>\n",
       "      <td>茶</td>\n",
       "      <td>紫</td>\n",
       "      <td>ピンク</td>\n",
       "      <td>紫</td>\n",
       "      <td>赤</td>\n",
       "      <td>青</td>\n",
       "      <td>オレンジ</td>\n",
       "      <td>赤</td>\n",
       "      <td>青</td>\n",
       "      <td>黄</td>\n",
       "      <td>ピンク</td>\n",
       "      <td>赤</td>\n",
       "      <td>青</td>\n",
       "      <td>ピンク</td>\n",
       "      <td>オレンジ</td>\n",
       "      <td>ピンク</td>\n",
       "      <td>黒</td>\n",
       "      <td>青</td>\n",
       "      <td>黒</td>\n",
       "      <td>茶</td>\n",
       "      <td>黄</td>\n",
       "      <td>赤</td>\n",
       "      <td>オレンジ</td>\n",
       "      <td>赤</td>\n",
       "      <td>黄</td>\n",
       "      <td>赤</td>\n",
       "      <td>緑</td>\n",
       "    </tr>\n",
       "  </tbody>\n",
       "</table>\n",
       "</div>"
      ],
      "text/plain": [
       "      0  1     2  3  4    5  6  7  8     9   10  11  12   13  14  15   16  \\\n",
       "No.    1  2     3  4  5    6  7  8  9    10  11  12  13   14  15  16   17   \n",
       "Q    ピンク  青  オレンジ  茶  紫  ピンク  紫  赤  青  オレンジ   赤   青   黄  ピンク   赤   青  ピンク   \n",
       "\n",
       "       17   18  19  20  21  22  23  24    25  26  27  28  29  \n",
       "No.    18   19  20  21  22  23  24  25    26  27  28  29  30  \n",
       "Q    オレンジ  ピンク   黒   青   黒   茶   黄   赤  オレンジ   赤   黄   赤   緑  "
      ]
     },
     "execution_count": 49,
     "metadata": {},
     "output_type": "execute_result"
    }
   ],
   "source": [
    "df2[['No.', 'Q']].T"
   ]
  },
  {
   "attachments": {},
   "cell_type": "markdown",
   "metadata": {},
   "source": [
    "# データ"
   ]
  },
  {
   "attachments": {},
   "cell_type": "markdown",
   "metadata": {},
   "source": [
    "# テスト用回答作成"
   ]
  },
  {
   "cell_type": "code",
   "execution_count": 7,
   "metadata": {},
   "outputs": [
    {
     "data": {
      "text/html": [
       "<div>\n",
       "<style scoped>\n",
       "    .dataframe tbody tr th:only-of-type {\n",
       "        vertical-align: middle;\n",
       "    }\n",
       "\n",
       "    .dataframe tbody tr th {\n",
       "        vertical-align: top;\n",
       "    }\n",
       "\n",
       "    .dataframe thead th {\n",
       "        text-align: right;\n",
       "    }\n",
       "</style>\n",
       "<table border=\"1\" class=\"dataframe\">\n",
       "  <thead>\n",
       "    <tr style=\"text-align: right;\">\n",
       "      <th></th>\n",
       "      <th>No.</th>\n",
       "      <th>Q</th>\n",
       "      <th>A</th>\n",
       "      <th>B</th>\n",
       "      <th>datetime</th>\n",
       "    </tr>\n",
       "  </thead>\n",
       "  <tbody>\n",
       "    <tr>\n",
       "      <th>0</th>\n",
       "      <td>1</td>\n",
       "      <td>ピンク</td>\n",
       "      <td>緑</td>\n",
       "      <td>X</td>\n",
       "      <td>2023-05-06 00:24:44</td>\n",
       "    </tr>\n",
       "    <tr>\n",
       "      <th>1</th>\n",
       "      <td>2</td>\n",
       "      <td>青</td>\n",
       "      <td>青</td>\n",
       "      <td>O</td>\n",
       "      <td>2023-05-06 00:24:44</td>\n",
       "    </tr>\n",
       "    <tr>\n",
       "      <th>2</th>\n",
       "      <td>3</td>\n",
       "      <td>オレンジ</td>\n",
       "      <td>赤</td>\n",
       "      <td>X</td>\n",
       "      <td>2023-05-06 00:24:44</td>\n",
       "    </tr>\n",
       "    <tr>\n",
       "      <th>3</th>\n",
       "      <td>4</td>\n",
       "      <td>茶</td>\n",
       "      <td>茶</td>\n",
       "      <td>O</td>\n",
       "      <td>2023-05-06 00:24:44</td>\n",
       "    </tr>\n",
       "    <tr>\n",
       "      <th>4</th>\n",
       "      <td>5</td>\n",
       "      <td>紫</td>\n",
       "      <td>緑</td>\n",
       "      <td>X</td>\n",
       "      <td>2023-05-06 00:24:44</td>\n",
       "    </tr>\n",
       "    <tr>\n",
       "      <th>...</th>\n",
       "      <td>...</td>\n",
       "      <td>...</td>\n",
       "      <td>...</td>\n",
       "      <td>...</td>\n",
       "      <td>...</td>\n",
       "    </tr>\n",
       "    <tr>\n",
       "      <th>145</th>\n",
       "      <td>26</td>\n",
       "      <td>青</td>\n",
       "      <td>青</td>\n",
       "      <td>O</td>\n",
       "      <td>2023-05-06 14:44:11</td>\n",
       "    </tr>\n",
       "    <tr>\n",
       "      <th>146</th>\n",
       "      <td>27</td>\n",
       "      <td>赤</td>\n",
       "      <td>黒</td>\n",
       "      <td>X</td>\n",
       "      <td>2023-05-06 14:44:11</td>\n",
       "    </tr>\n",
       "    <tr>\n",
       "      <th>147</th>\n",
       "      <td>28</td>\n",
       "      <td>緑</td>\n",
       "      <td>紫</td>\n",
       "      <td>X</td>\n",
       "      <td>2023-05-06 14:44:11</td>\n",
       "    </tr>\n",
       "    <tr>\n",
       "      <th>148</th>\n",
       "      <td>29</td>\n",
       "      <td>黒</td>\n",
       "      <td>ピンク</td>\n",
       "      <td>X</td>\n",
       "      <td>2023-05-06 14:44:11</td>\n",
       "    </tr>\n",
       "    <tr>\n",
       "      <th>149</th>\n",
       "      <td>30</td>\n",
       "      <td>紫</td>\n",
       "      <td>赤</td>\n",
       "      <td>X</td>\n",
       "      <td>2023-05-06 14:44:11</td>\n",
       "    </tr>\n",
       "  </tbody>\n",
       "</table>\n",
       "<p>150 rows × 5 columns</p>\n",
       "</div>"
      ],
      "text/plain": [
       "    No.     Q    A  B             datetime\n",
       "0     1   ピンク    緑  X  2023-05-06 00:24:44\n",
       "1     2     青    青  O  2023-05-06 00:24:44\n",
       "2     3  オレンジ    赤  X  2023-05-06 00:24:44\n",
       "3     4     茶    茶  O  2023-05-06 00:24:44\n",
       "4     5     紫    緑  X  2023-05-06 00:24:44\n",
       "..   ..   ...  ... ..                  ...\n",
       "145  26     青    青  O  2023-05-06 14:44:11\n",
       "146  27     赤    黒  X  2023-05-06 14:44:11\n",
       "147  28     緑    紫  X  2023-05-06 14:44:11\n",
       "148  29     黒  ピンク  X  2023-05-06 14:44:11\n",
       "149  30     紫    赤  X  2023-05-06 14:44:11\n",
       "\n",
       "[150 rows x 5 columns]"
      ]
     },
     "execution_count": 7,
     "metadata": {},
     "output_type": "execute_result"
    }
   ],
   "source": [
    "import random\n",
    "# 色をdfに追加し、新たなリストを作成、をloop\n",
    "for x in range(30):\n",
    "    df2['Q'].iloc[x] = random.choice(new_dict)\n",
    "    new_dict = [c for c in color_dic if c != df2.iloc[x,1]]\n",
    "\n",
    "# 色をdfに追加し、新たなリストを作成、をloop\n",
    "for x in range(30):\n",
    "    df2['A'].iloc[x] = random.choice(new_dict)\n",
    "    new_dict = [c for c in color_dic if c != df2.iloc[x,1]]\n",
    "    if df2['A'].iloc[x]==df2['Q'].iloc[x]:\n",
    "        df2['B'].iloc[x]='O'\n",
    "    else :\n",
    "        df2['B'].iloc[x]='X'\n",
    "\n",
    "df = pd.concat([df, df2], ignore_index=True)\n",
    "# df.to_csv(games_dict[int(game)], index=False)\n",
    "df"
   ]
  },
  {
   "cell_type": "code",
   "execution_count": null,
   "metadata": {},
   "outputs": [],
   "source": []
  },
  {
   "cell_type": "code",
   "execution_count": null,
   "metadata": {},
   "outputs": [],
   "source": []
  },
  {
   "cell_type": "code",
   "execution_count": null,
   "metadata": {},
   "outputs": [],
   "source": []
  },
  {
   "cell_type": "code",
   "execution_count": null,
   "metadata": {},
   "outputs": [],
   "source": []
  },
  {
   "cell_type": "code",
   "execution_count": null,
   "metadata": {},
   "outputs": [],
   "source": []
  },
  {
   "cell_type": "code",
   "execution_count": null,
   "metadata": {},
   "outputs": [],
   "source": []
  },
  {
   "attachments": {},
   "cell_type": "markdown",
   "metadata": {},
   "source": [
    "# 間違ったペアをサンバーストで"
   ]
  },
  {
   "cell_type": "code",
   "execution_count": 10,
   "metadata": {},
   "outputs": [
    {
     "data": {
      "application/vnd.plotly.v1+json": {
       "config": {
        "plotlyServerURL": "https://plot.ly"
       },
       "data": [
        {
         "branchvalues": "total",
         "customdata": [
          [
           "(?)"
          ],
          [
           "(?)"
          ],
          [
           "X"
          ],
          [
           "O"
          ],
          [
           "X"
          ],
          [
           "X"
          ],
          [
           "O"
          ],
          [
           "X"
          ],
          [
           "X"
          ],
          [
           "O"
          ],
          [
           "X"
          ],
          [
           "X"
          ],
          [
           "X"
          ],
          [
           "X"
          ],
          [
           "X"
          ],
          [
           "X"
          ],
          [
           "X"
          ],
          [
           "X"
          ],
          [
           "X"
          ],
          [
           "X"
          ],
          [
           "O"
          ],
          [
           "X"
          ],
          [
           "X"
          ],
          [
           "X"
          ],
          [
           "X"
          ],
          [
           "X"
          ],
          [
           "X"
          ],
          [
           "(?)"
          ],
          [
           "(?)"
          ],
          [
           "(?)"
          ],
          [
           "O"
          ],
          [
           "(?)"
          ],
          [
           "X"
          ],
          [
           "X"
          ],
          [
           "X"
          ],
          [
           "X"
          ],
          [
           "X"
          ],
          [
           "X"
          ],
          [
           "(?)"
          ],
          [
           "X"
          ],
          [
           "X"
          ],
          [
           "X"
          ],
          [
           "X"
          ],
          [
           "X"
          ],
          [
           "O"
          ],
          [
           "O"
          ],
          [
           "X"
          ],
          [
           "X"
          ],
          [
           "(?)"
          ],
          [
           "O"
          ],
          [
           "O"
          ],
          [
           "X"
          ],
          [
           "X"
          ],
          [
           "X"
          ],
          [
           "(?)"
          ],
          [
           "X"
          ],
          [
           "X"
          ],
          [
           "X"
          ],
          [
           "X"
          ],
          [
           "X"
          ],
          [
           "X"
          ],
          [
           "X"
          ],
          [
           "X"
          ],
          [
           "X"
          ]
         ],
         "domain": {
          "x": [
           0,
           1
          ],
          "y": [
           0,
           1
          ]
         },
         "hovertemplate": "labels=%{label}<br>value=%{value}<br>parent=%{parent}<br>id=%{id}<br>B=%{customdata[0]}<extra></extra>",
         "ids": [
          "黒",
          "オレンジ",
          "緑/茶",
          "茶/茶",
          "黄/茶",
          "オレンジ/赤",
          "黒/黒",
          "紫/赤",
          "緑/赤",
          "赤/赤",
          "オレンジ/茶",
          "青/赤",
          "赤/黒",
          "紫/青",
          "緑/青",
          "緑/黒",
          "ピンク/黄",
          "緑/黄",
          "赤/黄",
          "青/黄",
          "黄/黄",
          "青/黒",
          "黒/黄",
          "青/緑",
          "茶/緑",
          "茶/オレンジ",
          "青/オレンジ",
          "赤",
          "茶",
          "緑",
          "ピンク/ピンク",
          "紫",
          "黄/ピンク",
          "赤/緑",
          "オレンジ/紫",
          "黒/ピンク",
          "緑/紫",
          "茶/紫",
          "ピンク",
          "青/紫",
          "黄/紫",
          "黒/紫",
          "ピンク/緑",
          "紫/緑",
          "緑/緑",
          "紫/紫",
          "オレンジ/黒",
          "茶/黒",
          "青",
          "オレンジ/オレンジ",
          "青/青",
          "茶/青",
          "ピンク/青",
          "黄/赤",
          "黄",
          "ピンク/茶",
          "赤/紫",
          "青/ピンク",
          "オレンジ/ピンク",
          "黒/オレンジ",
          "黄/オレンジ",
          "赤/オレンジ",
          "ピンク/黒",
          "ピンク/赤"
         ],
         "labels": [
          "黒",
          "オレンジ",
          "茶",
          "茶",
          "茶",
          "赤",
          "黒",
          "赤",
          "赤",
          "赤",
          "茶",
          "赤",
          "黒",
          "青",
          "青",
          "黒",
          "黄",
          "黄",
          "黄",
          "黄",
          "黄",
          "黒",
          "黄",
          "緑",
          "緑",
          "オレンジ",
          "オレンジ",
          "赤",
          "茶",
          "緑",
          "ピンク",
          "紫",
          "ピンク",
          "緑",
          "紫",
          "ピンク",
          "紫",
          "紫",
          "ピンク",
          "紫",
          "紫",
          "紫",
          "緑",
          "緑",
          "緑",
          "紫",
          "黒",
          "黒",
          "青",
          "オレンジ",
          "青",
          "青",
          "青",
          "赤",
          "黄",
          "茶",
          "紫",
          "ピンク",
          "ピンク",
          "オレンジ",
          "オレンジ",
          "オレンジ",
          "黒",
          "赤"
         ],
         "marker": {
          "colors": [
           "#00cc96",
           "#00cc96",
           "red",
           "green",
           "red",
           "red",
           "green",
           "red",
           "red",
           "green",
           "red",
           "red",
           "red",
           "red",
           "red",
           "red",
           "red",
           "red",
           "red",
           "red",
           "green",
           "red",
           "red",
           "red",
           "red",
           "red",
           "red",
           "#00cc96",
           "#00cc96",
           "#00cc96",
           "green",
           "#00cc96",
           "red",
           "red",
           "red",
           "red",
           "red",
           "red",
           "#00cc96",
           "red",
           "red",
           "red",
           "red",
           "red",
           "green",
           "green",
           "red",
           "red",
           "#00cc96",
           "green",
           "green",
           "red",
           "red",
           "red",
           "#00cc96",
           "red",
           "red",
           "red",
           "red",
           "red",
           "red",
           "red",
           "red",
           "red"
          ]
         },
         "name": "",
         "parents": [
          "",
          "",
          "緑",
          "茶",
          "黄",
          "オレンジ",
          "黒",
          "紫",
          "緑",
          "赤",
          "オレンジ",
          "青",
          "赤",
          "紫",
          "緑",
          "緑",
          "ピンク",
          "緑",
          "赤",
          "青",
          "黄",
          "青",
          "黒",
          "青",
          "茶",
          "茶",
          "青",
          "",
          "",
          "",
          "ピンク",
          "",
          "黄",
          "赤",
          "オレンジ",
          "黒",
          "緑",
          "茶",
          "",
          "青",
          "黄",
          "黒",
          "ピンク",
          "紫",
          "緑",
          "紫",
          "オレンジ",
          "茶",
          "",
          "オレンジ",
          "青",
          "茶",
          "ピンク",
          "黄",
          "",
          "ピンク",
          "赤",
          "青",
          "オレンジ",
          "黒",
          "黄",
          "赤",
          "ピンク",
          "ピンク"
         ],
         "type": "sunburst",
         "values": [
          11,
          23,
          2,
          6,
          1,
          1,
          5,
          1,
          1,
          11,
          5,
          1,
          1,
          2,
          1,
          2,
          1,
          1,
          2,
          1,
          8,
          2,
          2,
          4,
          3,
          1,
          2,
          20,
          15,
          14,
          8,
          9,
          1,
          3,
          2,
          1,
          3,
          3,
          18,
          2,
          3,
          1,
          3,
          4,
          4,
          2,
          2,
          1,
          23,
          11,
          9,
          1,
          3,
          2,
          17,
          1,
          2,
          2,
          2,
          2,
          2,
          1,
          1,
          1
         ]
        }
       ],
       "layout": {
        "height": 600,
        "legend": {
         "tracegroupgap": 0
        },
        "margin": {
         "t": 60
        },
        "template": {
         "data": {
          "bar": [
           {
            "error_x": {
             "color": "#2a3f5f"
            },
            "error_y": {
             "color": "#2a3f5f"
            },
            "marker": {
             "line": {
              "color": "#E5ECF6",
              "width": 0.5
             },
             "pattern": {
              "fillmode": "overlay",
              "size": 10,
              "solidity": 0.2
             }
            },
            "type": "bar"
           }
          ],
          "barpolar": [
           {
            "marker": {
             "line": {
              "color": "#E5ECF6",
              "width": 0.5
             },
             "pattern": {
              "fillmode": "overlay",
              "size": 10,
              "solidity": 0.2
             }
            },
            "type": "barpolar"
           }
          ],
          "carpet": [
           {
            "aaxis": {
             "endlinecolor": "#2a3f5f",
             "gridcolor": "white",
             "linecolor": "white",
             "minorgridcolor": "white",
             "startlinecolor": "#2a3f5f"
            },
            "baxis": {
             "endlinecolor": "#2a3f5f",
             "gridcolor": "white",
             "linecolor": "white",
             "minorgridcolor": "white",
             "startlinecolor": "#2a3f5f"
            },
            "type": "carpet"
           }
          ],
          "choropleth": [
           {
            "colorbar": {
             "outlinewidth": 0,
             "ticks": ""
            },
            "type": "choropleth"
           }
          ],
          "contour": [
           {
            "colorbar": {
             "outlinewidth": 0,
             "ticks": ""
            },
            "colorscale": [
             [
              0,
              "#0d0887"
             ],
             [
              0.1111111111111111,
              "#46039f"
             ],
             [
              0.2222222222222222,
              "#7201a8"
             ],
             [
              0.3333333333333333,
              "#9c179e"
             ],
             [
              0.4444444444444444,
              "#bd3786"
             ],
             [
              0.5555555555555556,
              "#d8576b"
             ],
             [
              0.6666666666666666,
              "#ed7953"
             ],
             [
              0.7777777777777778,
              "#fb9f3a"
             ],
             [
              0.8888888888888888,
              "#fdca26"
             ],
             [
              1,
              "#f0f921"
             ]
            ],
            "type": "contour"
           }
          ],
          "contourcarpet": [
           {
            "colorbar": {
             "outlinewidth": 0,
             "ticks": ""
            },
            "type": "contourcarpet"
           }
          ],
          "heatmap": [
           {
            "colorbar": {
             "outlinewidth": 0,
             "ticks": ""
            },
            "colorscale": [
             [
              0,
              "#0d0887"
             ],
             [
              0.1111111111111111,
              "#46039f"
             ],
             [
              0.2222222222222222,
              "#7201a8"
             ],
             [
              0.3333333333333333,
              "#9c179e"
             ],
             [
              0.4444444444444444,
              "#bd3786"
             ],
             [
              0.5555555555555556,
              "#d8576b"
             ],
             [
              0.6666666666666666,
              "#ed7953"
             ],
             [
              0.7777777777777778,
              "#fb9f3a"
             ],
             [
              0.8888888888888888,
              "#fdca26"
             ],
             [
              1,
              "#f0f921"
             ]
            ],
            "type": "heatmap"
           }
          ],
          "heatmapgl": [
           {
            "colorbar": {
             "outlinewidth": 0,
             "ticks": ""
            },
            "colorscale": [
             [
              0,
              "#0d0887"
             ],
             [
              0.1111111111111111,
              "#46039f"
             ],
             [
              0.2222222222222222,
              "#7201a8"
             ],
             [
              0.3333333333333333,
              "#9c179e"
             ],
             [
              0.4444444444444444,
              "#bd3786"
             ],
             [
              0.5555555555555556,
              "#d8576b"
             ],
             [
              0.6666666666666666,
              "#ed7953"
             ],
             [
              0.7777777777777778,
              "#fb9f3a"
             ],
             [
              0.8888888888888888,
              "#fdca26"
             ],
             [
              1,
              "#f0f921"
             ]
            ],
            "type": "heatmapgl"
           }
          ],
          "histogram": [
           {
            "marker": {
             "pattern": {
              "fillmode": "overlay",
              "size": 10,
              "solidity": 0.2
             }
            },
            "type": "histogram"
           }
          ],
          "histogram2d": [
           {
            "colorbar": {
             "outlinewidth": 0,
             "ticks": ""
            },
            "colorscale": [
             [
              0,
              "#0d0887"
             ],
             [
              0.1111111111111111,
              "#46039f"
             ],
             [
              0.2222222222222222,
              "#7201a8"
             ],
             [
              0.3333333333333333,
              "#9c179e"
             ],
             [
              0.4444444444444444,
              "#bd3786"
             ],
             [
              0.5555555555555556,
              "#d8576b"
             ],
             [
              0.6666666666666666,
              "#ed7953"
             ],
             [
              0.7777777777777778,
              "#fb9f3a"
             ],
             [
              0.8888888888888888,
              "#fdca26"
             ],
             [
              1,
              "#f0f921"
             ]
            ],
            "type": "histogram2d"
           }
          ],
          "histogram2dcontour": [
           {
            "colorbar": {
             "outlinewidth": 0,
             "ticks": ""
            },
            "colorscale": [
             [
              0,
              "#0d0887"
             ],
             [
              0.1111111111111111,
              "#46039f"
             ],
             [
              0.2222222222222222,
              "#7201a8"
             ],
             [
              0.3333333333333333,
              "#9c179e"
             ],
             [
              0.4444444444444444,
              "#bd3786"
             ],
             [
              0.5555555555555556,
              "#d8576b"
             ],
             [
              0.6666666666666666,
              "#ed7953"
             ],
             [
              0.7777777777777778,
              "#fb9f3a"
             ],
             [
              0.8888888888888888,
              "#fdca26"
             ],
             [
              1,
              "#f0f921"
             ]
            ],
            "type": "histogram2dcontour"
           }
          ],
          "mesh3d": [
           {
            "colorbar": {
             "outlinewidth": 0,
             "ticks": ""
            },
            "type": "mesh3d"
           }
          ],
          "parcoords": [
           {
            "line": {
             "colorbar": {
              "outlinewidth": 0,
              "ticks": ""
             }
            },
            "type": "parcoords"
           }
          ],
          "pie": [
           {
            "automargin": true,
            "type": "pie"
           }
          ],
          "scatter": [
           {
            "fillpattern": {
             "fillmode": "overlay",
             "size": 10,
             "solidity": 0.2
            },
            "type": "scatter"
           }
          ],
          "scatter3d": [
           {
            "line": {
             "colorbar": {
              "outlinewidth": 0,
              "ticks": ""
             }
            },
            "marker": {
             "colorbar": {
              "outlinewidth": 0,
              "ticks": ""
             }
            },
            "type": "scatter3d"
           }
          ],
          "scattercarpet": [
           {
            "marker": {
             "colorbar": {
              "outlinewidth": 0,
              "ticks": ""
             }
            },
            "type": "scattercarpet"
           }
          ],
          "scattergeo": [
           {
            "marker": {
             "colorbar": {
              "outlinewidth": 0,
              "ticks": ""
             }
            },
            "type": "scattergeo"
           }
          ],
          "scattergl": [
           {
            "marker": {
             "colorbar": {
              "outlinewidth": 0,
              "ticks": ""
             }
            },
            "type": "scattergl"
           }
          ],
          "scattermapbox": [
           {
            "marker": {
             "colorbar": {
              "outlinewidth": 0,
              "ticks": ""
             }
            },
            "type": "scattermapbox"
           }
          ],
          "scatterpolar": [
           {
            "marker": {
             "colorbar": {
              "outlinewidth": 0,
              "ticks": ""
             }
            },
            "type": "scatterpolar"
           }
          ],
          "scatterpolargl": [
           {
            "marker": {
             "colorbar": {
              "outlinewidth": 0,
              "ticks": ""
             }
            },
            "type": "scatterpolargl"
           }
          ],
          "scatterternary": [
           {
            "marker": {
             "colorbar": {
              "outlinewidth": 0,
              "ticks": ""
             }
            },
            "type": "scatterternary"
           }
          ],
          "surface": [
           {
            "colorbar": {
             "outlinewidth": 0,
             "ticks": ""
            },
            "colorscale": [
             [
              0,
              "#0d0887"
             ],
             [
              0.1111111111111111,
              "#46039f"
             ],
             [
              0.2222222222222222,
              "#7201a8"
             ],
             [
              0.3333333333333333,
              "#9c179e"
             ],
             [
              0.4444444444444444,
              "#bd3786"
             ],
             [
              0.5555555555555556,
              "#d8576b"
             ],
             [
              0.6666666666666666,
              "#ed7953"
             ],
             [
              0.7777777777777778,
              "#fb9f3a"
             ],
             [
              0.8888888888888888,
              "#fdca26"
             ],
             [
              1,
              "#f0f921"
             ]
            ],
            "type": "surface"
           }
          ],
          "table": [
           {
            "cells": {
             "fill": {
              "color": "#EBF0F8"
             },
             "line": {
              "color": "white"
             }
            },
            "header": {
             "fill": {
              "color": "#C8D4E3"
             },
             "line": {
              "color": "white"
             }
            },
            "type": "table"
           }
          ]
         },
         "layout": {
          "annotationdefaults": {
           "arrowcolor": "#2a3f5f",
           "arrowhead": 0,
           "arrowwidth": 1
          },
          "autotypenumbers": "strict",
          "coloraxis": {
           "colorbar": {
            "outlinewidth": 0,
            "ticks": ""
           }
          },
          "colorscale": {
           "diverging": [
            [
             0,
             "#8e0152"
            ],
            [
             0.1,
             "#c51b7d"
            ],
            [
             0.2,
             "#de77ae"
            ],
            [
             0.3,
             "#f1b6da"
            ],
            [
             0.4,
             "#fde0ef"
            ],
            [
             0.5,
             "#f7f7f7"
            ],
            [
             0.6,
             "#e6f5d0"
            ],
            [
             0.7,
             "#b8e186"
            ],
            [
             0.8,
             "#7fbc41"
            ],
            [
             0.9,
             "#4d9221"
            ],
            [
             1,
             "#276419"
            ]
           ],
           "sequential": [
            [
             0,
             "#0d0887"
            ],
            [
             0.1111111111111111,
             "#46039f"
            ],
            [
             0.2222222222222222,
             "#7201a8"
            ],
            [
             0.3333333333333333,
             "#9c179e"
            ],
            [
             0.4444444444444444,
             "#bd3786"
            ],
            [
             0.5555555555555556,
             "#d8576b"
            ],
            [
             0.6666666666666666,
             "#ed7953"
            ],
            [
             0.7777777777777778,
             "#fb9f3a"
            ],
            [
             0.8888888888888888,
             "#fdca26"
            ],
            [
             1,
             "#f0f921"
            ]
           ],
           "sequentialminus": [
            [
             0,
             "#0d0887"
            ],
            [
             0.1111111111111111,
             "#46039f"
            ],
            [
             0.2222222222222222,
             "#7201a8"
            ],
            [
             0.3333333333333333,
             "#9c179e"
            ],
            [
             0.4444444444444444,
             "#bd3786"
            ],
            [
             0.5555555555555556,
             "#d8576b"
            ],
            [
             0.6666666666666666,
             "#ed7953"
            ],
            [
             0.7777777777777778,
             "#fb9f3a"
            ],
            [
             0.8888888888888888,
             "#fdca26"
            ],
            [
             1,
             "#f0f921"
            ]
           ]
          },
          "colorway": [
           "#636efa",
           "#EF553B",
           "#00cc96",
           "#ab63fa",
           "#FFA15A",
           "#19d3f3",
           "#FF6692",
           "#B6E880",
           "#FF97FF",
           "#FECB52"
          ],
          "font": {
           "color": "#2a3f5f"
          },
          "geo": {
           "bgcolor": "white",
           "lakecolor": "white",
           "landcolor": "#E5ECF6",
           "showlakes": true,
           "showland": true,
           "subunitcolor": "white"
          },
          "hoverlabel": {
           "align": "left"
          },
          "hovermode": "closest",
          "mapbox": {
           "style": "light"
          },
          "paper_bgcolor": "white",
          "plot_bgcolor": "#E5ECF6",
          "polar": {
           "angularaxis": {
            "gridcolor": "white",
            "linecolor": "white",
            "ticks": ""
           },
           "bgcolor": "#E5ECF6",
           "radialaxis": {
            "gridcolor": "white",
            "linecolor": "white",
            "ticks": ""
           }
          },
          "scene": {
           "xaxis": {
            "backgroundcolor": "#E5ECF6",
            "gridcolor": "white",
            "gridwidth": 2,
            "linecolor": "white",
            "showbackground": true,
            "ticks": "",
            "zerolinecolor": "white"
           },
           "yaxis": {
            "backgroundcolor": "#E5ECF6",
            "gridcolor": "white",
            "gridwidth": 2,
            "linecolor": "white",
            "showbackground": true,
            "ticks": "",
            "zerolinecolor": "white"
           },
           "zaxis": {
            "backgroundcolor": "#E5ECF6",
            "gridcolor": "white",
            "gridwidth": 2,
            "linecolor": "white",
            "showbackground": true,
            "ticks": "",
            "zerolinecolor": "white"
           }
          },
          "shapedefaults": {
           "line": {
            "color": "#2a3f5f"
           }
          },
          "ternary": {
           "aaxis": {
            "gridcolor": "white",
            "linecolor": "white",
            "ticks": ""
           },
           "baxis": {
            "gridcolor": "white",
            "linecolor": "white",
            "ticks": ""
           },
           "bgcolor": "#E5ECF6",
           "caxis": {
            "gridcolor": "white",
            "linecolor": "white",
            "ticks": ""
           }
          },
          "title": {
           "x": 0.05
          },
          "xaxis": {
           "automargin": true,
           "gridcolor": "white",
           "linecolor": "white",
           "ticks": "",
           "title": {
            "standoff": 15
           },
           "zerolinecolor": "white",
           "zerolinewidth": 2
          },
          "yaxis": {
           "automargin": true,
           "gridcolor": "white",
           "linecolor": "white",
           "ticks": "",
           "title": {
            "standoff": 15
           },
           "zerolinecolor": "white",
           "zerolinewidth": 2
          }
         }
        },
        "title": {
         "text": "Total"
        },
        "width": 800
       }
      }
     },
     "metadata": {},
     "output_type": "display_data"
    }
   ],
   "source": [
    "import plotly.express as px\n",
    "\n",
    "fig = px.sunburst(df, path=['Q', 'A'], values=[1]*len(df), color='B',\n",
    "                  color_discrete_map={'O': 'green', 'X': 'red'})\n",
    "fig.update_layout(height=600, width=800, title_text=\"Total\")\n",
    "fig.show()\n",
    "\n"
   ]
  },
  {
   "cell_type": "code",
   "execution_count": null,
   "metadata": {},
   "outputs": [],
   "source": []
  },
  {
   "cell_type": "code",
   "execution_count": null,
   "metadata": {},
   "outputs": [],
   "source": []
  },
  {
   "cell_type": "code",
   "execution_count": 12,
   "metadata": {},
   "outputs": [
    {
     "data": {
      "application/vnd.plotly.v1+json": {
       "config": {
        "plotlyServerURL": "https://plot.ly"
       },
       "data": [
        {
         "domain": {
          "x": [
           0,
           0.45
          ],
          "y": [
           0,
           1
          ]
         },
         "labels": [
          "ピンク",
          "青",
          "オレンジ",
          "茶",
          "紫",
          "ピンク",
          "紫",
          "赤",
          "青",
          "オレンジ",
          "赤",
          "青",
          "黄",
          "ピンク",
          "赤",
          "青",
          "ピンク",
          "オレンジ",
          "ピンク",
          "黒",
          "青",
          "黒",
          "茶",
          "黄",
          "赤",
          "オレンジ",
          "赤",
          "黄",
          "赤",
          "緑",
          "ピンク",
          "青",
          "オレンジ",
          "茶",
          "紫",
          "ピンク",
          "紫",
          "赤",
          "青",
          "オレンジ",
          "赤",
          "青",
          "黄",
          "ピンク",
          "赤",
          "青",
          "ピンク",
          "オレンジ",
          "ピンク",
          "黒",
          "青",
          "黒",
          "茶",
          "黄",
          "赤",
          "オレンジ",
          "赤",
          "黄",
          "赤",
          "緑",
          "オレンジ",
          "赤",
          "黄",
          "オレンジ",
          "赤",
          "オレンジ",
          "赤",
          "ピンク",
          "茶",
          "黄",
          "青",
          "赤",
          "緑",
          "ピンク",
          "青",
          "黒",
          "ピンク",
          "青",
          "ピンク",
          "青",
          "黄",
          "ピンク",
          "赤",
          "茶",
          "青",
          "オレンジ",
          "緑",
          "オレンジ",
          "黒",
          "茶",
          "緑",
          "黄",
          "オレンジ",
          "青",
          "黒",
          "オレンジ",
          "黄",
          "紫",
          "ピンク",
          "オレンジ",
          "緑",
          "ピンク",
          "茶",
          "黄",
          "緑",
          "青",
          "オレンジ",
          "茶",
          "オレンジ",
          "緑",
          "紫",
          "青",
          "オレンジ",
          "茶",
          "緑",
          "黄",
          "黒",
          "紫",
          "オレンジ",
          "黄",
          "緑",
          "茶",
          "青",
          "緑",
          "赤",
          "青",
          "茶",
          "緑",
          "黄",
          "紫",
          "オレンジ",
          "黄",
          "オレンジ",
          "茶",
          "青",
          "茶",
          "赤",
          "オレンジ",
          "緑",
          "黒",
          "黄",
          "ピンク",
          "茶",
          "青",
          "黒",
          "青",
          "赤",
          "緑",
          "黒",
          "紫"
         ],
         "parents": [
          "緑",
          "青",
          "赤",
          "茶",
          "緑",
          "緑",
          "緑",
          "赤",
          "赤",
          "オレンジ",
          "赤",
          "青",
          "黄",
          "ピンク",
          "赤",
          "黄",
          "ピンク",
          "オレンジ",
          "ピンク",
          "黒",
          "青",
          "黒",
          "茶",
          "黄",
          "赤",
          "オレンジ",
          "緑",
          "黄",
          "赤",
          "緑",
          "ピンク",
          "緑",
          "オレンジ",
          "茶",
          "紫",
          "ピンク",
          "緑",
          "オレンジ",
          "青",
          "オレンジ",
          "黄",
          "緑",
          "黄",
          "ピンク",
          "赤",
          "青",
          "ピンク",
          "オレンジ",
          "ピンク",
          "黄",
          "青",
          "黄",
          "茶",
          "黄",
          "赤",
          "オレンジ",
          "赤",
          "黄",
          "赤",
          "緑",
          "オレンジ",
          "紫",
          "紫",
          "オレンジ",
          "紫",
          "茶",
          "赤",
          "茶",
          "青",
          "オレンジ",
          "紫",
          "緑",
          "緑",
          "青",
          "黒",
          "黒",
          "緑",
          "紫",
          "黒",
          "黒",
          "ピンク",
          "青",
          "緑",
          "緑",
          "ピンク",
          "黒",
          "赤",
          "オレンジ",
          "黒",
          "オレンジ",
          "黒",
          "オレンジ",
          "紫",
          "青",
          "オレンジ",
          "ピンク",
          "黄",
          "青",
          "赤",
          "オレンジ",
          "紫",
          "黄",
          "紫",
          "紫",
          "茶",
          "ピンク",
          "茶",
          "緑",
          "黒",
          "黒",
          "紫",
          "緑",
          "紫",
          "茶",
          "黄",
          "赤",
          "紫",
          "青",
          "ピンク",
          "赤",
          "緑",
          "紫",
          "青",
          "茶",
          "赤",
          "オレンジ",
          "茶",
          "青",
          "紫",
          "緑",
          "茶",
          "茶",
          "茶",
          "緑",
          "緑",
          "紫",
          "黄",
          "茶",
          "紫",
          "黒",
          "黄",
          "青",
          "黒",
          "オレンジ",
          "オレンジ",
          "青",
          "黒",
          "紫",
          "ピンク",
          "赤"
         ],
         "type": "sunburst",
         "values": [
          1,
          1,
          1,
          1,
          1,
          1,
          1,
          1,
          1,
          1,
          1,
          1,
          1,
          1,
          1,
          1,
          1,
          1,
          1,
          1,
          1,
          1,
          1,
          1,
          1,
          1,
          1,
          1,
          1,
          1,
          1,
          1,
          1,
          1,
          1,
          1,
          1,
          1,
          1,
          1,
          1,
          1,
          1,
          1,
          1,
          1,
          1,
          1,
          1,
          1,
          1,
          1,
          1,
          1,
          1,
          1,
          1,
          1,
          1,
          1,
          1,
          1,
          1,
          1,
          1,
          1,
          1,
          1,
          1,
          1,
          1,
          1,
          1,
          1,
          1,
          1,
          1,
          1,
          1,
          1,
          1,
          1,
          1,
          1,
          1,
          1,
          1,
          1,
          1,
          1,
          1,
          1,
          1,
          1,
          1,
          1,
          1,
          1,
          1,
          1,
          1,
          1,
          1,
          1,
          1,
          1,
          1,
          1,
          1,
          1,
          1,
          1,
          1,
          1,
          1,
          1,
          1,
          1,
          1,
          1,
          1,
          1,
          1,
          1,
          1,
          1,
          1,
          1,
          1,
          1,
          1,
          1,
          1,
          1,
          1,
          1,
          1,
          1,
          1,
          1,
          1,
          1,
          1,
          1,
          1,
          1,
          1,
          1,
          1,
          1
         ]
        }
       ],
       "layout": {
        "height": 600,
        "template": {
         "data": {
          "bar": [
           {
            "error_x": {
             "color": "#2a3f5f"
            },
            "error_y": {
             "color": "#2a3f5f"
            },
            "marker": {
             "line": {
              "color": "#E5ECF6",
              "width": 0.5
             },
             "pattern": {
              "fillmode": "overlay",
              "size": 10,
              "solidity": 0.2
             }
            },
            "type": "bar"
           }
          ],
          "barpolar": [
           {
            "marker": {
             "line": {
              "color": "#E5ECF6",
              "width": 0.5
             },
             "pattern": {
              "fillmode": "overlay",
              "size": 10,
              "solidity": 0.2
             }
            },
            "type": "barpolar"
           }
          ],
          "carpet": [
           {
            "aaxis": {
             "endlinecolor": "#2a3f5f",
             "gridcolor": "white",
             "linecolor": "white",
             "minorgridcolor": "white",
             "startlinecolor": "#2a3f5f"
            },
            "baxis": {
             "endlinecolor": "#2a3f5f",
             "gridcolor": "white",
             "linecolor": "white",
             "minorgridcolor": "white",
             "startlinecolor": "#2a3f5f"
            },
            "type": "carpet"
           }
          ],
          "choropleth": [
           {
            "colorbar": {
             "outlinewidth": 0,
             "ticks": ""
            },
            "type": "choropleth"
           }
          ],
          "contour": [
           {
            "colorbar": {
             "outlinewidth": 0,
             "ticks": ""
            },
            "colorscale": [
             [
              0,
              "#0d0887"
             ],
             [
              0.1111111111111111,
              "#46039f"
             ],
             [
              0.2222222222222222,
              "#7201a8"
             ],
             [
              0.3333333333333333,
              "#9c179e"
             ],
             [
              0.4444444444444444,
              "#bd3786"
             ],
             [
              0.5555555555555556,
              "#d8576b"
             ],
             [
              0.6666666666666666,
              "#ed7953"
             ],
             [
              0.7777777777777778,
              "#fb9f3a"
             ],
             [
              0.8888888888888888,
              "#fdca26"
             ],
             [
              1,
              "#f0f921"
             ]
            ],
            "type": "contour"
           }
          ],
          "contourcarpet": [
           {
            "colorbar": {
             "outlinewidth": 0,
             "ticks": ""
            },
            "type": "contourcarpet"
           }
          ],
          "heatmap": [
           {
            "colorbar": {
             "outlinewidth": 0,
             "ticks": ""
            },
            "colorscale": [
             [
              0,
              "#0d0887"
             ],
             [
              0.1111111111111111,
              "#46039f"
             ],
             [
              0.2222222222222222,
              "#7201a8"
             ],
             [
              0.3333333333333333,
              "#9c179e"
             ],
             [
              0.4444444444444444,
              "#bd3786"
             ],
             [
              0.5555555555555556,
              "#d8576b"
             ],
             [
              0.6666666666666666,
              "#ed7953"
             ],
             [
              0.7777777777777778,
              "#fb9f3a"
             ],
             [
              0.8888888888888888,
              "#fdca26"
             ],
             [
              1,
              "#f0f921"
             ]
            ],
            "type": "heatmap"
           }
          ],
          "heatmapgl": [
           {
            "colorbar": {
             "outlinewidth": 0,
             "ticks": ""
            },
            "colorscale": [
             [
              0,
              "#0d0887"
             ],
             [
              0.1111111111111111,
              "#46039f"
             ],
             [
              0.2222222222222222,
              "#7201a8"
             ],
             [
              0.3333333333333333,
              "#9c179e"
             ],
             [
              0.4444444444444444,
              "#bd3786"
             ],
             [
              0.5555555555555556,
              "#d8576b"
             ],
             [
              0.6666666666666666,
              "#ed7953"
             ],
             [
              0.7777777777777778,
              "#fb9f3a"
             ],
             [
              0.8888888888888888,
              "#fdca26"
             ],
             [
              1,
              "#f0f921"
             ]
            ],
            "type": "heatmapgl"
           }
          ],
          "histogram": [
           {
            "marker": {
             "pattern": {
              "fillmode": "overlay",
              "size": 10,
              "solidity": 0.2
             }
            },
            "type": "histogram"
           }
          ],
          "histogram2d": [
           {
            "colorbar": {
             "outlinewidth": 0,
             "ticks": ""
            },
            "colorscale": [
             [
              0,
              "#0d0887"
             ],
             [
              0.1111111111111111,
              "#46039f"
             ],
             [
              0.2222222222222222,
              "#7201a8"
             ],
             [
              0.3333333333333333,
              "#9c179e"
             ],
             [
              0.4444444444444444,
              "#bd3786"
             ],
             [
              0.5555555555555556,
              "#d8576b"
             ],
             [
              0.6666666666666666,
              "#ed7953"
             ],
             [
              0.7777777777777778,
              "#fb9f3a"
             ],
             [
              0.8888888888888888,
              "#fdca26"
             ],
             [
              1,
              "#f0f921"
             ]
            ],
            "type": "histogram2d"
           }
          ],
          "histogram2dcontour": [
           {
            "colorbar": {
             "outlinewidth": 0,
             "ticks": ""
            },
            "colorscale": [
             [
              0,
              "#0d0887"
             ],
             [
              0.1111111111111111,
              "#46039f"
             ],
             [
              0.2222222222222222,
              "#7201a8"
             ],
             [
              0.3333333333333333,
              "#9c179e"
             ],
             [
              0.4444444444444444,
              "#bd3786"
             ],
             [
              0.5555555555555556,
              "#d8576b"
             ],
             [
              0.6666666666666666,
              "#ed7953"
             ],
             [
              0.7777777777777778,
              "#fb9f3a"
             ],
             [
              0.8888888888888888,
              "#fdca26"
             ],
             [
              1,
              "#f0f921"
             ]
            ],
            "type": "histogram2dcontour"
           }
          ],
          "mesh3d": [
           {
            "colorbar": {
             "outlinewidth": 0,
             "ticks": ""
            },
            "type": "mesh3d"
           }
          ],
          "parcoords": [
           {
            "line": {
             "colorbar": {
              "outlinewidth": 0,
              "ticks": ""
             }
            },
            "type": "parcoords"
           }
          ],
          "pie": [
           {
            "automargin": true,
            "type": "pie"
           }
          ],
          "scatter": [
           {
            "fillpattern": {
             "fillmode": "overlay",
             "size": 10,
             "solidity": 0.2
            },
            "type": "scatter"
           }
          ],
          "scatter3d": [
           {
            "line": {
             "colorbar": {
              "outlinewidth": 0,
              "ticks": ""
             }
            },
            "marker": {
             "colorbar": {
              "outlinewidth": 0,
              "ticks": ""
             }
            },
            "type": "scatter3d"
           }
          ],
          "scattercarpet": [
           {
            "marker": {
             "colorbar": {
              "outlinewidth": 0,
              "ticks": ""
             }
            },
            "type": "scattercarpet"
           }
          ],
          "scattergeo": [
           {
            "marker": {
             "colorbar": {
              "outlinewidth": 0,
              "ticks": ""
             }
            },
            "type": "scattergeo"
           }
          ],
          "scattergl": [
           {
            "marker": {
             "colorbar": {
              "outlinewidth": 0,
              "ticks": ""
             }
            },
            "type": "scattergl"
           }
          ],
          "scattermapbox": [
           {
            "marker": {
             "colorbar": {
              "outlinewidth": 0,
              "ticks": ""
             }
            },
            "type": "scattermapbox"
           }
          ],
          "scatterpolar": [
           {
            "marker": {
             "colorbar": {
              "outlinewidth": 0,
              "ticks": ""
             }
            },
            "type": "scatterpolar"
           }
          ],
          "scatterpolargl": [
           {
            "marker": {
             "colorbar": {
              "outlinewidth": 0,
              "ticks": ""
             }
            },
            "type": "scatterpolargl"
           }
          ],
          "scatterternary": [
           {
            "marker": {
             "colorbar": {
              "outlinewidth": 0,
              "ticks": ""
             }
            },
            "type": "scatterternary"
           }
          ],
          "surface": [
           {
            "colorbar": {
             "outlinewidth": 0,
             "ticks": ""
            },
            "colorscale": [
             [
              0,
              "#0d0887"
             ],
             [
              0.1111111111111111,
              "#46039f"
             ],
             [
              0.2222222222222222,
              "#7201a8"
             ],
             [
              0.3333333333333333,
              "#9c179e"
             ],
             [
              0.4444444444444444,
              "#bd3786"
             ],
             [
              0.5555555555555556,
              "#d8576b"
             ],
             [
              0.6666666666666666,
              "#ed7953"
             ],
             [
              0.7777777777777778,
              "#fb9f3a"
             ],
             [
              0.8888888888888888,
              "#fdca26"
             ],
             [
              1,
              "#f0f921"
             ]
            ],
            "type": "surface"
           }
          ],
          "table": [
           {
            "cells": {
             "fill": {
              "color": "#EBF0F8"
             },
             "line": {
              "color": "white"
             }
            },
            "header": {
             "fill": {
              "color": "#C8D4E3"
             },
             "line": {
              "color": "white"
             }
            },
            "type": "table"
           }
          ]
         },
         "layout": {
          "annotationdefaults": {
           "arrowcolor": "#2a3f5f",
           "arrowhead": 0,
           "arrowwidth": 1
          },
          "autotypenumbers": "strict",
          "coloraxis": {
           "colorbar": {
            "outlinewidth": 0,
            "ticks": ""
           }
          },
          "colorscale": {
           "diverging": [
            [
             0,
             "#8e0152"
            ],
            [
             0.1,
             "#c51b7d"
            ],
            [
             0.2,
             "#de77ae"
            ],
            [
             0.3,
             "#f1b6da"
            ],
            [
             0.4,
             "#fde0ef"
            ],
            [
             0.5,
             "#f7f7f7"
            ],
            [
             0.6,
             "#e6f5d0"
            ],
            [
             0.7,
             "#b8e186"
            ],
            [
             0.8,
             "#7fbc41"
            ],
            [
             0.9,
             "#4d9221"
            ],
            [
             1,
             "#276419"
            ]
           ],
           "sequential": [
            [
             0,
             "#0d0887"
            ],
            [
             0.1111111111111111,
             "#46039f"
            ],
            [
             0.2222222222222222,
             "#7201a8"
            ],
            [
             0.3333333333333333,
             "#9c179e"
            ],
            [
             0.4444444444444444,
             "#bd3786"
            ],
            [
             0.5555555555555556,
             "#d8576b"
            ],
            [
             0.6666666666666666,
             "#ed7953"
            ],
            [
             0.7777777777777778,
             "#fb9f3a"
            ],
            [
             0.8888888888888888,
             "#fdca26"
            ],
            [
             1,
             "#f0f921"
            ]
           ],
           "sequentialminus": [
            [
             0,
             "#0d0887"
            ],
            [
             0.1111111111111111,
             "#46039f"
            ],
            [
             0.2222222222222222,
             "#7201a8"
            ],
            [
             0.3333333333333333,
             "#9c179e"
            ],
            [
             0.4444444444444444,
             "#bd3786"
            ],
            [
             0.5555555555555556,
             "#d8576b"
            ],
            [
             0.6666666666666666,
             "#ed7953"
            ],
            [
             0.7777777777777778,
             "#fb9f3a"
            ],
            [
             0.8888888888888888,
             "#fdca26"
            ],
            [
             1,
             "#f0f921"
            ]
           ]
          },
          "colorway": [
           "#636efa",
           "#EF553B",
           "#00cc96",
           "#ab63fa",
           "#FFA15A",
           "#19d3f3",
           "#FF6692",
           "#B6E880",
           "#FF97FF",
           "#FECB52"
          ],
          "font": {
           "color": "#2a3f5f"
          },
          "geo": {
           "bgcolor": "white",
           "lakecolor": "white",
           "landcolor": "#E5ECF6",
           "showlakes": true,
           "showland": true,
           "subunitcolor": "white"
          },
          "hoverlabel": {
           "align": "left"
          },
          "hovermode": "closest",
          "mapbox": {
           "style": "light"
          },
          "paper_bgcolor": "white",
          "plot_bgcolor": "#E5ECF6",
          "polar": {
           "angularaxis": {
            "gridcolor": "white",
            "linecolor": "white",
            "ticks": ""
           },
           "bgcolor": "#E5ECF6",
           "radialaxis": {
            "gridcolor": "white",
            "linecolor": "white",
            "ticks": ""
           }
          },
          "scene": {
           "xaxis": {
            "backgroundcolor": "#E5ECF6",
            "gridcolor": "white",
            "gridwidth": 2,
            "linecolor": "white",
            "showbackground": true,
            "ticks": "",
            "zerolinecolor": "white"
           },
           "yaxis": {
            "backgroundcolor": "#E5ECF6",
            "gridcolor": "white",
            "gridwidth": 2,
            "linecolor": "white",
            "showbackground": true,
            "ticks": "",
            "zerolinecolor": "white"
           },
           "zaxis": {
            "backgroundcolor": "#E5ECF6",
            "gridcolor": "white",
            "gridwidth": 2,
            "linecolor": "white",
            "showbackground": true,
            "ticks": "",
            "zerolinecolor": "white"
           }
          },
          "shapedefaults": {
           "line": {
            "color": "#2a3f5f"
           }
          },
          "ternary": {
           "aaxis": {
            "gridcolor": "white",
            "linecolor": "white",
            "ticks": ""
           },
           "baxis": {
            "gridcolor": "white",
            "linecolor": "white",
            "ticks": ""
           },
           "bgcolor": "#E5ECF6",
           "caxis": {
            "gridcolor": "white",
            "linecolor": "white",
            "ticks": ""
           }
          },
          "title": {
           "x": 0.05
          },
          "xaxis": {
           "automargin": true,
           "gridcolor": "white",
           "linecolor": "white",
           "ticks": "",
           "title": {
            "standoff": 15
           },
           "zerolinecolor": "white",
           "zerolinewidth": 2
          },
          "yaxis": {
           "automargin": true,
           "gridcolor": "white",
           "linecolor": "white",
           "ticks": "",
           "title": {
            "standoff": 15
           },
           "zerolinecolor": "white",
           "zerolinewidth": 2
          }
         }
        },
        "title": {
         "text": "Two Sunburst Charts"
        },
        "width": 800
       }
      }
     },
     "metadata": {},
     "output_type": "display_data"
    }
   ],
   "source": [
    "import plotly.graph_objects as go\n",
    "import plotly.subplots as sp\n",
    "fig = sp.make_subplots(rows=1, cols=2, specs=[[{'type': 'sunburst'}, {'type': 'sunburst'}]])\n",
    "\n",
    "fig.add_trace(go.Sunburst(labels=df['Q'], parents=df['A'], values=[1]*len(df)), row=1, col=1)\n",
    "# fig.add_trace(go.Sunburst(labels=df2['Q'], parents=df2['A'], values=[1]*len(df2)), row=1, col=2)\n",
    "\n",
    "fig.update_layout(height=600, width=800, title_text=\"Two Sunburst Charts\")\n",
    "fig.show()\n"
   ]
  },
  {
   "cell_type": "code",
   "execution_count": null,
   "metadata": {},
   "outputs": [],
   "source": []
  },
  {
   "cell_type": "code",
   "execution_count": null,
   "metadata": {},
   "outputs": [],
   "source": []
  },
  {
   "cell_type": "code",
   "execution_count": null,
   "metadata": {},
   "outputs": [],
   "source": []
  },
  {
   "cell_type": "code",
   "execution_count": null,
   "metadata": {},
   "outputs": [],
   "source": []
  },
  {
   "attachments": {},
   "cell_type": "markdown",
   "metadata": {},
   "source": [
    "# 音別正答率の折れ線グラフ日付で"
   ]
  },
  {
   "cell_type": "code",
   "execution_count": null,
   "metadata": {},
   "outputs": [],
   "source": []
  },
  {
   "cell_type": "code",
   "execution_count": null,
   "metadata": {},
   "outputs": [],
   "source": []
  },
  {
   "cell_type": "code",
   "execution_count": null,
   "metadata": {},
   "outputs": [],
   "source": []
  },
  {
   "cell_type": "code",
   "execution_count": null,
   "metadata": {},
   "outputs": [],
   "source": []
  }
 ],
 "metadata": {
  "kernelspec": {
   "display_name": "pymol",
   "language": "python",
   "name": "python3"
  },
  "language_info": {
   "codemirror_mode": {
    "name": "ipython",
    "version": 3
   },
   "file_extension": ".py",
   "mimetype": "text/x-python",
   "name": "python",
   "nbconvert_exporter": "python",
   "pygments_lexer": "ipython3",
   "version": "3.10.6"
  },
  "orig_nbformat": 4,
  "vscode": {
   "interpreter": {
    "hash": "ccd261da9c8ca32c8405b2975246cd7ab0f3455db7e03ddf16b51d50dde3d20e"
   }
  }
 },
 "nbformat": 4,
 "nbformat_minor": 2
}
