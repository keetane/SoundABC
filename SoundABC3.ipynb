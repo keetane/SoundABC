{
 "cells": [
  {
   "attachments": {},
   "cell_type": "markdown",
   "metadata": {},
   "source": [
    "# カラー&サウンド定義"
   ]
  },
  {
   "cell_type": "code",
   "execution_count": 3,
   "metadata": {},
   "outputs": [],
   "source": [
    "from playsound import playsound as ps\n",
    "\n",
    "color_dic =  {\n",
    "    '赤' : 'red',\n",
    "    '黄' : 'yellow',\n",
    "    '青' : 'blue',\n",
    "    '黒' : 'black',\n",
    "    'オレンジ' : 'orange',\n",
    "    '紫' : 'purple',\n",
    "    'ピンク' : 'pink',\n",
    "    '緑' : 'green',\n",
    "    '茶' : 'brown',\n",
    "}\n",
    "color_j = dict(zip(range(1,len(color_dic)+1), list(color_dic.keys())))\n",
    "color_j[0] = 'もう一度聞く'\n",
    "color_e = dict(zip(range(1,len(color_dic)+1), list(color_dic.values())))\n",
    "\n",
    "def sound(x):\n",
    "    ps('sound/{}.mp3'.format(color_dic[df.iloc[x,1]]))\n"
   ]
  },
  {
   "attachments": {},
   "cell_type": "markdown",
   "metadata": {},
   "source": [
    "# 新しいゲーム作成"
   ]
  },
  {
   "cell_type": "code",
   "execution_count": 4,
   "metadata": {},
   "outputs": [
    {
     "ename": "NameError",
     "evalue": "name 'datetime' is not defined",
     "output_type": "error",
     "traceback": [
      "\u001b[0;31m---------------------------------------------------------------------------\u001b[0m",
      "\u001b[0;31mNameError\u001b[0m                                 Traceback (most recent call last)",
      "\u001b[1;32m/Users/keetane/Documents/SoundABC/SoundABC3.ipynb Cell 4\u001b[0m in \u001b[0;36m<cell line: 16>\u001b[0;34m()\u001b[0m\n\u001b[1;32m     <a href='vscode-notebook-cell:/Users/keetane/Documents/SoundABC/SoundABC3.ipynb#W3sZmlsZQ%3D%3D?line=12'>13</a>\u001b[0m df[\u001b[39m'\u001b[39m\u001b[39mQ\u001b[39m\u001b[39m'\u001b[39m] \u001b[39m=\u001b[39m [first]\n\u001b[1;32m     <a href='vscode-notebook-cell:/Users/keetane/Documents/SoundABC/SoundABC3.ipynb#W3sZmlsZQ%3D%3D?line=14'>15</a>\u001b[0m \u001b[39m# 日付を代入してDatetimeIndexに変更\u001b[39;00m\n\u001b[0;32m---> <a href='vscode-notebook-cell:/Users/keetane/Documents/SoundABC/SoundABC3.ipynb#W3sZmlsZQ%3D%3D?line=15'>16</a>\u001b[0m df[\u001b[39m'\u001b[39m\u001b[39mdatetime\u001b[39m\u001b[39m'\u001b[39m] \u001b[39m=\u001b[39m datetime\u001b[39m.\u001b[39mdatetime\u001b[39m.\u001b[39mnow()\u001b[39m.\u001b[39mstrftime(\u001b[39m'\u001b[39m\u001b[39m%\u001b[39m\u001b[39mY-\u001b[39m\u001b[39m%\u001b[39m\u001b[39mm-\u001b[39m\u001b[39m%d\u001b[39;00m\u001b[39m \u001b[39m\u001b[39m%\u001b[39m\u001b[39mH:\u001b[39m\u001b[39m%\u001b[39m\u001b[39mM:\u001b[39m\u001b[39m%\u001b[39m\u001b[39mS\u001b[39m\u001b[39m'\u001b[39m)\n\u001b[1;32m     <a href='vscode-notebook-cell:/Users/keetane/Documents/SoundABC/SoundABC3.ipynb#W3sZmlsZQ%3D%3D?line=16'>17</a>\u001b[0m df[\u001b[39m'\u001b[39m\u001b[39mdatetime\u001b[39m\u001b[39m'\u001b[39m] \u001b[39m=\u001b[39m pd\u001b[39m.\u001b[39mto_datetime(df[\u001b[39m'\u001b[39m\u001b[39mdatetime\u001b[39m\u001b[39m'\u001b[39m])\n\u001b[1;32m     <a href='vscode-notebook-cell:/Users/keetane/Documents/SoundABC/SoundABC3.ipynb#W3sZmlsZQ%3D%3D?line=17'>18</a>\u001b[0m df\u001b[39m.\u001b[39mset_index(\u001b[39m'\u001b[39m\u001b[39mdatetime\u001b[39m\u001b[39m'\u001b[39m, inplace\u001b[39m=\u001b[39m\u001b[39mTrue\u001b[39;00m)\n",
      "\u001b[0;31mNameError\u001b[0m: name 'datetime' is not defined"
     ]
    }
   ],
   "source": [
    "#　自動上書きされるので注意\n",
    "import pandas as pd\n",
    "pd.set_option('display.max_columns', None)\n",
    "import random\n",
    "\n",
    "# 問題の作成\n",
    "# カラムの作成\n",
    "col = ['Today'] + ['session'] + ['Q'] + ['A'] + ['B'] + ['datetime']\n",
    "df = pd.DataFrame(columns=col)\n",
    "\n",
    "# 色をランダムに一つ選択して代入\n",
    "first =  random.choice(list(color_dic.keys()))\n",
    "df['Q'] = [first]\n",
    "\n",
    "# 日付を代入してDatetimeIndexに変更\n",
    "df['datetime'] = datetime.datetime.now().strftime('%Y-%m-%d %H:%M:%S')\n",
    "df['datetime'] = pd.to_datetime(df['datetime'])\n",
    "df.set_index('datetime', inplace=True)\n",
    "\n",
    "print('new game name?')\n",
    "\n",
    "game_name = input('new game name?')\n",
    "file_name = game_name + str('.csv')\n",
    "df.to_csv('games/' + file_name)\n",
    "print\n",
    "print(\"New game '\" + file_name + \"' was created\")"
   ]
  },
  {
   "cell_type": "code",
   "execution_count": null,
   "metadata": {},
   "outputs": [],
   "source": []
  },
  {
   "attachments": {},
   "cell_type": "markdown",
   "metadata": {},
   "source": [
    "# 遊ぶゲームを選ぶ"
   ]
  },
  {
   "cell_type": "code",
   "execution_count": 450,
   "metadata": {},
   "outputs": [
    {
     "name": "stdout",
     "output_type": "stream",
     "text": [
      "どのゲームで遊ぶ？\n",
      "\n",
      "{1: 'games/keetane.csv', 2: 'games/chisa.csv', 3: 'games/test.csv', 4: 'games/hajime.csv'}\n",
      "\n",
      "testで遊びます\n"
     ]
    }
   ],
   "source": [
    "import pandas as pd\n",
    "pd.set_option('display.max_columns', None)\n",
    "import glob\n",
    "\n",
    "games = glob.glob('games/*.csv')\n",
    "games_dict = dict(zip(range(1,len(games)+1), games))\n",
    "\n",
    "print('どのゲームで遊ぶ？\\n')\n",
    "print(games_dict)\n",
    "\n",
    "game = input()\n",
    "df = pd.read_csv(games_dict[int(game)], index_col=0, parse_dates=True)\n",
    "print()\n",
    "print(games_dict[int(game)].removeprefix('games/').removesuffix('.csv') + 'で遊びます')"
   ]
  },
  {
   "cell_type": "code",
   "execution_count": 21,
   "metadata": {},
   "outputs": [
    {
     "data": {
      "text/plain": [
       "'赤'"
      ]
     },
     "execution_count": 21,
     "metadata": {},
     "output_type": "execute_result"
    }
   ],
   "source": [
    "df.tail(1)['Q'].iloc[0]"
   ]
  },
  {
   "attachments": {},
   "cell_type": "markdown",
   "metadata": {},
   "source": [
    "# 遊ぶ"
   ]
  },
  {
   "cell_type": "code",
   "execution_count": 500,
   "metadata": {},
   "outputs": [
    {
     "name": "stdout",
     "output_type": "stream",
     "text": [
      "{1: '赤', 2: '黄', 3: '青', 4: '黒', 5: 'オレンジ', 6: '紫', 7: 'ピンク', 8: '緑', 9: '茶', 0: 'もう一度聞く'}\n",
      "\n"
     ]
    },
    {
     "name": "stderr",
     "output_type": "stream",
     "text": [
      "/var/folders/_g/xsh34k3n5s70gm9jd9v92gvc0000gn/T/ipykernel_87151/1812188774.py:74: SettingWithCopyWarning:\n",
      "\n",
      "\n",
      "A value is trying to be set on a copy of a slice from a DataFrame\n",
      "\n",
      "See the caveats in the documentation: https://pandas.pydata.org/pandas-docs/stable/user_guide/indexing.html#returning-a-view-versus-a-copy\n",
      "\n"
     ]
    },
    {
     "data": {
      "text/html": [
       "<div>\n",
       "<style scoped>\n",
       "    .dataframe tbody tr th:only-of-type {\n",
       "        vertical-align: middle;\n",
       "    }\n",
       "\n",
       "    .dataframe tbody tr th {\n",
       "        vertical-align: top;\n",
       "    }\n",
       "\n",
       "    .dataframe thead th {\n",
       "        text-align: right;\n",
       "    }\n",
       "</style>\n",
       "<table border=\"1\" class=\"dataframe\">\n",
       "  <thead>\n",
       "    <tr style=\"text-align: right;\">\n",
       "      <th></th>\n",
       "      <th>Today</th>\n",
       "      <th>session</th>\n",
       "      <th>Q</th>\n",
       "      <th>A</th>\n",
       "      <th>B</th>\n",
       "      <th>session time</th>\n",
       "    </tr>\n",
       "    <tr>\n",
       "      <th>datetime</th>\n",
       "      <th></th>\n",
       "      <th></th>\n",
       "      <th></th>\n",
       "      <th></th>\n",
       "      <th></th>\n",
       "      <th></th>\n",
       "    </tr>\n",
       "  </thead>\n",
       "  <tbody>\n",
       "    <tr>\n",
       "      <th>2023-06-15 18:40:30</th>\n",
       "      <td>20.0</td>\n",
       "      <td>NaN</td>\n",
       "      <td>オレンジ</td>\n",
       "      <td>オレンジ</td>\n",
       "      <td>O</td>\n",
       "      <td>NaN</td>\n",
       "    </tr>\n",
       "  </tbody>\n",
       "</table>\n",
       "</div>"
      ],
      "text/plain": [
       "                     Today  session     Q     A  B  session time\n",
       "datetime                                                        \n",
       "2023-06-15 18:40:30   20.0      NaN  オレンジ  オレンジ  O           NaN"
      ]
     },
     "execution_count": 500,
     "metadata": {},
     "output_type": "execute_result"
    },
    {
     "data": {
      "image/png": "[encoded data removed]",
      "text/plain": [
       "<Figure size 640x480 with 1 Axes>"
      ]
     },
     "metadata": {},
     "output_type": "display_data"
    }
   ],
   "source": [
    "import pandas as pd\n",
    "# カラムを全て表示する　https://kino-code.com/python-pandas-set_option/\n",
    "pd.set_option('display.max_columns', None) \n",
    "import numpy as np\n",
    "import random\n",
    "import datetime\n",
    "\n",
    "# 色と音の定義\n",
    "color_dic =  {\n",
    "    '赤' : 'red',\n",
    "    '黄' : 'yellow',\n",
    "    '青' : 'blue',\n",
    "    '黒' : 'black',\n",
    "    'オレンジ' : 'orange',\n",
    "    '紫' : 'purple',\n",
    "    'ピンク' : 'pink',\n",
    "    '緑' : 'green',\n",
    "    '茶' : 'brown',\n",
    "}\n",
    "color_j = dict(zip(range(1,len(color_dic)+1), list(color_dic.keys())))\n",
    "color_j[0] = 'もう一度聞く'\n",
    "color_e = dict(zip(range(1,len(color_dic)+1), list(color_dic.values())))\n",
    "\n",
    "# 問題Dataframeの作成\n",
    "# 一つ前の色を除いたリストの作成\n",
    "new_dict = [x for x in color_dic if x != df['Q'].iloc[-1]]\n",
    "\n",
    "# 一つ前の色を除いたリストの作成から色を一つ選択\n",
    "second =  random.choice(list(new_dict))\n",
    "\n",
    "# カラムの作成\n",
    "col = ['Today'] + ['session'] + ['Q'] + ['A'] + ['B'] + ['datetime']\n",
    "df2 = pd.DataFrame(columns=col)\n",
    "# Rowの作成\n",
    "df2['Q'] = [second]\n",
    "\n",
    "df2['datetime'] = datetime.datetime.now().strftime('%Y-%m-%d %H:%M:%S')\n",
    "df2['datetime'] = pd.to_datetime(df2['datetime'])\n",
    "df2.set_index('datetime', inplace=True)\n",
    "\n",
    "# 問題の音を鳴らす\n",
    "def sound():\n",
    "    ps('sound/{}.mp3'.format(color_dic[df2['Q'].iloc[0]]))\n",
    "\n",
    "def question():\n",
    "    # 選択肢の表示\n",
    "    sound()\n",
    "    answer = input('何色の音？')\n",
    "\n",
    "    while int(answer) == 0:\n",
    "        sound()\n",
    "        answer = input('何色の音?')\n",
    "    df2['A'].iloc[0] = color_j[int(answer)]\n",
    "\n",
    "    if df2['Q'].iloc[0] == df2['A'].iloc[0] :\n",
    "        df2['B'].iloc[0] = 'O'\n",
    "    else :\n",
    "        df2['B'].iloc[0] = 'X'\n",
    "\n",
    "print(color_j)\n",
    "print()\n",
    "\n",
    "question()\n",
    "\n",
    "title = color_dic[df2['Q'].iloc[0]]\n",
    "cw = '!! Correct!!' if df2['Q'].iloc[0] == df2['A'].iloc[0] else '!! Wrong...'\n",
    "title = title + cw\n",
    "img = imread('images/{}.jpg'.format(color_dic[df2['Q'].iloc[0]]))\n",
    "plt.title(title, fontsize=30)\n",
    "plt.axis('off')\n",
    "plt.imshow(img)\n",
    "\n",
    "df = pd.concat([df, df2])\n",
    "df['Today'].iloc[-1] = df.resample('D').count().iloc[-1,-3]\n",
    "df.to_csv(games_dict[int(game)])\n",
    "df.tail(1)"
   ]
  },
  {
   "attachments": {},
   "cell_type": "markdown",
   "metadata": {},
   "source": [
    "# もう一度聞く"
   ]
  },
  {
   "cell_type": "code",
   "execution_count": 302,
   "metadata": {},
   "outputs": [],
   "source": [
    "sound()"
   ]
  },
  {
   "attachments": {},
   "cell_type": "markdown",
   "metadata": {},
   "source": [
    "# 好きな音を聞く"
   ]
  },
  {
   "cell_type": "code",
   "execution_count": 353,
   "metadata": {},
   "outputs": [
    {
     "name": "stdout",
     "output_type": "stream",
     "text": [
      "{1: '赤', 2: '黄', 3: '青', 4: '黒', 5: 'オレンジ', 6: '紫', 7: 'ピンク', 8: '緑', 9: '茶', 0: 'もう一度聞く'}\n"
     ]
    }
   ],
   "source": [
    "print(color_j)\n",
    "test = input('test?')\n",
    "ps('sound/{}.mp3'.format(color_dic[color_j[int(test)]]))\n"
   ]
  },
  {
   "cell_type": "code",
   "execution_count": null,
   "metadata": {},
   "outputs": [],
   "source": []
  },
  {
   "attachments": {},
   "cell_type": "markdown",
   "metadata": {},
   "source": [
    "# 今日の結果を振り返る"
   ]
  },
  {
   "cell_type": "code",
   "execution_count": 48,
   "metadata": {},
   "outputs": [
    {
     "data": {
      "text/html": [
       "<div>\n",
       "<style scoped>\n",
       "    .dataframe tbody tr th:only-of-type {\n",
       "        vertical-align: middle;\n",
       "    }\n",
       "\n",
       "    .dataframe tbody tr th {\n",
       "        vertical-align: top;\n",
       "    }\n",
       "\n",
       "    .dataframe thead th {\n",
       "        text-align: right;\n",
       "    }\n",
       "</style>\n",
       "<table border=\"1\" class=\"dataframe\">\n",
       "  <thead>\n",
       "    <tr style=\"text-align: right;\">\n",
       "      <th></th>\n",
       "      <th>97</th>\n",
       "      <th>98</th>\n",
       "      <th>99</th>\n",
       "      <th>100</th>\n",
       "      <th>101</th>\n",
       "      <th>102</th>\n",
       "      <th>103</th>\n",
       "      <th>104</th>\n",
       "      <th>105</th>\n",
       "      <th>106</th>\n",
       "      <th>107</th>\n",
       "      <th>108</th>\n",
       "      <th>109</th>\n",
       "      <th>110</th>\n",
       "      <th>111</th>\n",
       "      <th>112</th>\n",
       "      <th>113</th>\n",
       "      <th>114</th>\n",
       "      <th>115</th>\n",
       "      <th>116</th>\n",
       "      <th>117</th>\n",
       "      <th>118</th>\n",
       "      <th>119</th>\n",
       "      <th>120</th>\n",
       "      <th>121</th>\n",
       "      <th>122</th>\n",
       "      <th>123</th>\n",
       "      <th>124</th>\n",
       "      <th>125</th>\n",
       "      <th>126</th>\n",
       "    </tr>\n",
       "  </thead>\n",
       "  <tbody>\n",
       "    <tr>\n",
       "      <th>Q</th>\n",
       "      <td>ピンク</td>\n",
       "      <td>茶</td>\n",
       "      <td>オレンジ</td>\n",
       "      <td>黒</td>\n",
       "      <td>青</td>\n",
       "      <td>茶</td>\n",
       "      <td>紫</td>\n",
       "      <td>黒</td>\n",
       "      <td>青</td>\n",
       "      <td>紫</td>\n",
       "      <td>黄</td>\n",
       "      <td>オレンジ</td>\n",
       "      <td>茶</td>\n",
       "      <td>紫</td>\n",
       "      <td>茶</td>\n",
       "      <td>紫</td>\n",
       "      <td>茶</td>\n",
       "      <td>赤</td>\n",
       "      <td>黒</td>\n",
       "      <td>緑</td>\n",
       "      <td>赤</td>\n",
       "      <td>緑</td>\n",
       "      <td>オレンジ</td>\n",
       "      <td>緑</td>\n",
       "      <td>茶</td>\n",
       "      <td>緑</td>\n",
       "      <td>オレンジ</td>\n",
       "      <td>黄</td>\n",
       "      <td>紫</td>\n",
       "      <td>赤</td>\n",
       "    </tr>\n",
       "    <tr>\n",
       "      <th>A</th>\n",
       "      <td>赤</td>\n",
       "      <td>青</td>\n",
       "      <td>赤</td>\n",
       "      <td>ピンク</td>\n",
       "      <td>オレンジ</td>\n",
       "      <td>青</td>\n",
       "      <td>黄</td>\n",
       "      <td>ピンク</td>\n",
       "      <td>黄</td>\n",
       "      <td>茶</td>\n",
       "      <td>ピンク</td>\n",
       "      <td>紫</td>\n",
       "      <td>青</td>\n",
       "      <td>黒</td>\n",
       "      <td>ピンク</td>\n",
       "      <td>緑</td>\n",
       "      <td>黒</td>\n",
       "      <td>青</td>\n",
       "      <td>黒</td>\n",
       "      <td>紫</td>\n",
       "      <td>青</td>\n",
       "      <td>ピンク</td>\n",
       "      <td>紫</td>\n",
       "      <td>オレンジ</td>\n",
       "      <td>黒</td>\n",
       "      <td>紫</td>\n",
       "      <td>青</td>\n",
       "      <td>オレンジ</td>\n",
       "      <td>ピンク</td>\n",
       "      <td>赤</td>\n",
       "    </tr>\n",
       "    <tr>\n",
       "      <th>B</th>\n",
       "      <td>X</td>\n",
       "      <td>X</td>\n",
       "      <td>X</td>\n",
       "      <td>X</td>\n",
       "      <td>X</td>\n",
       "      <td>X</td>\n",
       "      <td>X</td>\n",
       "      <td>X</td>\n",
       "      <td>X</td>\n",
       "      <td>X</td>\n",
       "      <td>X</td>\n",
       "      <td>X</td>\n",
       "      <td>X</td>\n",
       "      <td>X</td>\n",
       "      <td>X</td>\n",
       "      <td>X</td>\n",
       "      <td>X</td>\n",
       "      <td>X</td>\n",
       "      <td>O</td>\n",
       "      <td>X</td>\n",
       "      <td>X</td>\n",
       "      <td>X</td>\n",
       "      <td>X</td>\n",
       "      <td>X</td>\n",
       "      <td>X</td>\n",
       "      <td>X</td>\n",
       "      <td>X</td>\n",
       "      <td>X</td>\n",
       "      <td>X</td>\n",
       "      <td>O</td>\n",
       "    </tr>\n",
       "  </tbody>\n",
       "</table>\n",
       "</div>"
      ],
      "text/plain": [
       "   97  98    99   100   101 102 103  104 105 106  107   108 109 110  111 112  \\\n",
       "Q  ピンク   茶  オレンジ    黒     青   茶   紫    黒   青   紫    黄  オレンジ   茶   紫    茶   紫   \n",
       "A    赤   青     赤  ピンク  オレンジ   青   黄  ピンク   黄   茶  ピンク     紫   青   黒  ピンク   緑   \n",
       "B    X   X     X    X     X   X   X    X   X   X    X     X   X   X    X   X   \n",
       "\n",
       "  113 114 115 116 117  118   119   120 121 122   123   124  125 126  \n",
       "Q   茶   赤   黒   緑   赤    緑  オレンジ     緑   茶   緑  オレンジ     黄    紫   赤  \n",
       "A   黒   青   黒   紫   青  ピンク     紫  オレンジ   黒   紫     青  オレンジ  ピンク   赤  \n",
       "B   X   X   O   X   X    X     X     X   X   X     X     X    X   O  "
      ]
     },
     "execution_count": 48,
     "metadata": {},
     "output_type": "execute_result"
    }
   ],
   "source": [
    "df.reset_index()[['Q', 'A', 'B']].tail(30).T"
   ]
  },
  {
   "attachments": {},
   "cell_type": "markdown",
   "metadata": {},
   "source": [
    "###  今日の結果一覧"
   ]
  },
  {
   "cell_type": "code",
   "execution_count": 309,
   "metadata": {},
   "outputs": [
    {
     "data": {
      "text/html": [
       "<div>\n",
       "<style scoped>\n",
       "    .dataframe tbody tr th:only-of-type {\n",
       "        vertical-align: middle;\n",
       "    }\n",
       "\n",
       "    .dataframe tbody tr th {\n",
       "        vertical-align: top;\n",
       "    }\n",
       "\n",
       "    .dataframe thead th {\n",
       "        text-align: right;\n",
       "    }\n",
       "</style>\n",
       "<table border=\"1\" class=\"dataframe\">\n",
       "  <thead>\n",
       "    <tr style=\"text-align: right;\">\n",
       "      <th></th>\n",
       "      <th>Today</th>\n",
       "      <th>session</th>\n",
       "      <th>Q</th>\n",
       "      <th>A</th>\n",
       "      <th>B</th>\n",
       "    </tr>\n",
       "    <tr>\n",
       "      <th>datetime</th>\n",
       "      <th></th>\n",
       "      <th></th>\n",
       "      <th></th>\n",
       "      <th></th>\n",
       "      <th></th>\n",
       "    </tr>\n",
       "  </thead>\n",
       "  <tbody>\n",
       "  </tbody>\n",
       "</table>\n",
       "</div>"
      ],
      "text/plain": [
       "Empty DataFrame\n",
       "Columns: [Today, session, Q, A, B]\n",
       "Index: []"
      ]
     },
     "execution_count": 309,
     "metadata": {},
     "output_type": "execute_result"
    }
   ],
   "source": [
    "df[datetime.datetime.now().strftime('%Y-%m-%d'):].resample('H').count()"
   ]
  },
  {
   "attachments": {},
   "cell_type": "markdown",
   "metadata": {},
   "source": [
    "# 正答率をグラフで確認"
   ]
  },
  {
   "cell_type": "code",
   "execution_count": 501,
   "metadata": {},
   "outputs": [
    {
     "data": {
      "application/vnd.plotly.v1+json": {
       "config": {
        "plotlyServerURL": "https://plot.ly"
       },
       "data": [
        {
         "branchvalues": "total",
         "customdata": [
          [
           "黄"
          ],
          [
           "(?)"
          ],
          [
           "ピンク"
          ],
          [
           "オレンジ"
          ],
          [
           "青"
          ],
          [
           "青"
          ],
          [
           "黄"
          ],
          [
           "赤"
          ],
          [
           "黄"
          ],
          [
           "黒"
          ],
          [
           "ピンク"
          ],
          [
           "(?)"
          ],
          [
           "赤"
          ],
          [
           "オレンジ"
          ],
          [
           "緑"
          ],
          [
           "ピンク"
          ],
          [
           "紫"
          ],
          [
           "(?)"
          ],
          [
           "茶"
          ],
          [
           "ピンク"
          ],
          [
           "黒"
          ]
         ],
         "domain": {
          "x": [
           0,
           1
          ],
          "y": [
           0,
           1
          ]
         },
         "hovertemplate": "labels=%{label}<br>value=%{value}<br>parent=%{parent}<br>id=%{id}<br>A=%{customdata[0]}<extra></extra>",
         "ids": [
          "黄",
          "茶",
          "紫/ピンク",
          "オレンジ",
          "青",
          "青/青",
          "緑/黄",
          "赤/赤",
          "黄/黄",
          "黒/黒",
          "ピンク/ピンク",
          "緑",
          "赤",
          "オレンジ/オレンジ",
          "緑/緑",
          "ピンク",
          "紫/紫",
          "紫",
          "茶/茶",
          "茶/ピンク",
          "黒"
         ],
         "labels": [
          "黄",
          "茶",
          "ピンク",
          "オレンジ",
          "青",
          "青",
          "黄",
          "赤",
          "黄",
          "黒",
          "ピンク",
          "緑",
          "赤",
          "オレンジ",
          "緑",
          "ピンク",
          "紫",
          "紫",
          "茶",
          "ピンク",
          "黒"
         ],
         "marker": {
          "colors": [
           "yellow",
           "#FECB52",
           "pink",
           "orange",
           "blue",
           "blue",
           "yellow",
           "red",
           "yellow",
           "black",
           "pink",
           "#FECB52",
           "red",
           "orange",
           "green",
           "pink",
           "purple",
           "#FECB52",
           "brown",
           "pink",
           "black"
          ]
         },
         "name": "",
         "parents": [
          "",
          "",
          "紫",
          "",
          "",
          "青",
          "緑",
          "赤",
          "黄",
          "黒",
          "ピンク",
          "",
          "",
          "オレンジ",
          "緑",
          "",
          "紫",
          "",
          "茶",
          "茶",
          ""
         ],
         "type": "sunburst",
         "values": [
          2,
          2,
          1,
          4,
          2,
          2,
          1,
          3,
          2,
          1,
          1,
          2,
          3,
          4,
          1,
          1,
          2,
          3,
          1,
          1,
          1
         ]
        }
       ],
       "layout": {
        "height": 600,
        "legend": {
         "tracegroupgap": 0
        },
        "margin": {
         "t": 60
        },
        "template": {
         "data": {
          "bar": [
           {
            "error_x": {
             "color": "#2a3f5f"
            },
            "error_y": {
             "color": "#2a3f5f"
            },
            "marker": {
             "line": {
              "color": "#E5ECF6",
              "width": 0.5
             },
             "pattern": {
              "fillmode": "overlay",
              "size": 10,
              "solidity": 0.2
             }
            },
            "type": "bar"
           }
          ],
          "barpolar": [
           {
            "marker": {
             "line": {
              "color": "#E5ECF6",
              "width": 0.5
             },
             "pattern": {
              "fillmode": "overlay",
              "size": 10,
              "solidity": 0.2
             }
            },
            "type": "barpolar"
           }
          ],
          "carpet": [
           {
            "aaxis": {
             "endlinecolor": "#2a3f5f",
             "gridcolor": "white",
             "linecolor": "white",
             "minorgridcolor": "white",
             "startlinecolor": "#2a3f5f"
            },
            "baxis": {
             "endlinecolor": "#2a3f5f",
             "gridcolor": "white",
             "linecolor": "white",
             "minorgridcolor": "white",
             "startlinecolor": "#2a3f5f"
            },
            "type": "carpet"
           }
          ],
          "choropleth": [
           {
            "colorbar": {
             "outlinewidth": 0,
             "ticks": ""
            },
            "type": "choropleth"
           }
          ],
          "contour": [
           {
            "colorbar": {
             "outlinewidth": 0,
             "ticks": ""
            },
            "colorscale": [
             [
              0,
              "#0d0887"
             ],
             [
              0.1111111111111111,
              "#46039f"
             ],
             [
              0.2222222222222222,
              "#7201a8"
             ],
             [
              0.3333333333333333,
              "#9c179e"
             ],
             [
              0.4444444444444444,
              "#bd3786"
             ],
             [
              0.5555555555555556,
              "#d8576b"
             ],
             [
              0.6666666666666666,
              "#ed7953"
             ],
             [
              0.7777777777777778,
              "#fb9f3a"
             ],
             [
              0.8888888888888888,
              "#fdca26"
             ],
             [
              1,
              "#f0f921"
             ]
            ],
            "type": "contour"
           }
          ],
          "contourcarpet": [
           {
            "colorbar": {
             "outlinewidth": 0,
             "ticks": ""
            },
            "type": "contourcarpet"
           }
          ],
          "heatmap": [
           {
            "colorbar": {
             "outlinewidth": 0,
             "ticks": ""
            },
            "colorscale": [
             [
              0,
              "#0d0887"
             ],
             [
              0.1111111111111111,
              "#46039f"
             ],
             [
              0.2222222222222222,
              "#7201a8"
             ],
             [
              0.3333333333333333,
              "#9c179e"
             ],
             [
              0.4444444444444444,
              "#bd3786"
             ],
             [
              0.5555555555555556,
              "#d8576b"
             ],
             [
              0.6666666666666666,
              "#ed7953"
             ],
             [
              0.7777777777777778,
              "#fb9f3a"
             ],
             [
              0.8888888888888888,
              "#fdca26"
             ],
             [
              1,
              "#f0f921"
             ]
            ],
            "type": "heatmap"
           }
          ],
          "heatmapgl": [
           {
            "colorbar": {
             "outlinewidth": 0,
             "ticks": ""
            },
            "colorscale": [
             [
              0,
              "#0d0887"
             ],
             [
              0.1111111111111111,
              "#46039f"
             ],
             [
              0.2222222222222222,
              "#7201a8"
             ],
             [
              0.3333333333333333,
              "#9c179e"
             ],
             [
              0.4444444444444444,
              "#bd3786"
             ],
             [
              0.5555555555555556,
              "#d8576b"
             ],
             [
              0.6666666666666666,
              "#ed7953"
             ],
             [
              0.7777777777777778,
              "#fb9f3a"
             ],
             [
              0.8888888888888888,
              "#fdca26"
             ],
             [
              1,
              "#f0f921"
             ]
            ],
            "type": "heatmapgl"
           }
          ],
          "histogram": [
           {
            "marker": {
             "pattern": {
              "fillmode": "overlay",
              "size": 10,
              "solidity": 0.2
             }
            },
            "type": "histogram"
           }
          ],
          "histogram2d": [
           {
            "colorbar": {
             "outlinewidth": 0,
             "ticks": ""
            },
            "colorscale": [
             [
              0,
              "#0d0887"
             ],
             [
              0.1111111111111111,
              "#46039f"
             ],
             [
              0.2222222222222222,
              "#7201a8"
             ],
             [
              0.3333333333333333,
              "#9c179e"
             ],
             [
              0.4444444444444444,
              "#bd3786"
             ],
             [
              0.5555555555555556,
              "#d8576b"
             ],
             [
              0.6666666666666666,
              "#ed7953"
             ],
             [
              0.7777777777777778,
              "#fb9f3a"
             ],
             [
              0.8888888888888888,
              "#fdca26"
             ],
             [
              1,
              "#f0f921"
             ]
            ],
            "type": "histogram2d"
           }
          ],
          "histogram2dcontour": [
           {
            "colorbar": {
             "outlinewidth": 0,
             "ticks": ""
            },
            "colorscale": [
             [
              0,
              "#0d0887"
             ],
             [
              0.1111111111111111,
              "#46039f"
             ],
             [
              0.2222222222222222,
              "#7201a8"
             ],
             [
              0.3333333333333333,
              "#9c179e"
             ],
             [
              0.4444444444444444,
              "#bd3786"
             ],
             [
              0.5555555555555556,
              "#d8576b"
             ],
             [
              0.6666666666666666,
              "#ed7953"
             ],
             [
              0.7777777777777778,
              "#fb9f3a"
             ],
             [
              0.8888888888888888,
              "#fdca26"
             ],
             [
              1,
              "#f0f921"
             ]
            ],
            "type": "histogram2dcontour"
           }
          ],
          "mesh3d": [
           {
            "colorbar": {
             "outlinewidth": 0,
             "ticks": ""
            },
            "type": "mesh3d"
           }
          ],
          "parcoords": [
           {
            "line": {
             "colorbar": {
              "outlinewidth": 0,
              "ticks": ""
             }
            },
            "type": "parcoords"
           }
          ],
          "pie": [
           {
            "automargin": true,
            "type": "pie"
           }
          ],
          "scatter": [
           {
            "fillpattern": {
             "fillmode": "overlay",
             "size": 10,
             "solidity": 0.2
            },
            "type": "scatter"
           }
          ],
          "scatter3d": [
           {
            "line": {
             "colorbar": {
              "outlinewidth": 0,
              "ticks": ""
             }
            },
            "marker": {
             "colorbar": {
              "outlinewidth": 0,
              "ticks": ""
             }
            },
            "type": "scatter3d"
           }
          ],
          "scattercarpet": [
           {
            "marker": {
             "colorbar": {
              "outlinewidth": 0,
              "ticks": ""
             }
            },
            "type": "scattercarpet"
           }
          ],
          "scattergeo": [
           {
            "marker": {
             "colorbar": {
              "outlinewidth": 0,
              "ticks": ""
             }
            },
            "type": "scattergeo"
           }
          ],
          "scattergl": [
           {
            "marker": {
             "colorbar": {
              "outlinewidth": 0,
              "ticks": ""
             }
            },
            "type": "scattergl"
           }
          ],
          "scattermapbox": [
           {
            "marker": {
             "colorbar": {
              "outlinewidth": 0,
              "ticks": ""
             }
            },
            "type": "scattermapbox"
           }
          ],
          "scatterpolar": [
           {
            "marker": {
             "colorbar": {
              "outlinewidth": 0,
              "ticks": ""
             }
            },
            "type": "scatterpolar"
           }
          ],
          "scatterpolargl": [
           {
            "marker": {
             "colorbar": {
              "outlinewidth": 0,
              "ticks": ""
             }
            },
            "type": "scatterpolargl"
           }
          ],
          "scatterternary": [
           {
            "marker": {
             "colorbar": {
              "outlinewidth": 0,
              "ticks": ""
             }
            },
            "type": "scatterternary"
           }
          ],
          "surface": [
           {
            "colorbar": {
             "outlinewidth": 0,
             "ticks": ""
            },
            "colorscale": [
             [
              0,
              "#0d0887"
             ],
             [
              0.1111111111111111,
              "#46039f"
             ],
             [
              0.2222222222222222,
              "#7201a8"
             ],
             [
              0.3333333333333333,
              "#9c179e"
             ],
             [
              0.4444444444444444,
              "#bd3786"
             ],
             [
              0.5555555555555556,
              "#d8576b"
             ],
             [
              0.6666666666666666,
              "#ed7953"
             ],
             [
              0.7777777777777778,
              "#fb9f3a"
             ],
             [
              0.8888888888888888,
              "#fdca26"
             ],
             [
              1,
              "#f0f921"
             ]
            ],
            "type": "surface"
           }
          ],
          "table": [
           {
            "cells": {
             "fill": {
              "color": "#EBF0F8"
             },
             "line": {
              "color": "white"
             }
            },
            "header": {
             "fill": {
              "color": "#C8D4E3"
             },
             "line": {
              "color": "white"
             }
            },
            "type": "table"
           }
          ]
         },
         "layout": {
          "annotationdefaults": {
           "arrowcolor": "#2a3f5f",
           "arrowhead": 0,
           "arrowwidth": 1
          },
          "autotypenumbers": "strict",
          "coloraxis": {
           "colorbar": {
            "outlinewidth": 0,
            "ticks": ""
           }
          },
          "colorscale": {
           "diverging": [
            [
             0,
             "#8e0152"
            ],
            [
             0.1,
             "#c51b7d"
            ],
            [
             0.2,
             "#de77ae"
            ],
            [
             0.3,
             "#f1b6da"
            ],
            [
             0.4,
             "#fde0ef"
            ],
            [
             0.5,
             "#f7f7f7"
            ],
            [
             0.6,
             "#e6f5d0"
            ],
            [
             0.7,
             "#b8e186"
            ],
            [
             0.8,
             "#7fbc41"
            ],
            [
             0.9,
             "#4d9221"
            ],
            [
             1,
             "#276419"
            ]
           ],
           "sequential": [
            [
             0,
             "#0d0887"
            ],
            [
             0.1111111111111111,
             "#46039f"
            ],
            [
             0.2222222222222222,
             "#7201a8"
            ],
            [
             0.3333333333333333,
             "#9c179e"
            ],
            [
             0.4444444444444444,
             "#bd3786"
            ],
            [
             0.5555555555555556,
             "#d8576b"
            ],
            [
             0.6666666666666666,
             "#ed7953"
            ],
            [
             0.7777777777777778,
             "#fb9f3a"
            ],
            [
             0.8888888888888888,
             "#fdca26"
            ],
            [
             1,
             "#f0f921"
            ]
           ],
           "sequentialminus": [
            [
             0,
             "#0d0887"
            ],
            [
             0.1111111111111111,
             "#46039f"
            ],
            [
             0.2222222222222222,
             "#7201a8"
            ],
            [
             0.3333333333333333,
             "#9c179e"
            ],
            [
             0.4444444444444444,
             "#bd3786"
            ],
            [
             0.5555555555555556,
             "#d8576b"
            ],
            [
             0.6666666666666666,
             "#ed7953"
            ],
            [
             0.7777777777777778,
             "#fb9f3a"
            ],
            [
             0.8888888888888888,
             "#fdca26"
            ],
            [
             1,
             "#f0f921"
            ]
           ]
          },
          "colorway": [
           "#636efa",
           "#EF553B",
           "#00cc96",
           "#ab63fa",
           "#FFA15A",
           "#19d3f3",
           "#FF6692",
           "#B6E880",
           "#FF97FF",
           "#FECB52"
          ],
          "font": {
           "color": "#2a3f5f"
          },
          "geo": {
           "bgcolor": "white",
           "lakecolor": "white",
           "landcolor": "#E5ECF6",
           "showlakes": true,
           "showland": true,
           "subunitcolor": "white"
          },
          "hoverlabel": {
           "align": "left"
          },
          "hovermode": "closest",
          "mapbox": {
           "style": "light"
          },
          "paper_bgcolor": "white",
          "plot_bgcolor": "#E5ECF6",
          "polar": {
           "angularaxis": {
            "gridcolor": "white",
            "linecolor": "white",
            "ticks": ""
           },
           "bgcolor": "#E5ECF6",
           "radialaxis": {
            "gridcolor": "white",
            "linecolor": "white",
            "ticks": ""
           }
          },
          "scene": {
           "xaxis": {
            "backgroundcolor": "#E5ECF6",
            "gridcolor": "white",
            "gridwidth": 2,
            "linecolor": "white",
            "showbackground": true,
            "ticks": "",
            "zerolinecolor": "white"
           },
           "yaxis": {
            "backgroundcolor": "#E5ECF6",
            "gridcolor": "white",
            "gridwidth": 2,
            "linecolor": "white",
            "showbackground": true,
            "ticks": "",
            "zerolinecolor": "white"
           },
           "zaxis": {
            "backgroundcolor": "#E5ECF6",
            "gridcolor": "white",
            "gridwidth": 2,
            "linecolor": "white",
            "showbackground": true,
            "ticks": "",
            "zerolinecolor": "white"
           }
          },
          "shapedefaults": {
           "line": {
            "color": "#2a3f5f"
           }
          },
          "ternary": {
           "aaxis": {
            "gridcolor": "white",
            "linecolor": "white",
            "ticks": ""
           },
           "baxis": {
            "gridcolor": "white",
            "linecolor": "white",
            "ticks": ""
           },
           "bgcolor": "#E5ECF6",
           "caxis": {
            "gridcolor": "white",
            "linecolor": "white",
            "ticks": ""
           }
          },
          "title": {
           "x": 0.05
          },
          "xaxis": {
           "automargin": true,
           "gridcolor": "white",
           "linecolor": "white",
           "ticks": "",
           "title": {
            "standoff": 15
           },
           "zerolinecolor": "white",
           "zerolinewidth": 2
          },
          "yaxis": {
           "automargin": true,
           "gridcolor": "white",
           "linecolor": "white",
           "ticks": "",
           "title": {
            "standoff": 15
           },
           "zerolinecolor": "white",
           "zerolinewidth": 2
          }
         }
        },
        "title": {
         "text": "Today"
        },
        "width": 800
       }
      }
     },
     "metadata": {},
     "output_type": "display_data"
    }
   ],
   "source": [
    "import plotly.express as px\n",
    "ddf = df[datetime.datetime.now().strftime('%Y-%m-%d'):]\n",
    "\n",
    "fig = px.sunburst(ddf, \n",
    "                  path=['Q', 'A'], \n",
    "                  values=[1]*len(ddf), \n",
    "                  color='A',\n",
    "                  color_discrete_map=color_dic\n",
    "                  )\n",
    "fig.update_layout(height=600, width=800, title_text=\"Today\")\n",
    "fig.show()\n",
    "\n"
   ]
  },
  {
   "cell_type": "code",
   "execution_count": 420,
   "metadata": {},
   "outputs": [
    {
     "data": {
      "text/html": [
       "<div>\n",
       "<style scoped>\n",
       "    .dataframe tbody tr th:only-of-type {\n",
       "        vertical-align: middle;\n",
       "    }\n",
       "\n",
       "    .dataframe tbody tr th {\n",
       "        vertical-align: top;\n",
       "    }\n",
       "\n",
       "    .dataframe thead th {\n",
       "        text-align: right;\n",
       "    }\n",
       "</style>\n",
       "<table border=\"1\" class=\"dataframe\">\n",
       "  <thead>\n",
       "    <tr style=\"text-align: right;\">\n",
       "      <th></th>\n",
       "      <th>Today</th>\n",
       "      <th>session</th>\n",
       "      <th>Q</th>\n",
       "      <th>A</th>\n",
       "      <th>B</th>\n",
       "      <th>session time</th>\n",
       "    </tr>\n",
       "    <tr>\n",
       "      <th>datetime</th>\n",
       "      <th></th>\n",
       "      <th></th>\n",
       "      <th></th>\n",
       "      <th></th>\n",
       "      <th></th>\n",
       "      <th></th>\n",
       "    </tr>\n",
       "  </thead>\n",
       "  <tbody>\n",
       "    <tr>\n",
       "      <th>2023-05-07 23:41:20</th>\n",
       "      <td>4</td>\n",
       "      <td>NaN</td>\n",
       "      <td>ピンク</td>\n",
       "      <td>NaN</td>\n",
       "      <td>NaN</td>\n",
       "      <td>23</td>\n",
       "    </tr>\n",
       "    <tr>\n",
       "      <th>2023-05-07 23:42:34</th>\n",
       "      <td>4</td>\n",
       "      <td>NaN</td>\n",
       "      <td>赤</td>\n",
       "      <td>赤</td>\n",
       "      <td>O</td>\n",
       "      <td>23</td>\n",
       "    </tr>\n",
       "    <tr>\n",
       "      <th>2023-05-07 23:42:40</th>\n",
       "      <td>4</td>\n",
       "      <td>NaN</td>\n",
       "      <td>茶</td>\n",
       "      <td>茶</td>\n",
       "      <td>O</td>\n",
       "      <td>23</td>\n",
       "    </tr>\n",
       "    <tr>\n",
       "      <th>2023-05-07 23:42:47</th>\n",
       "      <td>4</td>\n",
       "      <td>NaN</td>\n",
       "      <td>黄</td>\n",
       "      <td>青</td>\n",
       "      <td>X</td>\n",
       "      <td>23</td>\n",
       "    </tr>\n",
       "    <tr>\n",
       "      <th>2023-05-07 23:51:07</th>\n",
       "      <td>5</td>\n",
       "      <td>NaN</td>\n",
       "      <td>ピンク</td>\n",
       "      <td>ピンク</td>\n",
       "      <td>O</td>\n",
       "      <td>23</td>\n",
       "    </tr>\n",
       "    <tr>\n",
       "      <th>...</th>\n",
       "      <td>...</td>\n",
       "      <td>...</td>\n",
       "      <td>...</td>\n",
       "      <td>...</td>\n",
       "      <td>...</td>\n",
       "      <td>...</td>\n",
       "    </tr>\n",
       "    <tr>\n",
       "      <th>2023-05-14 00:28:28</th>\n",
       "      <td>1</td>\n",
       "      <td>NaN</td>\n",
       "      <td>青</td>\n",
       "      <td>赤</td>\n",
       "      <td>X</td>\n",
       "      <td>00</td>\n",
       "    </tr>\n",
       "    <tr>\n",
       "      <th>2023-05-14 00:53:23</th>\n",
       "      <td>2</td>\n",
       "      <td>NaN</td>\n",
       "      <td>黒</td>\n",
       "      <td>赤</td>\n",
       "      <td>X</td>\n",
       "      <td>00</td>\n",
       "    </tr>\n",
       "    <tr>\n",
       "      <th>2023-05-14 01:00:23</th>\n",
       "      <td>3</td>\n",
       "      <td>NaN</td>\n",
       "      <td>緑</td>\n",
       "      <td>緑</td>\n",
       "      <td>O</td>\n",
       "      <td>01</td>\n",
       "    </tr>\n",
       "    <tr>\n",
       "      <th>2023-05-14 01:26:17</th>\n",
       "      <td>4</td>\n",
       "      <td>NaN</td>\n",
       "      <td>黄</td>\n",
       "      <td>黄</td>\n",
       "      <td>O</td>\n",
       "      <td>01</td>\n",
       "    </tr>\n",
       "    <tr>\n",
       "      <th>2023-05-14 01:31:07</th>\n",
       "      <td>5</td>\n",
       "      <td>3.0</td>\n",
       "      <td>紫</td>\n",
       "      <td>紫</td>\n",
       "      <td>O</td>\n",
       "      <td>01</td>\n",
       "    </tr>\n",
       "  </tbody>\n",
       "</table>\n",
       "<p>309 rows × 6 columns</p>\n",
       "</div>"
      ],
      "text/plain": [
       "                     Today  session    Q    A    B session time\n",
       "datetime                                                       \n",
       "2023-05-07 23:41:20      4      NaN  ピンク  NaN  NaN           23\n",
       "2023-05-07 23:42:34      4      NaN    赤    赤    O           23\n",
       "2023-05-07 23:42:40      4      NaN    茶    茶    O           23\n",
       "2023-05-07 23:42:47      4      NaN    黄    青    X           23\n",
       "2023-05-07 23:51:07      5      NaN  ピンク  ピンク    O           23\n",
       "...                    ...      ...  ...  ...  ...          ...\n",
       "2023-05-14 00:28:28      1      NaN    青    赤    X           00\n",
       "2023-05-14 00:53:23      2      NaN    黒    赤    X           00\n",
       "2023-05-14 01:00:23      3      NaN    緑    緑    O           01\n",
       "2023-05-14 01:26:17      4      NaN    黄    黄    O           01\n",
       "2023-05-14 01:31:07      5      3.0    紫    紫    O           01\n",
       "\n",
       "[309 rows x 6 columns]"
      ]
     },
     "execution_count": 420,
     "metadata": {},
     "output_type": "execute_result"
    }
   ],
   "source": [
    "df['Today'] = df['Today'].astype('Int64')\n",
    "df"
   ]
  },
  {
   "cell_type": "code",
   "execution_count": 358,
   "metadata": {},
   "outputs": [
    {
     "data": {
      "text/html": [
       "<div>\n",
       "<style scoped>\n",
       "    .dataframe tbody tr th:only-of-type {\n",
       "        vertical-align: middle;\n",
       "    }\n",
       "\n",
       "    .dataframe tbody tr th {\n",
       "        vertical-align: top;\n",
       "    }\n",
       "\n",
       "    .dataframe thead th {\n",
       "        text-align: right;\n",
       "    }\n",
       "</style>\n",
       "<table border=\"1\" class=\"dataframe\">\n",
       "  <thead>\n",
       "    <tr style=\"text-align: right;\">\n",
       "      <th></th>\n",
       "      <th>Today</th>\n",
       "      <th>session</th>\n",
       "      <th>Q</th>\n",
       "      <th>A</th>\n",
       "      <th>B</th>\n",
       "    </tr>\n",
       "    <tr>\n",
       "      <th>datetime</th>\n",
       "      <th></th>\n",
       "      <th></th>\n",
       "      <th></th>\n",
       "      <th></th>\n",
       "      <th></th>\n",
       "    </tr>\n",
       "  </thead>\n",
       "  <tbody>\n",
       "    <tr>\n",
       "      <th>2023-05-14</th>\n",
       "      <td>2</td>\n",
       "      <td>0</td>\n",
       "      <td>2</td>\n",
       "      <td>2</td>\n",
       "      <td>2</td>\n",
       "    </tr>\n",
       "  </tbody>\n",
       "</table>\n",
       "</div>"
      ],
      "text/plain": [
       "            Today  session  Q  A  B\n",
       "datetime                           \n",
       "2023-05-14      2        0  2  2  2"
      ]
     },
     "execution_count": 358,
     "metadata": {},
     "output_type": "execute_result"
    }
   ],
   "source": [
    "df[datetime.datetime.now().strftime('%Y-%m-%d'):].resample('H').count()\n"
   ]
  },
  {
   "cell_type": "code",
   "execution_count": 429,
   "metadata": {},
   "outputs": [
    {
     "name": "stderr",
     "output_type": "stream",
     "text": [
      "/var/folders/_g/xsh34k3n5s70gm9jd9v92gvc0000gn/T/ipykernel_87151/757460830.py:2: SettingWithCopyWarning:\n",
      "\n",
      "\n",
      "A value is trying to be set on a copy of a slice from a DataFrame\n",
      "\n",
      "See the caveats in the documentation: https://pandas.pydata.org/pandas-docs/stable/user_guide/indexing.html#returning-a-view-versus-a-copy\n",
      "\n"
     ]
    },
    {
     "ename": "IntCastingNaNError",
     "evalue": "Cannot convert non-finite values (NA or inf) to integer",
     "output_type": "error",
     "traceback": [
      "\u001b[0;31m---------------------------------------------------------------------------\u001b[0m",
      "\u001b[0;31mIntCastingNaNError\u001b[0m                        Traceback (most recent call last)",
      "\u001b[1;32m/Users/keetane/Documents/python/SoundABC/SoundABC3.ipynb Cell 12\u001b[0m in \u001b[0;36m<cell line: 3>\u001b[0;34m()\u001b[0m\n\u001b[1;32m      <a href='vscode-notebook-cell:/Users/keetane/Documents/python/SoundABC/SoundABC3.ipynb#Y136sZmlsZQ%3D%3D?line=0'>1</a>\u001b[0m count \u001b[39m=\u001b[39m df[datetime\u001b[39m.\u001b[39mdate\u001b[39m.\u001b[39mtoday():]\u001b[39m.\u001b[39mgroupby(\u001b[39m'\u001b[39m\u001b[39msession time\u001b[39m\u001b[39m'\u001b[39m)\u001b[39m.\u001b[39mcount()\n\u001b[1;32m      <a href='vscode-notebook-cell:/Users/keetane/Documents/python/SoundABC/SoundABC3.ipynb#Y136sZmlsZQ%3D%3D?line=1'>2</a>\u001b[0m df[\u001b[39m'\u001b[39m\u001b[39msession\u001b[39m\u001b[39m'\u001b[39m]\u001b[39m.\u001b[39miloc[\u001b[39m-\u001b[39m\u001b[39m1\u001b[39m]  \u001b[39m=\u001b[39m count[\u001b[39m'\u001b[39m\u001b[39mToday\u001b[39m\u001b[39m'\u001b[39m]\u001b[39m.\u001b[39miloc[\u001b[39m-\u001b[39m\u001b[39m1\u001b[39m]\n\u001b[0;32m----> <a href='vscode-notebook-cell:/Users/keetane/Documents/python/SoundABC/SoundABC3.ipynb#Y136sZmlsZQ%3D%3D?line=2'>3</a>\u001b[0m df[\u001b[39m'\u001b[39m\u001b[39msession\u001b[39m\u001b[39m'\u001b[39m] \u001b[39m=\u001b[39m df[\u001b[39m'\u001b[39;49m\u001b[39msession\u001b[39;49m\u001b[39m'\u001b[39;49m]\u001b[39m.\u001b[39;49mastype(\u001b[39m'\u001b[39;49m\u001b[39mint64\u001b[39;49m\u001b[39m'\u001b[39;49m)\n\u001b[1;32m      <a href='vscode-notebook-cell:/Users/keetane/Documents/python/SoundABC/SoundABC3.ipynb#Y136sZmlsZQ%3D%3D?line=4'>5</a>\u001b[0m df\n",
      "File \u001b[0;32m~/opt/anaconda3/envs/pymol/lib/python3.10/site-packages/pandas/core/generic.py:5912\u001b[0m, in \u001b[0;36mNDFrame.astype\u001b[0;34m(self, dtype, copy, errors)\u001b[0m\n\u001b[1;32m   5905\u001b[0m     results \u001b[39m=\u001b[39m [\n\u001b[1;32m   5906\u001b[0m         \u001b[39mself\u001b[39m\u001b[39m.\u001b[39miloc[:, i]\u001b[39m.\u001b[39mastype(dtype, copy\u001b[39m=\u001b[39mcopy)\n\u001b[1;32m   5907\u001b[0m         \u001b[39mfor\u001b[39;00m i \u001b[39min\u001b[39;00m \u001b[39mrange\u001b[39m(\u001b[39mlen\u001b[39m(\u001b[39mself\u001b[39m\u001b[39m.\u001b[39mcolumns))\n\u001b[1;32m   5908\u001b[0m     ]\n\u001b[1;32m   5910\u001b[0m \u001b[39melse\u001b[39;00m:\n\u001b[1;32m   5911\u001b[0m     \u001b[39m# else, only a single dtype is given\u001b[39;00m\n\u001b[0;32m-> 5912\u001b[0m     new_data \u001b[39m=\u001b[39m \u001b[39mself\u001b[39;49m\u001b[39m.\u001b[39;49m_mgr\u001b[39m.\u001b[39;49mastype(dtype\u001b[39m=\u001b[39;49mdtype, copy\u001b[39m=\u001b[39;49mcopy, errors\u001b[39m=\u001b[39;49merrors)\n\u001b[1;32m   5913\u001b[0m     \u001b[39mreturn\u001b[39;00m \u001b[39mself\u001b[39m\u001b[39m.\u001b[39m_constructor(new_data)\u001b[39m.\u001b[39m__finalize__(\u001b[39mself\u001b[39m, method\u001b[39m=\u001b[39m\u001b[39m\"\u001b[39m\u001b[39mastype\u001b[39m\u001b[39m\"\u001b[39m)\n\u001b[1;32m   5915\u001b[0m \u001b[39m# GH 33113: handle empty frame or series\u001b[39;00m\n",
      "File \u001b[0;32m~/opt/anaconda3/envs/pymol/lib/python3.10/site-packages/pandas/core/internals/managers.py:419\u001b[0m, in \u001b[0;36mBaseBlockManager.astype\u001b[0;34m(self, dtype, copy, errors)\u001b[0m\n\u001b[1;32m    418\u001b[0m \u001b[39mdef\u001b[39;00m \u001b[39mastype\u001b[39m(\u001b[39mself\u001b[39m: T, dtype, copy: \u001b[39mbool\u001b[39m \u001b[39m=\u001b[39m \u001b[39mFalse\u001b[39;00m, errors: \u001b[39mstr\u001b[39m \u001b[39m=\u001b[39m \u001b[39m\"\u001b[39m\u001b[39mraise\u001b[39m\u001b[39m\"\u001b[39m) \u001b[39m-\u001b[39m\u001b[39m>\u001b[39m T:\n\u001b[0;32m--> 419\u001b[0m     \u001b[39mreturn\u001b[39;00m \u001b[39mself\u001b[39;49m\u001b[39m.\u001b[39;49mapply(\u001b[39m\"\u001b[39;49m\u001b[39mastype\u001b[39;49m\u001b[39m\"\u001b[39;49m, dtype\u001b[39m=\u001b[39;49mdtype, copy\u001b[39m=\u001b[39;49mcopy, errors\u001b[39m=\u001b[39;49merrors)\n",
      "File \u001b[0;32m~/opt/anaconda3/envs/pymol/lib/python3.10/site-packages/pandas/core/internals/managers.py:304\u001b[0m, in \u001b[0;36mBaseBlockManager.apply\u001b[0;34m(self, f, align_keys, ignore_failures, **kwargs)\u001b[0m\n\u001b[1;32m    302\u001b[0m         applied \u001b[39m=\u001b[39m b\u001b[39m.\u001b[39mapply(f, \u001b[39m*\u001b[39m\u001b[39m*\u001b[39mkwargs)\n\u001b[1;32m    303\u001b[0m     \u001b[39melse\u001b[39;00m:\n\u001b[0;32m--> 304\u001b[0m         applied \u001b[39m=\u001b[39m \u001b[39mgetattr\u001b[39;49m(b, f)(\u001b[39m*\u001b[39;49m\u001b[39m*\u001b[39;49mkwargs)\n\u001b[1;32m    305\u001b[0m \u001b[39mexcept\u001b[39;00m (\u001b[39mTypeError\u001b[39;00m, \u001b[39mNotImplementedError\u001b[39;00m):\n\u001b[1;32m    306\u001b[0m     \u001b[39mif\u001b[39;00m \u001b[39mnot\u001b[39;00m ignore_failures:\n",
      "File \u001b[0;32m~/opt/anaconda3/envs/pymol/lib/python3.10/site-packages/pandas/core/internals/blocks.py:580\u001b[0m, in \u001b[0;36mBlock.astype\u001b[0;34m(self, dtype, copy, errors)\u001b[0m\n\u001b[1;32m    562\u001b[0m \u001b[39m\"\"\"\u001b[39;00m\n\u001b[1;32m    563\u001b[0m \u001b[39mCoerce to the new dtype.\u001b[39;00m\n\u001b[1;32m    564\u001b[0m \n\u001b[0;32m   (...)\u001b[0m\n\u001b[1;32m    576\u001b[0m \u001b[39mBlock\u001b[39;00m\n\u001b[1;32m    577\u001b[0m \u001b[39m\"\"\"\u001b[39;00m\n\u001b[1;32m    578\u001b[0m values \u001b[39m=\u001b[39m \u001b[39mself\u001b[39m\u001b[39m.\u001b[39mvalues\n\u001b[0;32m--> 580\u001b[0m new_values \u001b[39m=\u001b[39m astype_array_safe(values, dtype, copy\u001b[39m=\u001b[39;49mcopy, errors\u001b[39m=\u001b[39;49merrors)\n\u001b[1;32m    582\u001b[0m new_values \u001b[39m=\u001b[39m maybe_coerce_values(new_values)\n\u001b[1;32m    583\u001b[0m newb \u001b[39m=\u001b[39m \u001b[39mself\u001b[39m\u001b[39m.\u001b[39mmake_block(new_values)\n",
      "File \u001b[0;32m~/opt/anaconda3/envs/pymol/lib/python3.10/site-packages/pandas/core/dtypes/cast.py:1292\u001b[0m, in \u001b[0;36mastype_array_safe\u001b[0;34m(values, dtype, copy, errors)\u001b[0m\n\u001b[1;32m   1289\u001b[0m     dtype \u001b[39m=\u001b[39m dtype\u001b[39m.\u001b[39mnumpy_dtype\n\u001b[1;32m   1291\u001b[0m \u001b[39mtry\u001b[39;00m:\n\u001b[0;32m-> 1292\u001b[0m     new_values \u001b[39m=\u001b[39m astype_array(values, dtype, copy\u001b[39m=\u001b[39;49mcopy)\n\u001b[1;32m   1293\u001b[0m \u001b[39mexcept\u001b[39;00m (\u001b[39mValueError\u001b[39;00m, \u001b[39mTypeError\u001b[39;00m):\n\u001b[1;32m   1294\u001b[0m     \u001b[39m# e.g. astype_nansafe can fail on object-dtype of strings\u001b[39;00m\n\u001b[1;32m   1295\u001b[0m     \u001b[39m#  trying to convert to float\u001b[39;00m\n\u001b[1;32m   1296\u001b[0m     \u001b[39mif\u001b[39;00m errors \u001b[39m==\u001b[39m \u001b[39m\"\u001b[39m\u001b[39mignore\u001b[39m\u001b[39m\"\u001b[39m:\n",
      "File \u001b[0;32m~/opt/anaconda3/envs/pymol/lib/python3.10/site-packages/pandas/core/dtypes/cast.py:1237\u001b[0m, in \u001b[0;36mastype_array\u001b[0;34m(values, dtype, copy)\u001b[0m\n\u001b[1;32m   1234\u001b[0m     values \u001b[39m=\u001b[39m values\u001b[39m.\u001b[39mastype(dtype, copy\u001b[39m=\u001b[39mcopy)\n\u001b[1;32m   1236\u001b[0m \u001b[39melse\u001b[39;00m:\n\u001b[0;32m-> 1237\u001b[0m     values \u001b[39m=\u001b[39m astype_nansafe(values, dtype, copy\u001b[39m=\u001b[39;49mcopy)\n\u001b[1;32m   1239\u001b[0m \u001b[39m# in pandas we don't store numpy str dtypes, so convert to object\u001b[39;00m\n\u001b[1;32m   1240\u001b[0m \u001b[39mif\u001b[39;00m \u001b[39misinstance\u001b[39m(dtype, np\u001b[39m.\u001b[39mdtype) \u001b[39mand\u001b[39;00m \u001b[39missubclass\u001b[39m(values\u001b[39m.\u001b[39mdtype\u001b[39m.\u001b[39mtype, \u001b[39mstr\u001b[39m):\n",
      "File \u001b[0;32m~/opt/anaconda3/envs/pymol/lib/python3.10/site-packages/pandas/core/dtypes/cast.py:1148\u001b[0m, in \u001b[0;36mastype_nansafe\u001b[0;34m(arr, dtype, copy, skipna)\u001b[0m\n\u001b[1;32m   1145\u001b[0m     \u001b[39mraise\u001b[39;00m \u001b[39mTypeError\u001b[39;00m(\u001b[39mf\u001b[39m\u001b[39m\"\u001b[39m\u001b[39mcannot astype a timedelta from [\u001b[39m\u001b[39m{\u001b[39;00marr\u001b[39m.\u001b[39mdtype\u001b[39m}\u001b[39;00m\u001b[39m] to [\u001b[39m\u001b[39m{\u001b[39;00mdtype\u001b[39m}\u001b[39;00m\u001b[39m]\u001b[39m\u001b[39m\"\u001b[39m)\n\u001b[1;32m   1147\u001b[0m \u001b[39melif\u001b[39;00m np\u001b[39m.\u001b[39missubdtype(arr\u001b[39m.\u001b[39mdtype, np\u001b[39m.\u001b[39mfloating) \u001b[39mand\u001b[39;00m np\u001b[39m.\u001b[39missubdtype(dtype, np\u001b[39m.\u001b[39minteger):\n\u001b[0;32m-> 1148\u001b[0m     \u001b[39mreturn\u001b[39;00m astype_float_to_int_nansafe(arr, dtype, copy)\n\u001b[1;32m   1150\u001b[0m \u001b[39melif\u001b[39;00m is_object_dtype(arr\u001b[39m.\u001b[39mdtype):\n\u001b[1;32m   1151\u001b[0m \n\u001b[1;32m   1152\u001b[0m     \u001b[39m# work around NumPy brokenness, #1987\u001b[39;00m\n\u001b[1;32m   1153\u001b[0m     \u001b[39mif\u001b[39;00m np\u001b[39m.\u001b[39missubdtype(dtype\u001b[39m.\u001b[39mtype, np\u001b[39m.\u001b[39minteger):\n",
      "File \u001b[0;32m~/opt/anaconda3/envs/pymol/lib/python3.10/site-packages/pandas/core/dtypes/cast.py:1193\u001b[0m, in \u001b[0;36mastype_float_to_int_nansafe\u001b[0;34m(values, dtype, copy)\u001b[0m\n\u001b[1;32m   1189\u001b[0m \u001b[39m\"\"\"\u001b[39;00m\n\u001b[1;32m   1190\u001b[0m \u001b[39mastype with a check preventing converting NaN to an meaningless integer value.\u001b[39;00m\n\u001b[1;32m   1191\u001b[0m \u001b[39m\"\"\"\u001b[39;00m\n\u001b[1;32m   1192\u001b[0m \u001b[39mif\u001b[39;00m \u001b[39mnot\u001b[39;00m np\u001b[39m.\u001b[39misfinite(values)\u001b[39m.\u001b[39mall():\n\u001b[0;32m-> 1193\u001b[0m     \u001b[39mraise\u001b[39;00m IntCastingNaNError(\n\u001b[1;32m   1194\u001b[0m         \u001b[39m\"\u001b[39m\u001b[39mCannot convert non-finite values (NA or inf) to integer\u001b[39m\u001b[39m\"\u001b[39m\n\u001b[1;32m   1195\u001b[0m     )\n\u001b[1;32m   1196\u001b[0m \u001b[39mreturn\u001b[39;00m values\u001b[39m.\u001b[39mastype(dtype, copy\u001b[39m=\u001b[39mcopy)\n",
      "\u001b[0;31mIntCastingNaNError\u001b[0m: Cannot convert non-finite values (NA or inf) to integer"
     ]
    }
   ],
   "source": [
    "count = df[datetime.date.today():].groupby('session time').count()\n",
    "df['session'].iloc[-1]  = count['Today'].iloc[-1]\n",
    "df['session'] = df['session'].astype('int64')\n",
    "\n",
    "df"
   ]
  },
  {
   "cell_type": "code",
   "execution_count": 394,
   "metadata": {},
   "outputs": [
    {
     "data": {
      "text/plain": [
       "2"
      ]
     },
     "execution_count": 394,
     "metadata": {},
     "output_type": "execute_result"
    }
   ],
   "source": [
    "len(df[datetime.date.today():].groupby('session').count())\n"
   ]
  },
  {
   "cell_type": "code",
   "execution_count": 410,
   "metadata": {},
   "outputs": [
    {
     "data": {
      "text/html": [
       "<div>\n",
       "<style scoped>\n",
       "    .dataframe tbody tr th:only-of-type {\n",
       "        vertical-align: middle;\n",
       "    }\n",
       "\n",
       "    .dataframe tbody tr th {\n",
       "        vertical-align: top;\n",
       "    }\n",
       "\n",
       "    .dataframe thead th {\n",
       "        text-align: right;\n",
       "    }\n",
       "</style>\n",
       "<table border=\"1\" class=\"dataframe\">\n",
       "  <thead>\n",
       "    <tr style=\"text-align: right;\">\n",
       "      <th></th>\n",
       "      <th>Today</th>\n",
       "      <th>session</th>\n",
       "      <th>Q</th>\n",
       "      <th>A</th>\n",
       "      <th>B</th>\n",
       "      <th>session time</th>\n",
       "    </tr>\n",
       "    <tr>\n",
       "      <th>datetime</th>\n",
       "      <th></th>\n",
       "      <th></th>\n",
       "      <th></th>\n",
       "      <th></th>\n",
       "      <th></th>\n",
       "      <th></th>\n",
       "    </tr>\n",
       "  </thead>\n",
       "  <tbody>\n",
       "    <tr>\n",
       "      <th>2023-05-07 23:41:20</th>\n",
       "      <td>4.0</td>\n",
       "      <td>NaN</td>\n",
       "      <td>ピンク</td>\n",
       "      <td>NaN</td>\n",
       "      <td>NaN</td>\n",
       "      <td>23</td>\n",
       "    </tr>\n",
       "    <tr>\n",
       "      <th>2023-05-07 23:42:34</th>\n",
       "      <td>4.0</td>\n",
       "      <td>NaN</td>\n",
       "      <td>赤</td>\n",
       "      <td>赤</td>\n",
       "      <td>O</td>\n",
       "      <td>23</td>\n",
       "    </tr>\n",
       "    <tr>\n",
       "      <th>2023-05-07 23:42:40</th>\n",
       "      <td>4.0</td>\n",
       "      <td>NaN</td>\n",
       "      <td>茶</td>\n",
       "      <td>茶</td>\n",
       "      <td>O</td>\n",
       "      <td>23</td>\n",
       "    </tr>\n",
       "    <tr>\n",
       "      <th>2023-05-07 23:42:47</th>\n",
       "      <td>4.0</td>\n",
       "      <td>NaN</td>\n",
       "      <td>黄</td>\n",
       "      <td>青</td>\n",
       "      <td>X</td>\n",
       "      <td>23</td>\n",
       "    </tr>\n",
       "    <tr>\n",
       "      <th>2023-05-07 23:51:07</th>\n",
       "      <td>5.0</td>\n",
       "      <td>NaN</td>\n",
       "      <td>ピンク</td>\n",
       "      <td>ピンク</td>\n",
       "      <td>O</td>\n",
       "      <td>23</td>\n",
       "    </tr>\n",
       "    <tr>\n",
       "      <th>...</th>\n",
       "      <td>...</td>\n",
       "      <td>...</td>\n",
       "      <td>...</td>\n",
       "      <td>...</td>\n",
       "      <td>...</td>\n",
       "      <td>...</td>\n",
       "    </tr>\n",
       "    <tr>\n",
       "      <th>2023-05-14 00:28:28</th>\n",
       "      <td>1.0</td>\n",
       "      <td>NaN</td>\n",
       "      <td>青</td>\n",
       "      <td>赤</td>\n",
       "      <td>X</td>\n",
       "      <td>00</td>\n",
       "    </tr>\n",
       "    <tr>\n",
       "      <th>2023-05-14 00:53:23</th>\n",
       "      <td>2.0</td>\n",
       "      <td>NaN</td>\n",
       "      <td>黒</td>\n",
       "      <td>赤</td>\n",
       "      <td>X</td>\n",
       "      <td>00</td>\n",
       "    </tr>\n",
       "    <tr>\n",
       "      <th>2023-05-14 01:00:23</th>\n",
       "      <td>3.0</td>\n",
       "      <td>NaN</td>\n",
       "      <td>緑</td>\n",
       "      <td>緑</td>\n",
       "      <td>O</td>\n",
       "      <td>01</td>\n",
       "    </tr>\n",
       "    <tr>\n",
       "      <th>2023-05-14 01:26:17</th>\n",
       "      <td>4.0</td>\n",
       "      <td>NaN</td>\n",
       "      <td>黄</td>\n",
       "      <td>黄</td>\n",
       "      <td>O</td>\n",
       "      <td>01</td>\n",
       "    </tr>\n",
       "    <tr>\n",
       "      <th>2023-05-14 01:31:07</th>\n",
       "      <td>5.0</td>\n",
       "      <td>NaN</td>\n",
       "      <td>紫</td>\n",
       "      <td>紫</td>\n",
       "      <td>O</td>\n",
       "      <td>01</td>\n",
       "    </tr>\n",
       "  </tbody>\n",
       "</table>\n",
       "<p>309 rows × 6 columns</p>\n",
       "</div>"
      ],
      "text/plain": [
       "                     Today  session    Q    A    B session time\n",
       "datetime                                                       \n",
       "2023-05-07 23:41:20    4.0      NaN  ピンク  NaN  NaN           23\n",
       "2023-05-07 23:42:34    4.0      NaN    赤    赤    O           23\n",
       "2023-05-07 23:42:40    4.0      NaN    茶    茶    O           23\n",
       "2023-05-07 23:42:47    4.0      NaN    黄    青    X           23\n",
       "2023-05-07 23:51:07    5.0      NaN  ピンク  ピンク    O           23\n",
       "...                    ...      ...  ...  ...  ...          ...\n",
       "2023-05-14 00:28:28    1.0      NaN    青    赤    X           00\n",
       "2023-05-14 00:53:23    2.0      NaN    黒    赤    X           00\n",
       "2023-05-14 01:00:23    3.0      NaN    緑    緑    O           01\n",
       "2023-05-14 01:26:17    4.0      NaN    黄    黄    O           01\n",
       "2023-05-14 01:31:07    5.0      NaN    紫    紫    O           01\n",
       "\n",
       "[309 rows x 6 columns]"
      ]
     },
     "execution_count": 410,
     "metadata": {},
     "output_type": "execute_result"
    }
   ],
   "source": [
    "df['session time'] = df.index.strftime('%H')\n",
    "df"
   ]
  },
  {
   "cell_type": "code",
   "execution_count": 376,
   "metadata": {},
   "outputs": [
    {
     "ename": "KeyError",
     "evalue": "'H'",
     "output_type": "error",
     "traceback": [
      "\u001b[0;31m---------------------------------------------------------------------------\u001b[0m",
      "\u001b[0;31mKeyError\u001b[0m                                  Traceback (most recent call last)",
      "\u001b[1;32m/Users/keetane/Documents/python/SoundABC/SoundABC3.ipynb Cell 11\u001b[0m in \u001b[0;36m<cell line: 1>\u001b[0;34m()\u001b[0m\n\u001b[0;32m----> <a href='vscode-notebook-cell:/Users/keetane/Documents/python/SoundABC/SoundABC3.ipynb#Y134sZmlsZQ%3D%3D?line=0'>1</a>\u001b[0m df[datetime\u001b[39m.\u001b[39;49mdate\u001b[39m.\u001b[39;49mtoday():]\u001b[39m.\u001b[39;49mgroupby(\u001b[39m'\u001b[39;49m\u001b[39mH\u001b[39;49m\u001b[39m'\u001b[39;49m)\u001b[39m.\u001b[39mcount()\n",
      "File \u001b[0;32m~/opt/anaconda3/envs/pymol/lib/python3.10/site-packages/pandas/core/frame.py:7721\u001b[0m, in \u001b[0;36mDataFrame.groupby\u001b[0;34m(self, by, axis, level, as_index, sort, group_keys, squeeze, observed, dropna)\u001b[0m\n\u001b[1;32m   7716\u001b[0m axis \u001b[39m=\u001b[39m \u001b[39mself\u001b[39m\u001b[39m.\u001b[39m_get_axis_number(axis)\n\u001b[1;32m   7718\u001b[0m \u001b[39m# https://github.com/python/mypy/issues/7642\u001b[39;00m\n\u001b[1;32m   7719\u001b[0m \u001b[39m# error: Argument \"squeeze\" to \"DataFrameGroupBy\" has incompatible type\u001b[39;00m\n\u001b[1;32m   7720\u001b[0m \u001b[39m# \"Union[bool, NoDefault]\"; expected \"bool\"\u001b[39;00m\n\u001b[0;32m-> 7721\u001b[0m \u001b[39mreturn\u001b[39;00m DataFrameGroupBy(\n\u001b[1;32m   7722\u001b[0m     obj\u001b[39m=\u001b[39;49m\u001b[39mself\u001b[39;49m,\n\u001b[1;32m   7723\u001b[0m     keys\u001b[39m=\u001b[39;49mby,\n\u001b[1;32m   7724\u001b[0m     axis\u001b[39m=\u001b[39;49maxis,\n\u001b[1;32m   7725\u001b[0m     level\u001b[39m=\u001b[39;49mlevel,\n\u001b[1;32m   7726\u001b[0m     as_index\u001b[39m=\u001b[39;49mas_index,\n\u001b[1;32m   7727\u001b[0m     sort\u001b[39m=\u001b[39;49msort,\n\u001b[1;32m   7728\u001b[0m     group_keys\u001b[39m=\u001b[39;49mgroup_keys,\n\u001b[1;32m   7729\u001b[0m     squeeze\u001b[39m=\u001b[39;49msqueeze,  \u001b[39m# type: ignore[arg-type]\u001b[39;49;00m\n\u001b[1;32m   7730\u001b[0m     observed\u001b[39m=\u001b[39;49mobserved,\n\u001b[1;32m   7731\u001b[0m     dropna\u001b[39m=\u001b[39;49mdropna,\n\u001b[1;32m   7732\u001b[0m )\n",
      "File \u001b[0;32m~/opt/anaconda3/envs/pymol/lib/python3.10/site-packages/pandas/core/groupby/groupby.py:882\u001b[0m, in \u001b[0;36mGroupBy.__init__\u001b[0;34m(self, obj, keys, axis, level, grouper, exclusions, selection, as_index, sort, group_keys, squeeze, observed, mutated, dropna)\u001b[0m\n\u001b[1;32m    879\u001b[0m \u001b[39mif\u001b[39;00m grouper \u001b[39mis\u001b[39;00m \u001b[39mNone\u001b[39;00m:\n\u001b[1;32m    880\u001b[0m     \u001b[39mfrom\u001b[39;00m \u001b[39mpandas\u001b[39;00m\u001b[39m.\u001b[39;00m\u001b[39mcore\u001b[39;00m\u001b[39m.\u001b[39;00m\u001b[39mgroupby\u001b[39;00m\u001b[39m.\u001b[39;00m\u001b[39mgrouper\u001b[39;00m \u001b[39mimport\u001b[39;00m get_grouper\n\u001b[0;32m--> 882\u001b[0m     grouper, exclusions, obj \u001b[39m=\u001b[39m get_grouper(\n\u001b[1;32m    883\u001b[0m         obj,\n\u001b[1;32m    884\u001b[0m         keys,\n\u001b[1;32m    885\u001b[0m         axis\u001b[39m=\u001b[39;49maxis,\n\u001b[1;32m    886\u001b[0m         level\u001b[39m=\u001b[39;49mlevel,\n\u001b[1;32m    887\u001b[0m         sort\u001b[39m=\u001b[39;49msort,\n\u001b[1;32m    888\u001b[0m         observed\u001b[39m=\u001b[39;49mobserved,\n\u001b[1;32m    889\u001b[0m         mutated\u001b[39m=\u001b[39;49m\u001b[39mself\u001b[39;49m\u001b[39m.\u001b[39;49mmutated,\n\u001b[1;32m    890\u001b[0m         dropna\u001b[39m=\u001b[39;49m\u001b[39mself\u001b[39;49m\u001b[39m.\u001b[39;49mdropna,\n\u001b[1;32m    891\u001b[0m     )\n\u001b[1;32m    893\u001b[0m \u001b[39mself\u001b[39m\u001b[39m.\u001b[39mobj \u001b[39m=\u001b[39m obj\n\u001b[1;32m    894\u001b[0m \u001b[39mself\u001b[39m\u001b[39m.\u001b[39maxis \u001b[39m=\u001b[39m obj\u001b[39m.\u001b[39m_get_axis_number(axis)\n",
      "File \u001b[0;32m~/opt/anaconda3/envs/pymol/lib/python3.10/site-packages/pandas/core/groupby/grouper.py:882\u001b[0m, in \u001b[0;36mget_grouper\u001b[0;34m(obj, key, axis, level, sort, observed, mutated, validate, dropna)\u001b[0m\n\u001b[1;32m    880\u001b[0m         in_axis, level, gpr \u001b[39m=\u001b[39m \u001b[39mFalse\u001b[39;00m, gpr, \u001b[39mNone\u001b[39;00m\n\u001b[1;32m    881\u001b[0m     \u001b[39melse\u001b[39;00m:\n\u001b[0;32m--> 882\u001b[0m         \u001b[39mraise\u001b[39;00m \u001b[39mKeyError\u001b[39;00m(gpr)\n\u001b[1;32m    883\u001b[0m \u001b[39melif\u001b[39;00m \u001b[39misinstance\u001b[39m(gpr, Grouper) \u001b[39mand\u001b[39;00m gpr\u001b[39m.\u001b[39mkey \u001b[39mis\u001b[39;00m \u001b[39mnot\u001b[39;00m \u001b[39mNone\u001b[39;00m:\n\u001b[1;32m    884\u001b[0m     \u001b[39m# Add key to exclusions\u001b[39;00m\n\u001b[1;32m    885\u001b[0m     exclusions\u001b[39m.\u001b[39madd(gpr\u001b[39m.\u001b[39mkey)\n",
      "\u001b[0;31mKeyError\u001b[0m: 'H'"
     ]
    }
   ],
   "source": [
    "df[datetime.date.today():].groupby('H').count()"
   ]
  },
  {
   "cell_type": "code",
   "execution_count": 371,
   "metadata": {},
   "outputs": [
    {
     "data": {
      "text/plain": [
       "datetime\n",
       "2023-05-07 23:00:00    6\n",
       "2023-05-08 00:00:00    2\n",
       "2023-05-08 01:00:00    0\n",
       "2023-05-08 02:00:00    0\n",
       "2023-05-08 03:00:00    0\n",
       "                      ..\n",
       "2023-05-13 21:00:00    0\n",
       "2023-05-13 22:00:00    0\n",
       "2023-05-13 23:00:00    0\n",
       "2023-05-14 00:00:00    2\n",
       "2023-05-14 01:00:00    1\n",
       "Freq: H, Name: Today, Length: 147, dtype: int64"
      ]
     },
     "execution_count": 371,
     "metadata": {},
     "output_type": "execute_result"
    }
   ],
   "source": [
    "df['Today'].resample('H').count()\n"
   ]
  },
  {
   "cell_type": "code",
   "execution_count": 374,
   "metadata": {},
   "outputs": [
    {
     "data": {
      "text/plain": [
       "Today      157\n",
       "session      0\n",
       "Q          307\n",
       "A          306\n",
       "B          306\n",
       "dtype: int64"
      ]
     },
     "execution_count": 374,
     "metadata": {},
     "output_type": "execute_result"
    }
   ],
   "source": [
    "df[]"
   ]
  },
  {
   "cell_type": "code",
   "execution_count": 352,
   "metadata": {},
   "outputs": [
    {
     "data": {
      "text/plain": [
       "Timestamp('2022-05-10 00:00:00')"
      ]
     },
     "execution_count": 352,
     "metadata": {},
     "output_type": "execute_result"
    }
   ],
   "source": [
    "data = {'date': ['2022-05-10', '2022-05-10', '2022-05-11', '2022-05-11', '2022-05-12'], 'value': [1, 2, 3, 4, 5]}\n",
    "ddf = pd.DataFrame(data)\n",
    "ddf['date'] = pd.to_datetime(ddf['date'])  # datetime型に変換\n",
    "ddf.set_index('date', inplace=True)  # datetimeindexに設定\n",
    "today = pd.Timestamp.today().date()\n",
    "# ddf[ddf.index==today]\n",
    "ddf.index[0]\n"
   ]
  },
  {
   "cell_type": "code",
   "execution_count": null,
   "metadata": {},
   "outputs": [],
   "source": []
  },
  {
   "attachments": {},
   "cell_type": "markdown",
   "metadata": {},
   "source": [
    "# 回答する"
   ]
  },
  {
   "cell_type": "code",
   "execution_count": 60,
   "metadata": {},
   "outputs": [
    {
     "name": "stdout",
     "output_type": "stream",
     "text": [
      "{1: '赤', 2: '黄', 3: '青', 4: '黒', 5: 'オレンジ', 6: '紫', 7: 'ピンク', 8: '緑', 9: '茶', 0: 'もう一度聞く'}\n",
      "\n",
      "1問目\n"
     ]
    },
    {
     "ename": "PermissionError",
     "evalue": "[Errno 1] Operation not permitted",
     "output_type": "error",
     "traceback": [
      "\u001b[0;31m---------------------------------------------------------------------------\u001b[0m",
      "\u001b[0;31mPermissionError\u001b[0m                           Traceback (most recent call last)",
      "\u001b[1;32m/Users/keetane/Documents/python/SoundABC/SoundABC2.ipynb Cell 10\u001b[0m in \u001b[0;36m<cell line: 28>\u001b[0;34m()\u001b[0m\n\u001b[1;32m     <a href='vscode-notebook-cell:/Users/keetane/Documents/python/SoundABC/SoundABC2.ipynb#X12sZmlsZQ%3D%3D?line=28'>29</a>\u001b[0m \u001b[39mprint\u001b[39m(\u001b[39mstr\u001b[39m(x\u001b[39m+\u001b[39m\u001b[39m1\u001b[39m)\u001b[39m+\u001b[39m\u001b[39m'\u001b[39m\u001b[39m問目\u001b[39m\u001b[39m'\u001b[39m)\n\u001b[1;32m     <a href='vscode-notebook-cell:/Users/keetane/Documents/python/SoundABC/SoundABC2.ipynb#X12sZmlsZQ%3D%3D?line=29'>30</a>\u001b[0m \u001b[39m# print(color_j)\u001b[39;00m\n\u001b[0;32m---> <a href='vscode-notebook-cell:/Users/keetane/Documents/python/SoundABC/SoundABC2.ipynb#X12sZmlsZQ%3D%3D?line=31'>32</a>\u001b[0m sound(x)\n\u001b[1;32m     <a href='vscode-notebook-cell:/Users/keetane/Documents/python/SoundABC/SoundABC2.ipynb#X12sZmlsZQ%3D%3D?line=32'>33</a>\u001b[0m answer \u001b[39m=\u001b[39m \u001b[39minput\u001b[39m(\u001b[39mstr\u001b[39m(x)\u001b[39m+\u001b[39m\u001b[39m'\u001b[39m\u001b[39m?\u001b[39m\u001b[39m'\u001b[39m)\n\u001b[1;32m     <a href='vscode-notebook-cell:/Users/keetane/Documents/python/SoundABC/SoundABC2.ipynb#X12sZmlsZQ%3D%3D?line=34'>35</a>\u001b[0m \u001b[39mwhile\u001b[39;00m \u001b[39mint\u001b[39m(answer) \u001b[39m==\u001b[39m \u001b[39m0\u001b[39m:\n",
      "\u001b[1;32m/Users/keetane/Documents/python/SoundABC/SoundABC2.ipynb Cell 10\u001b[0m in \u001b[0;36msound\u001b[0;34m(x)\u001b[0m\n\u001b[1;32m     <a href='vscode-notebook-cell:/Users/keetane/Documents/python/SoundABC/SoundABC2.ipynb#X12sZmlsZQ%3D%3D?line=20'>21</a>\u001b[0m \u001b[39mdef\u001b[39;00m \u001b[39msound\u001b[39m(x):\n\u001b[0;32m---> <a href='vscode-notebook-cell:/Users/keetane/Documents/python/SoundABC/SoundABC2.ipynb#X12sZmlsZQ%3D%3D?line=21'>22</a>\u001b[0m     ps(\u001b[39m'\u001b[39;49m\u001b[39msound/\u001b[39;49m\u001b[39m{}\u001b[39;49;00m\u001b[39m.mp3\u001b[39;49m\u001b[39m'\u001b[39;49m\u001b[39m.\u001b[39;49mformat(color_dic[df2\u001b[39m.\u001b[39;49miloc[x,\u001b[39m1\u001b[39;49m]]))\n",
      "File \u001b[0;32m~/opt/anaconda3/envs/pymol/lib/python3.10/site-packages/playsound.py:128\u001b[0m, in \u001b[0;36m_playsoundOSX\u001b[0;34m(sound, block)\u001b[0m\n\u001b[1;32m    125\u001b[0m \u001b[39mfrom\u001b[39;00m \u001b[39mFoundation\u001b[39;00m \u001b[39mimport\u001b[39;00m NSURL\n\u001b[1;32m    126\u001b[0m \u001b[39mfrom\u001b[39;00m \u001b[39mtime\u001b[39;00m       \u001b[39mimport\u001b[39;00m sleep\n\u001b[0;32m--> 128\u001b[0m sound \u001b[39m=\u001b[39m _handlePathOSX(sound)\n\u001b[1;32m    129\u001b[0m url   \u001b[39m=\u001b[39m NSURL\u001b[39m.\u001b[39mURLWithString_(sound)\n\u001b[1;32m    130\u001b[0m \u001b[39mif\u001b[39;00m \u001b[39mnot\u001b[39;00m url:\n",
      "File \u001b[0;32m~/opt/anaconda3/envs/pymol/lib/python3.10/site-packages/playsound.py:89\u001b[0m, in \u001b[0;36m_handlePathOSX\u001b[0;34m(sound)\u001b[0m\n\u001b[1;32m     87\u001b[0m     \u001b[39mif\u001b[39;00m \u001b[39mnot\u001b[39;00m sound\u001b[39m.\u001b[39mstartswith(\u001b[39m'\u001b[39m\u001b[39m/\u001b[39m\u001b[39m'\u001b[39m):\n\u001b[1;32m     88\u001b[0m         \u001b[39mfrom\u001b[39;00m \u001b[39mos\u001b[39;00m \u001b[39mimport\u001b[39;00m getcwd\n\u001b[0;32m---> 89\u001b[0m         sound \u001b[39m=\u001b[39m getcwd() \u001b[39m+\u001b[39m \u001b[39m'\u001b[39m\u001b[39m/\u001b[39m\u001b[39m'\u001b[39m \u001b[39m+\u001b[39m sound\n\u001b[1;32m     90\u001b[0m     sound \u001b[39m=\u001b[39m \u001b[39m'\u001b[39m\u001b[39mfile://\u001b[39m\u001b[39m'\u001b[39m \u001b[39m+\u001b[39m sound\n\u001b[1;32m     92\u001b[0m \u001b[39mtry\u001b[39;00m:\n\u001b[1;32m     93\u001b[0m     \u001b[39m# Don't double-encode it.\u001b[39;00m\n",
      "\u001b[0;31mPermissionError\u001b[0m: [Errno 1] Operation not permitted"
     ]
    }
   ],
   "source": [
    "import pandas as pd\n",
    "pd.set_option('display.max_columns', None)\n",
    "from playsound import playsound as ps\n",
    "\n",
    "# カラー&サウンド定義\n",
    "color_dic =  {\n",
    "    '赤' : 'red',\n",
    "    '黄' : 'yellow',\n",
    "    '青' : 'blue',\n",
    "    '黒' : 'black',\n",
    "    'オレンジ' : 'orange',\n",
    "    '紫' : 'purple',\n",
    "    'ピンク' : 'pink',\n",
    "    '緑' : 'green',\n",
    "    '茶' : 'brown',\n",
    "}\n",
    "color_j = dict(zip(range(1,len(color_dic)+1), list(color_dic.keys())))\n",
    "color_j[0] = 'もう一度聞く'\n",
    "color_e = dict(zip(range(1,len(color_dic)+1), list(color_dic.values())))\n",
    "\n",
    "def sound(x):\n",
    "    ps('sound/{}.mp3'.format(color_dic[df2.iloc[x,1]]))\n",
    "\n",
    "print(color_j)\n",
    "print()\n",
    "\n",
    "# ここからが回答\n",
    "for x in range(30):\n",
    "    print(str(x+1)+'問目')\n",
    "    # print(color_j)\n",
    "\n",
    "    sound(x)\n",
    "    answer = input(str(x)+'?')\n",
    "\n",
    "    while int(answer) == 0:\n",
    "        sound(x)\n",
    "        answer = input(str(x)+'?')\n",
    "    df2.iloc[x, 2] = color_j[int(answer)]\n",
    "\n",
    "    if df2.iloc[x,1] == df2.iloc[x,2] :\n",
    "        print(df2.iloc[x,1] + ' : 正解! ^o^ せいかい!! \\^o^/\\n')\n",
    "        df2.iloc[x,3] = 'O'\n",
    "    else :\n",
    "        print(df2.iloc[x,1] + ' : 残念...ざんねん... o_o\\n')\n",
    "        df2.iloc[x,3] = 'X'\n",
    "\n",
    "    # print(df.iloc[0,x+1])\n",
    "print('{}問 せいかいしたよ！ (^.u.^)'.format(list(df2['B']=='O').count(True)))\n",
    "df = pd.concat([df, df2], ignore_index=True)\n",
    "df.to_csv(games_dict[int(game)], index=False)\n",
    "df2[['No.', 'Q', 'A', 'B']].T\n"
   ]
  },
  {
   "cell_type": "code",
   "execution_count": null,
   "metadata": {},
   "outputs": [],
   "source": []
  },
  {
   "cell_type": "code",
   "execution_count": null,
   "metadata": {},
   "outputs": [],
   "source": []
  },
  {
   "cell_type": "code",
   "execution_count": null,
   "metadata": {},
   "outputs": [],
   "source": []
  },
  {
   "cell_type": "code",
   "execution_count": null,
   "metadata": {},
   "outputs": [],
   "source": []
  },
  {
   "cell_type": "code",
   "execution_count": null,
   "metadata": {},
   "outputs": [],
   "source": []
  },
  {
   "attachments": {},
   "cell_type": "markdown",
   "metadata": {},
   "source": [
    "# テスト用回答作成"
   ]
  },
  {
   "cell_type": "code",
   "execution_count": 54,
   "metadata": {},
   "outputs": [
    {
     "name": "stderr",
     "output_type": "stream",
     "text": [
      "/var/folders/_g/xsh34k3n5s70gm9jd9v92gvc0000gn/T/ipykernel_87151/3068062770.py:14: SettingWithCopyWarning:\n",
      "\n",
      "\n",
      "A value is trying to be set on a copy of a slice from a DataFrame\n",
      "\n",
      "See the caveats in the documentation: https://pandas.pydata.org/pandas-docs/stable/user_guide/indexing.html#returning-a-view-versus-a-copy\n",
      "\n"
     ]
    },
    {
     "data": {
      "text/html": [
       "<div>\n",
       "<style scoped>\n",
       "    .dataframe tbody tr th:only-of-type {\n",
       "        vertical-align: middle;\n",
       "    }\n",
       "\n",
       "    .dataframe tbody tr th {\n",
       "        vertical-align: top;\n",
       "    }\n",
       "\n",
       "    .dataframe thead th {\n",
       "        text-align: right;\n",
       "    }\n",
       "</style>\n",
       "<table border=\"1\" class=\"dataframe\">\n",
       "  <thead>\n",
       "    <tr style=\"text-align: right;\">\n",
       "      <th></th>\n",
       "      <th>Today</th>\n",
       "      <th>session</th>\n",
       "      <th>Q</th>\n",
       "      <th>A</th>\n",
       "      <th>B</th>\n",
       "    </tr>\n",
       "    <tr>\n",
       "      <th>datetime</th>\n",
       "      <th></th>\n",
       "      <th></th>\n",
       "      <th></th>\n",
       "      <th></th>\n",
       "      <th></th>\n",
       "    </tr>\n",
       "  </thead>\n",
       "  <tbody>\n",
       "    <tr>\n",
       "      <th>2023-05-07 23:41:20</th>\n",
       "      <td>4</td>\n",
       "      <td>NaN</td>\n",
       "      <td>ピンク</td>\n",
       "      <td>NaN</td>\n",
       "      <td>NaN</td>\n",
       "    </tr>\n",
       "    <tr>\n",
       "      <th>2023-05-07 23:42:34</th>\n",
       "      <td>4</td>\n",
       "      <td>NaN</td>\n",
       "      <td>赤</td>\n",
       "      <td>赤</td>\n",
       "      <td>O</td>\n",
       "    </tr>\n",
       "    <tr>\n",
       "      <th>2023-05-07 23:42:40</th>\n",
       "      <td>4</td>\n",
       "      <td>NaN</td>\n",
       "      <td>茶</td>\n",
       "      <td>茶</td>\n",
       "      <td>O</td>\n",
       "    </tr>\n",
       "    <tr>\n",
       "      <th>2023-05-07 23:42:47</th>\n",
       "      <td>4</td>\n",
       "      <td>NaN</td>\n",
       "      <td>黄</td>\n",
       "      <td>青</td>\n",
       "      <td>X</td>\n",
       "    </tr>\n",
       "    <tr>\n",
       "      <th>2023-05-07 23:51:07</th>\n",
       "      <td>5</td>\n",
       "      <td>NaN</td>\n",
       "      <td>ピンク</td>\n",
       "      <td>ピンク</td>\n",
       "      <td>O</td>\n",
       "    </tr>\n",
       "    <tr>\n",
       "      <th>...</th>\n",
       "      <td>...</td>\n",
       "      <td>...</td>\n",
       "      <td>...</td>\n",
       "      <td>...</td>\n",
       "      <td>...</td>\n",
       "    </tr>\n",
       "    <tr>\n",
       "      <th>2023-05-08 00:40:33</th>\n",
       "      <td>NaN</td>\n",
       "      <td>NaN</td>\n",
       "      <td>黒</td>\n",
       "      <td>茶</td>\n",
       "      <td>X</td>\n",
       "    </tr>\n",
       "    <tr>\n",
       "      <th>2023-05-08 00:40:33</th>\n",
       "      <td>NaN</td>\n",
       "      <td>NaN</td>\n",
       "      <td>緑</td>\n",
       "      <td>紫</td>\n",
       "      <td>X</td>\n",
       "    </tr>\n",
       "    <tr>\n",
       "      <th>2023-05-08 00:40:33</th>\n",
       "      <td>NaN</td>\n",
       "      <td>NaN</td>\n",
       "      <td>青</td>\n",
       "      <td>緑</td>\n",
       "      <td>X</td>\n",
       "    </tr>\n",
       "    <tr>\n",
       "      <th>2023-05-08 00:40:33</th>\n",
       "      <td>NaN</td>\n",
       "      <td>NaN</td>\n",
       "      <td>緑</td>\n",
       "      <td>青</td>\n",
       "      <td>X</td>\n",
       "    </tr>\n",
       "    <tr>\n",
       "      <th>2023-05-08 00:40:33</th>\n",
       "      <td>NaN</td>\n",
       "      <td>NaN</td>\n",
       "      <td>黄</td>\n",
       "      <td>黄</td>\n",
       "      <td>O</td>\n",
       "    </tr>\n",
       "  </tbody>\n",
       "</table>\n",
       "<p>157 rows × 5 columns</p>\n",
       "</div>"
      ],
      "text/plain": [
       "                    Today session    Q    A    B\n",
       "datetime                                        \n",
       "2023-05-07 23:41:20     4     NaN  ピンク  NaN  NaN\n",
       "2023-05-07 23:42:34     4     NaN    赤    赤    O\n",
       "2023-05-07 23:42:40     4     NaN    茶    茶    O\n",
       "2023-05-07 23:42:47     4     NaN    黄    青    X\n",
       "2023-05-07 23:51:07     5     NaN  ピンク  ピンク    O\n",
       "...                   ...     ...  ...  ...  ...\n",
       "2023-05-08 00:40:33   NaN     NaN    黒    茶    X\n",
       "2023-05-08 00:40:33   NaN     NaN    緑    紫    X\n",
       "2023-05-08 00:40:33   NaN     NaN    青    緑    X\n",
       "2023-05-08 00:40:33   NaN     NaN    緑    青    X\n",
       "2023-05-08 00:40:33   NaN     NaN    黄    黄    O\n",
       "\n",
       "[157 rows x 5 columns]"
      ]
     },
     "execution_count": 54,
     "metadata": {},
     "output_type": "execute_result"
    }
   ],
   "source": [
    "import random\n",
    "\n",
    "# カラムの作成\n",
    "col = ['Today'] + ['session'] + ['Q'] + ['A'] + ['B'] + ['datetime']\n",
    "df2 = pd.DataFrame(columns=col)\n",
    "\n",
    "# 色をランダムに一つ選択して代入\n",
    "first =  random.choice(list(color_dic.keys()))\n",
    "new_dict = [c for c in color_dic if c != first]\n",
    "\n",
    "# 色をdfに追加し、新たなリストを作成、をloop\n",
    "df2['Q'] = list(range(30))\n",
    "for x in range(30):\n",
    "    df2['Q'].iloc[x] = random.choice(new_dict)\n",
    "    new_dict = [c for c in color_dic if c != df2['Q'].iloc[x]]\n",
    "\n",
    "# 色をdfに追加し、新たなリストを作成、をloop\n",
    "for x in range(30):\n",
    "    df2['A'].iloc[x] = random.choice(new_dict)\n",
    "    new_dict = [c for c in color_dic if c != df2['A'].iloc[x]]\n",
    "    if df2['A'].iloc[x]==df2['Q'].iloc[x]:\n",
    "        df2['B'].iloc[x]='O'\n",
    "    else :\n",
    "        df2['B'].iloc[x]='X'\n",
    "\n",
    "df2['datetime'] = datetime.datetime.now().strftime('%Y-%m-%d %H:%M:%S')\n",
    "df2['datetime'] = pd.to_datetime(df2['datetime'])\n",
    "df2.set_index('datetime', inplace=True)\n",
    "\n",
    "\n",
    "df = pd.concat([df, df2])\n",
    "# df.to_csv(games_dict[int(game)], index=False)\n",
    "df"
   ]
  },
  {
   "cell_type": "code",
   "execution_count": null,
   "metadata": {},
   "outputs": [],
   "source": []
  },
  {
   "cell_type": "code",
   "execution_count": null,
   "metadata": {},
   "outputs": [],
   "source": []
  },
  {
   "cell_type": "code",
   "execution_count": null,
   "metadata": {},
   "outputs": [],
   "source": []
  },
  {
   "cell_type": "code",
   "execution_count": null,
   "metadata": {},
   "outputs": [],
   "source": []
  },
  {
   "cell_type": "code",
   "execution_count": null,
   "metadata": {},
   "outputs": [],
   "source": []
  },
  {
   "cell_type": "code",
   "execution_count": null,
   "metadata": {},
   "outputs": [],
   "source": []
  },
  {
   "attachments": {},
   "cell_type": "markdown",
   "metadata": {},
   "source": [
    "# 間違ったペアをサンバーストで"
   ]
  },
  {
   "cell_type": "code",
   "execution_count": 201,
   "metadata": {},
   "outputs": [
    {
     "data": {
      "application/vnd.plotly.v1+json": {
       "config": {
        "plotlyServerURL": "https://plot.ly"
       },
       "data": [
        {
         "branchvalues": "total",
         "customdata": [
          [
           "O"
          ],
          [
           "X"
          ],
          [
           "X"
          ],
          [
           "X"
          ],
          [
           "X"
          ],
          [
           "X"
          ],
          [
           "X"
          ],
          [
           "X"
          ],
          [
           "(?)"
          ],
          [
           "X"
          ],
          [
           "X"
          ],
          [
           "X"
          ],
          [
           "X"
          ],
          [
           "X"
          ],
          [
           "X"
          ],
          [
           "X"
          ],
          [
           "X"
          ],
          [
           "X"
          ],
          [
           "O"
          ],
          [
           "X"
          ],
          [
           "X"
          ],
          [
           "X"
          ],
          [
           "X"
          ],
          [
           "X"
          ],
          [
           "X"
          ],
          [
           "X"
          ],
          [
           "X"
          ],
          [
           "X"
          ],
          [
           "X"
          ],
          [
           "(?)"
          ],
          [
           "(?)"
          ],
          [
           "(?)"
          ],
          [
           "(?)"
          ],
          [
           "(?)"
          ],
          [
           "(?)"
          ],
          [
           "O"
          ],
          [
           "(?)"
          ],
          [
           "X"
          ],
          [
           "X"
          ],
          [
           "X"
          ],
          [
           "X"
          ],
          [
           "X"
          ],
          [
           "X"
          ],
          [
           "O"
          ],
          [
           "X"
          ],
          [
           "X"
          ],
          [
           "O"
          ],
          [
           "X"
          ],
          [
           "X"
          ],
          [
           "X"
          ],
          [
           "X"
          ],
          [
           "X"
          ],
          [
           "X"
          ],
          [
           "X"
          ],
          [
           "O"
          ],
          [
           "X"
          ],
          [
           "X"
          ],
          [
           "X"
          ],
          [
           "X"
          ],
          [
           "X"
          ],
          [
           "X"
          ],
          [
           "O"
          ],
          [
           "X"
          ],
          [
           "X"
          ],
          [
           "X"
          ],
          [
           "X"
          ],
          [
           "X"
          ],
          [
           "(?)"
          ],
          [
           "X"
          ],
          [
           "X"
          ],
          [
           "O"
          ],
          [
           "X"
          ],
          [
           "O"
          ],
          [
           "X"
          ],
          [
           "X"
          ],
          [
           "X"
          ],
          [
           "X"
          ],
          [
           "X"
          ],
          [
           "X"
          ],
          [
           "X"
          ]
         ],
         "domain": {
          "x": [
           0,
           1
          ],
          "y": [
           0,
           1
          ]
         },
         "hovertemplate": "labels=%{label}<br>value=%{value}<br>parent=%{parent}<br>id=%{id}<br>B=%{customdata[0]}<extra></extra>",
         "ids": [
          "オレンジ/オレンジ",
          "紫/黒",
          "ピンク/青",
          "黒/緑",
          "紫/緑",
          "オレンジ/紫",
          "黒/ピンク",
          "黄/ピンク",
          "黒",
          "ピンク/オレンジ",
          "オレンジ/ピンク",
          "緑/オレンジ",
          "紫/ピンク",
          "茶/黄",
          "緑/黄",
          "紫/黄",
          "ピンク/黄",
          "オレンジ/黄",
          "青/青",
          "赤/青",
          "茶/青",
          "緑/青",
          "紫/青",
          "紫/オレンジ",
          "オレンジ/青",
          "黄/青",
          "青/黄",
          "黒/黄",
          "黒/赤",
          "青",
          "赤",
          "茶",
          "緑",
          "紫",
          "ピンク",
          "黄/黄",
          "オレンジ",
          "黄/黒",
          "青/黒",
          "赤/黒",
          "茶/黒",
          "緑/黒",
          "ピンク/黒",
          "黒/黒",
          "黄/赤",
          "青/赤",
          "赤/赤",
          "緑/ピンク",
          "茶/ピンク",
          "赤/ピンク",
          "青/ピンク",
          "黄/オレンジ",
          "青/オレンジ",
          "ピンク/紫",
          "紫/紫",
          "緑/紫",
          "茶/紫",
          "赤/紫",
          "黄/紫",
          "オレンジ/緑",
          "赤/オレンジ",
          "緑/緑",
          "茶/緑",
          "赤/緑",
          "茶/赤",
          "緑/赤",
          "紫/赤",
          "黄",
          "オレンジ/赤",
          "黒/茶",
          "ピンク/ピンク",
          "青/茶",
          "茶/茶",
          "緑/茶",
          "紫/茶",
          "ピンク/茶",
          "オレンジ/茶",
          "青/緑",
          "赤/茶",
          "ピンク/赤"
         ],
         "labels": [
          "オレンジ",
          "黒",
          "青",
          "緑",
          "緑",
          "紫",
          "ピンク",
          "ピンク",
          "黒",
          "オレンジ",
          "ピンク",
          "オレンジ",
          "ピンク",
          "黄",
          "黄",
          "黄",
          "黄",
          "黄",
          "青",
          "青",
          "青",
          "青",
          "青",
          "オレンジ",
          "青",
          "青",
          "黄",
          "黄",
          "赤",
          "青",
          "赤",
          "茶",
          "緑",
          "紫",
          "ピンク",
          "黄",
          "オレンジ",
          "黒",
          "黒",
          "黒",
          "黒",
          "黒",
          "黒",
          "黒",
          "赤",
          "赤",
          "赤",
          "ピンク",
          "ピンク",
          "ピンク",
          "ピンク",
          "オレンジ",
          "オレンジ",
          "紫",
          "紫",
          "紫",
          "紫",
          "紫",
          "紫",
          "緑",
          "オレンジ",
          "緑",
          "緑",
          "緑",
          "赤",
          "赤",
          "赤",
          "黄",
          "赤",
          "茶",
          "ピンク",
          "茶",
          "茶",
          "茶",
          "茶",
          "茶",
          "茶",
          "緑",
          "茶",
          "赤"
         ],
         "marker": {
          "colors": [
           "green",
           "red",
           "red",
           "red",
           "red",
           "red",
           "red",
           "red",
           "#00cc96",
           "red",
           "red",
           "red",
           "red",
           "red",
           "red",
           "red",
           "red",
           "red",
           "green",
           "red",
           "red",
           "red",
           "red",
           "red",
           "red",
           "red",
           "red",
           "red",
           "red",
           "#00cc96",
           "#00cc96",
           "#00cc96",
           "#00cc96",
           "#00cc96",
           "#00cc96",
           "green",
           "#00cc96",
           "red",
           "red",
           "red",
           "red",
           "red",
           "red",
           "green",
           "red",
           "red",
           "green",
           "red",
           "red",
           "red",
           "red",
           "red",
           "red",
           "red",
           "green",
           "red",
           "red",
           "red",
           "red",
           "red",
           "red",
           "green",
           "red",
           "red",
           "red",
           "red",
           "red",
           "#00cc96",
           "red",
           "red",
           "green",
           "red",
           "green",
           "red",
           "red",
           "red",
           "red",
           "red",
           "red",
           "red"
          ]
         },
         "name": "",
         "parents": [
          "オレンジ",
          "紫",
          "ピンク",
          "黒",
          "紫",
          "オレンジ",
          "黒",
          "黄",
          "",
          "ピンク",
          "オレンジ",
          "緑",
          "紫",
          "茶",
          "緑",
          "紫",
          "ピンク",
          "オレンジ",
          "青",
          "赤",
          "茶",
          "緑",
          "紫",
          "紫",
          "オレンジ",
          "黄",
          "青",
          "黒",
          "黒",
          "",
          "",
          "",
          "",
          "",
          "",
          "黄",
          "",
          "黄",
          "青",
          "赤",
          "茶",
          "緑",
          "ピンク",
          "黒",
          "黄",
          "青",
          "赤",
          "緑",
          "茶",
          "赤",
          "青",
          "黄",
          "青",
          "ピンク",
          "紫",
          "緑",
          "茶",
          "赤",
          "黄",
          "オレンジ",
          "赤",
          "緑",
          "茶",
          "赤",
          "茶",
          "緑",
          "紫",
          "",
          "オレンジ",
          "黒",
          "ピンク",
          "青",
          "茶",
          "緑",
          "紫",
          "ピンク",
          "オレンジ",
          "青",
          "赤",
          "ピンク"
         ],
         "type": "sunburst",
         "values": [
          13,
          3,
          3,
          2,
          2,
          3,
          2,
          3,
          19,
          1,
          1,
          1,
          5,
          1,
          3,
          3,
          2,
          1,
          8,
          3,
          5,
          3,
          2,
          2,
          1,
          3,
          3,
          1,
          3,
          31,
          28,
          31,
          34,
          27,
          26,
          13,
          25,
          2,
          7,
          1,
          2,
          2,
          1,
          8,
          3,
          3,
          16,
          4,
          5,
          1,
          1,
          2,
          3,
          2,
          7,
          3,
          6,
          2,
          1,
          2,
          1,
          9,
          2,
          1,
          2,
          5,
          2,
          27,
          1,
          3,
          9,
          2,
          8,
          4,
          1,
          1,
          3,
          4,
          3,
          7
         ]
        }
       ],
       "layout": {
        "height": 600,
        "legend": {
         "tracegroupgap": 0
        },
        "margin": {
         "t": 60
        },
        "template": {
         "data": {
          "bar": [
           {
            "error_x": {
             "color": "#2a3f5f"
            },
            "error_y": {
             "color": "#2a3f5f"
            },
            "marker": {
             "line": {
              "color": "#E5ECF6",
              "width": 0.5
             },
             "pattern": {
              "fillmode": "overlay",
              "size": 10,
              "solidity": 0.2
             }
            },
            "type": "bar"
           }
          ],
          "barpolar": [
           {
            "marker": {
             "line": {
              "color": "#E5ECF6",
              "width": 0.5
             },
             "pattern": {
              "fillmode": "overlay",
              "size": 10,
              "solidity": 0.2
             }
            },
            "type": "barpolar"
           }
          ],
          "carpet": [
           {
            "aaxis": {
             "endlinecolor": "#2a3f5f",
             "gridcolor": "white",
             "linecolor": "white",
             "minorgridcolor": "white",
             "startlinecolor": "#2a3f5f"
            },
            "baxis": {
             "endlinecolor": "#2a3f5f",
             "gridcolor": "white",
             "linecolor": "white",
             "minorgridcolor": "white",
             "startlinecolor": "#2a3f5f"
            },
            "type": "carpet"
           }
          ],
          "choropleth": [
           {
            "colorbar": {
             "outlinewidth": 0,
             "ticks": ""
            },
            "type": "choropleth"
           }
          ],
          "contour": [
           {
            "colorbar": {
             "outlinewidth": 0,
             "ticks": ""
            },
            "colorscale": [
             [
              0,
              "#0d0887"
             ],
             [
              0.1111111111111111,
              "#46039f"
             ],
             [
              0.2222222222222222,
              "#7201a8"
             ],
             [
              0.3333333333333333,
              "#9c179e"
             ],
             [
              0.4444444444444444,
              "#bd3786"
             ],
             [
              0.5555555555555556,
              "#d8576b"
             ],
             [
              0.6666666666666666,
              "#ed7953"
             ],
             [
              0.7777777777777778,
              "#fb9f3a"
             ],
             [
              0.8888888888888888,
              "#fdca26"
             ],
             [
              1,
              "#f0f921"
             ]
            ],
            "type": "contour"
           }
          ],
          "contourcarpet": [
           {
            "colorbar": {
             "outlinewidth": 0,
             "ticks": ""
            },
            "type": "contourcarpet"
           }
          ],
          "heatmap": [
           {
            "colorbar": {
             "outlinewidth": 0,
             "ticks": ""
            },
            "colorscale": [
             [
              0,
              "#0d0887"
             ],
             [
              0.1111111111111111,
              "#46039f"
             ],
             [
              0.2222222222222222,
              "#7201a8"
             ],
             [
              0.3333333333333333,
              "#9c179e"
             ],
             [
              0.4444444444444444,
              "#bd3786"
             ],
             [
              0.5555555555555556,
              "#d8576b"
             ],
             [
              0.6666666666666666,
              "#ed7953"
             ],
             [
              0.7777777777777778,
              "#fb9f3a"
             ],
             [
              0.8888888888888888,
              "#fdca26"
             ],
             [
              1,
              "#f0f921"
             ]
            ],
            "type": "heatmap"
           }
          ],
          "heatmapgl": [
           {
            "colorbar": {
             "outlinewidth": 0,
             "ticks": ""
            },
            "colorscale": [
             [
              0,
              "#0d0887"
             ],
             [
              0.1111111111111111,
              "#46039f"
             ],
             [
              0.2222222222222222,
              "#7201a8"
             ],
             [
              0.3333333333333333,
              "#9c179e"
             ],
             [
              0.4444444444444444,
              "#bd3786"
             ],
             [
              0.5555555555555556,
              "#d8576b"
             ],
             [
              0.6666666666666666,
              "#ed7953"
             ],
             [
              0.7777777777777778,
              "#fb9f3a"
             ],
             [
              0.8888888888888888,
              "#fdca26"
             ],
             [
              1,
              "#f0f921"
             ]
            ],
            "type": "heatmapgl"
           }
          ],
          "histogram": [
           {
            "marker": {
             "pattern": {
              "fillmode": "overlay",
              "size": 10,
              "solidity": 0.2
             }
            },
            "type": "histogram"
           }
          ],
          "histogram2d": [
           {
            "colorbar": {
             "outlinewidth": 0,
             "ticks": ""
            },
            "colorscale": [
             [
              0,
              "#0d0887"
             ],
             [
              0.1111111111111111,
              "#46039f"
             ],
             [
              0.2222222222222222,
              "#7201a8"
             ],
             [
              0.3333333333333333,
              "#9c179e"
             ],
             [
              0.4444444444444444,
              "#bd3786"
             ],
             [
              0.5555555555555556,
              "#d8576b"
             ],
             [
              0.6666666666666666,
              "#ed7953"
             ],
             [
              0.7777777777777778,
              "#fb9f3a"
             ],
             [
              0.8888888888888888,
              "#fdca26"
             ],
             [
              1,
              "#f0f921"
             ]
            ],
            "type": "histogram2d"
           }
          ],
          "histogram2dcontour": [
           {
            "colorbar": {
             "outlinewidth": 0,
             "ticks": ""
            },
            "colorscale": [
             [
              0,
              "#0d0887"
             ],
             [
              0.1111111111111111,
              "#46039f"
             ],
             [
              0.2222222222222222,
              "#7201a8"
             ],
             [
              0.3333333333333333,
              "#9c179e"
             ],
             [
              0.4444444444444444,
              "#bd3786"
             ],
             [
              0.5555555555555556,
              "#d8576b"
             ],
             [
              0.6666666666666666,
              "#ed7953"
             ],
             [
              0.7777777777777778,
              "#fb9f3a"
             ],
             [
              0.8888888888888888,
              "#fdca26"
             ],
             [
              1,
              "#f0f921"
             ]
            ],
            "type": "histogram2dcontour"
           }
          ],
          "mesh3d": [
           {
            "colorbar": {
             "outlinewidth": 0,
             "ticks": ""
            },
            "type": "mesh3d"
           }
          ],
          "parcoords": [
           {
            "line": {
             "colorbar": {
              "outlinewidth": 0,
              "ticks": ""
             }
            },
            "type": "parcoords"
           }
          ],
          "pie": [
           {
            "automargin": true,
            "type": "pie"
           }
          ],
          "scatter": [
           {
            "fillpattern": {
             "fillmode": "overlay",
             "size": 10,
             "solidity": 0.2
            },
            "type": "scatter"
           }
          ],
          "scatter3d": [
           {
            "line": {
             "colorbar": {
              "outlinewidth": 0,
              "ticks": ""
             }
            },
            "marker": {
             "colorbar": {
              "outlinewidth": 0,
              "ticks": ""
             }
            },
            "type": "scatter3d"
           }
          ],
          "scattercarpet": [
           {
            "marker": {
             "colorbar": {
              "outlinewidth": 0,
              "ticks": ""
             }
            },
            "type": "scattercarpet"
           }
          ],
          "scattergeo": [
           {
            "marker": {
             "colorbar": {
              "outlinewidth": 0,
              "ticks": ""
             }
            },
            "type": "scattergeo"
           }
          ],
          "scattergl": [
           {
            "marker": {
             "colorbar": {
              "outlinewidth": 0,
              "ticks": ""
             }
            },
            "type": "scattergl"
           }
          ],
          "scattermapbox": [
           {
            "marker": {
             "colorbar": {
              "outlinewidth": 0,
              "ticks": ""
             }
            },
            "type": "scattermapbox"
           }
          ],
          "scatterpolar": [
           {
            "marker": {
             "colorbar": {
              "outlinewidth": 0,
              "ticks": ""
             }
            },
            "type": "scatterpolar"
           }
          ],
          "scatterpolargl": [
           {
            "marker": {
             "colorbar": {
              "outlinewidth": 0,
              "ticks": ""
             }
            },
            "type": "scatterpolargl"
           }
          ],
          "scatterternary": [
           {
            "marker": {
             "colorbar": {
              "outlinewidth": 0,
              "ticks": ""
             }
            },
            "type": "scatterternary"
           }
          ],
          "surface": [
           {
            "colorbar": {
             "outlinewidth": 0,
             "ticks": ""
            },
            "colorscale": [
             [
              0,
              "#0d0887"
             ],
             [
              0.1111111111111111,
              "#46039f"
             ],
             [
              0.2222222222222222,
              "#7201a8"
             ],
             [
              0.3333333333333333,
              "#9c179e"
             ],
             [
              0.4444444444444444,
              "#bd3786"
             ],
             [
              0.5555555555555556,
              "#d8576b"
             ],
             [
              0.6666666666666666,
              "#ed7953"
             ],
             [
              0.7777777777777778,
              "#fb9f3a"
             ],
             [
              0.8888888888888888,
              "#fdca26"
             ],
             [
              1,
              "#f0f921"
             ]
            ],
            "type": "surface"
           }
          ],
          "table": [
           {
            "cells": {
             "fill": {
              "color": "#EBF0F8"
             },
             "line": {
              "color": "white"
             }
            },
            "header": {
             "fill": {
              "color": "#C8D4E3"
             },
             "line": {
              "color": "white"
             }
            },
            "type": "table"
           }
          ]
         },
         "layout": {
          "annotationdefaults": {
           "arrowcolor": "#2a3f5f",
           "arrowhead": 0,
           "arrowwidth": 1
          },
          "autotypenumbers": "strict",
          "coloraxis": {
           "colorbar": {
            "outlinewidth": 0,
            "ticks": ""
           }
          },
          "colorscale": {
           "diverging": [
            [
             0,
             "#8e0152"
            ],
            [
             0.1,
             "#c51b7d"
            ],
            [
             0.2,
             "#de77ae"
            ],
            [
             0.3,
             "#f1b6da"
            ],
            [
             0.4,
             "#fde0ef"
            ],
            [
             0.5,
             "#f7f7f7"
            ],
            [
             0.6,
             "#e6f5d0"
            ],
            [
             0.7,
             "#b8e186"
            ],
            [
             0.8,
             "#7fbc41"
            ],
            [
             0.9,
             "#4d9221"
            ],
            [
             1,
             "#276419"
            ]
           ],
           "sequential": [
            [
             0,
             "#0d0887"
            ],
            [
             0.1111111111111111,
             "#46039f"
            ],
            [
             0.2222222222222222,
             "#7201a8"
            ],
            [
             0.3333333333333333,
             "#9c179e"
            ],
            [
             0.4444444444444444,
             "#bd3786"
            ],
            [
             0.5555555555555556,
             "#d8576b"
            ],
            [
             0.6666666666666666,
             "#ed7953"
            ],
            [
             0.7777777777777778,
             "#fb9f3a"
            ],
            [
             0.8888888888888888,
             "#fdca26"
            ],
            [
             1,
             "#f0f921"
            ]
           ],
           "sequentialminus": [
            [
             0,
             "#0d0887"
            ],
            [
             0.1111111111111111,
             "#46039f"
            ],
            [
             0.2222222222222222,
             "#7201a8"
            ],
            [
             0.3333333333333333,
             "#9c179e"
            ],
            [
             0.4444444444444444,
             "#bd3786"
            ],
            [
             0.5555555555555556,
             "#d8576b"
            ],
            [
             0.6666666666666666,
             "#ed7953"
            ],
            [
             0.7777777777777778,
             "#fb9f3a"
            ],
            [
             0.8888888888888888,
             "#fdca26"
            ],
            [
             1,
             "#f0f921"
            ]
           ]
          },
          "colorway": [
           "#636efa",
           "#EF553B",
           "#00cc96",
           "#ab63fa",
           "#FFA15A",
           "#19d3f3",
           "#FF6692",
           "#B6E880",
           "#FF97FF",
           "#FECB52"
          ],
          "font": {
           "color": "#2a3f5f"
          },
          "geo": {
           "bgcolor": "white",
           "lakecolor": "white",
           "landcolor": "#E5ECF6",
           "showlakes": true,
           "showland": true,
           "subunitcolor": "white"
          },
          "hoverlabel": {
           "align": "left"
          },
          "hovermode": "closest",
          "mapbox": {
           "style": "light"
          },
          "paper_bgcolor": "white",
          "plot_bgcolor": "#E5ECF6",
          "polar": {
           "angularaxis": {
            "gridcolor": "white",
            "linecolor": "white",
            "ticks": ""
           },
           "bgcolor": "#E5ECF6",
           "radialaxis": {
            "gridcolor": "white",
            "linecolor": "white",
            "ticks": ""
           }
          },
          "scene": {
           "xaxis": {
            "backgroundcolor": "#E5ECF6",
            "gridcolor": "white",
            "gridwidth": 2,
            "linecolor": "white",
            "showbackground": true,
            "ticks": "",
            "zerolinecolor": "white"
           },
           "yaxis": {
            "backgroundcolor": "#E5ECF6",
            "gridcolor": "white",
            "gridwidth": 2,
            "linecolor": "white",
            "showbackground": true,
            "ticks": "",
            "zerolinecolor": "white"
           },
           "zaxis": {
            "backgroundcolor": "#E5ECF6",
            "gridcolor": "white",
            "gridwidth": 2,
            "linecolor": "white",
            "showbackground": true,
            "ticks": "",
            "zerolinecolor": "white"
           }
          },
          "shapedefaults": {
           "line": {
            "color": "#2a3f5f"
           }
          },
          "ternary": {
           "aaxis": {
            "gridcolor": "white",
            "linecolor": "white",
            "ticks": ""
           },
           "baxis": {
            "gridcolor": "white",
            "linecolor": "white",
            "ticks": ""
           },
           "bgcolor": "#E5ECF6",
           "caxis": {
            "gridcolor": "white",
            "linecolor": "white",
            "ticks": ""
           }
          },
          "title": {
           "x": 0.05
          },
          "xaxis": {
           "automargin": true,
           "gridcolor": "white",
           "linecolor": "white",
           "ticks": "",
           "title": {
            "standoff": 15
           },
           "zerolinecolor": "white",
           "zerolinewidth": 2
          },
          "yaxis": {
           "automargin": true,
           "gridcolor": "white",
           "linecolor": "white",
           "ticks": "",
           "title": {
            "standoff": 15
           },
           "zerolinecolor": "white",
           "zerolinewidth": 2
          }
         }
        },
        "title": {
         "text": "Total"
        },
        "width": 800
       }
      }
     },
     "metadata": {},
     "output_type": "display_data"
    }
   ],
   "source": [
    "import plotly.express as px\n",
    "\n",
    "fig = px.sunburst(df.iloc[1:], \n",
    "                  path=['Q', 'A'], \n",
    "                  values=[1]*len(df[1:]), \n",
    "                  color='B',\n",
    "                  color_discrete_map={'O': 'green', 'X': 'red'}\n",
    "                  )\n",
    "fig.update_layout(height=600, width=800, title_text=\"Total\")\n",
    "fig.show()\n",
    "\n"
   ]
  },
  {
   "cell_type": "code",
   "execution_count": null,
   "metadata": {},
   "outputs": [],
   "source": []
  },
  {
   "cell_type": "code",
   "execution_count": null,
   "metadata": {},
   "outputs": [],
   "source": []
  },
  {
   "cell_type": "code",
   "execution_count": 12,
   "metadata": {},
   "outputs": [
    {
     "data": {
      "application/vnd.plotly.v1+json": {
       "config": {
        "plotlyServerURL": "https://plot.ly"
       },
       "data": [
        {
         "domain": {
          "x": [
           0,
           0.45
          ],
          "y": [
           0,
           1
          ]
         },
         "labels": [
          "ピンク",
          "青",
          "オレンジ",
          "茶",
          "紫",
          "ピンク",
          "紫",
          "赤",
          "青",
          "オレンジ",
          "赤",
          "青",
          "黄",
          "ピンク",
          "赤",
          "青",
          "ピンク",
          "オレンジ",
          "ピンク",
          "黒",
          "青",
          "黒",
          "茶",
          "黄",
          "赤",
          "オレンジ",
          "赤",
          "黄",
          "赤",
          "緑",
          "ピンク",
          "青",
          "オレンジ",
          "茶",
          "紫",
          "ピンク",
          "紫",
          "赤",
          "青",
          "オレンジ",
          "赤",
          "青",
          "黄",
          "ピンク",
          "赤",
          "青",
          "ピンク",
          "オレンジ",
          "ピンク",
          "黒",
          "青",
          "黒",
          "茶",
          "黄",
          "赤",
          "オレンジ",
          "赤",
          "黄",
          "赤",
          "緑",
          "オレンジ",
          "赤",
          "黄",
          "オレンジ",
          "赤",
          "オレンジ",
          "赤",
          "ピンク",
          "茶",
          "黄",
          "青",
          "赤",
          "緑",
          "ピンク",
          "青",
          "黒",
          "ピンク",
          "青",
          "ピンク",
          "青",
          "黄",
          "ピンク",
          "赤",
          "茶",
          "青",
          "オレンジ",
          "緑",
          "オレンジ",
          "黒",
          "茶",
          "緑",
          "黄",
          "オレンジ",
          "青",
          "黒",
          "オレンジ",
          "黄",
          "紫",
          "ピンク",
          "オレンジ",
          "緑",
          "ピンク",
          "茶",
          "黄",
          "緑",
          "青",
          "オレンジ",
          "茶",
          "オレンジ",
          "緑",
          "紫",
          "青",
          "オレンジ",
          "茶",
          "緑",
          "黄",
          "黒",
          "紫",
          "オレンジ",
          "黄",
          "緑",
          "茶",
          "青",
          "緑",
          "赤",
          "青",
          "茶",
          "緑",
          "黄",
          "紫",
          "オレンジ",
          "黄",
          "オレンジ",
          "茶",
          "青",
          "茶",
          "赤",
          "オレンジ",
          "緑",
          "黒",
          "黄",
          "ピンク",
          "茶",
          "青",
          "黒",
          "青",
          "赤",
          "緑",
          "黒",
          "紫"
         ],
         "parents": [
          "緑",
          "青",
          "赤",
          "茶",
          "緑",
          "緑",
          "緑",
          "赤",
          "赤",
          "オレンジ",
          "赤",
          "青",
          "黄",
          "ピンク",
          "赤",
          "黄",
          "ピンク",
          "オレンジ",
          "ピンク",
          "黒",
          "青",
          "黒",
          "茶",
          "黄",
          "赤",
          "オレンジ",
          "緑",
          "黄",
          "赤",
          "緑",
          "ピンク",
          "緑",
          "オレンジ",
          "茶",
          "紫",
          "ピンク",
          "緑",
          "オレンジ",
          "青",
          "オレンジ",
          "黄",
          "緑",
          "黄",
          "ピンク",
          "赤",
          "青",
          "ピンク",
          "オレンジ",
          "ピンク",
          "黄",
          "青",
          "黄",
          "茶",
          "黄",
          "赤",
          "オレンジ",
          "赤",
          "黄",
          "赤",
          "緑",
          "オレンジ",
          "紫",
          "紫",
          "オレンジ",
          "紫",
          "茶",
          "赤",
          "茶",
          "青",
          "オレンジ",
          "紫",
          "緑",
          "緑",
          "青",
          "黒",
          "黒",
          "緑",
          "紫",
          "黒",
          "黒",
          "ピンク",
          "青",
          "緑",
          "緑",
          "ピンク",
          "黒",
          "赤",
          "オレンジ",
          "黒",
          "オレンジ",
          "黒",
          "オレンジ",
          "紫",
          "青",
          "オレンジ",
          "ピンク",
          "黄",
          "青",
          "赤",
          "オレンジ",
          "紫",
          "黄",
          "紫",
          "紫",
          "茶",
          "ピンク",
          "茶",
          "緑",
          "黒",
          "黒",
          "紫",
          "緑",
          "紫",
          "茶",
          "黄",
          "赤",
          "紫",
          "青",
          "ピンク",
          "赤",
          "緑",
          "紫",
          "青",
          "茶",
          "赤",
          "オレンジ",
          "茶",
          "青",
          "紫",
          "緑",
          "茶",
          "茶",
          "茶",
          "緑",
          "緑",
          "紫",
          "黄",
          "茶",
          "紫",
          "黒",
          "黄",
          "青",
          "黒",
          "オレンジ",
          "オレンジ",
          "青",
          "黒",
          "紫",
          "ピンク",
          "赤"
         ],
         "type": "sunburst",
         "values": [
          1,
          1,
          1,
          1,
          1,
          1,
          1,
          1,
          1,
          1,
          1,
          1,
          1,
          1,
          1,
          1,
          1,
          1,
          1,
          1,
          1,
          1,
          1,
          1,
          1,
          1,
          1,
          1,
          1,
          1,
          1,
          1,
          1,
          1,
          1,
          1,
          1,
          1,
          1,
          1,
          1,
          1,
          1,
          1,
          1,
          1,
          1,
          1,
          1,
          1,
          1,
          1,
          1,
          1,
          1,
          1,
          1,
          1,
          1,
          1,
          1,
          1,
          1,
          1,
          1,
          1,
          1,
          1,
          1,
          1,
          1,
          1,
          1,
          1,
          1,
          1,
          1,
          1,
          1,
          1,
          1,
          1,
          1,
          1,
          1,
          1,
          1,
          1,
          1,
          1,
          1,
          1,
          1,
          1,
          1,
          1,
          1,
          1,
          1,
          1,
          1,
          1,
          1,
          1,
          1,
          1,
          1,
          1,
          1,
          1,
          1,
          1,
          1,
          1,
          1,
          1,
          1,
          1,
          1,
          1,
          1,
          1,
          1,
          1,
          1,
          1,
          1,
          1,
          1,
          1,
          1,
          1,
          1,
          1,
          1,
          1,
          1,
          1,
          1,
          1,
          1,
          1,
          1,
          1,
          1,
          1,
          1,
          1,
          1,
          1
         ]
        }
       ],
       "layout": {
        "height": 600,
        "template": {
         "data": {
          "bar": [
           {
            "error_x": {
             "color": "#2a3f5f"
            },
            "error_y": {
             "color": "#2a3f5f"
            },
            "marker": {
             "line": {
              "color": "#E5ECF6",
              "width": 0.5
             },
             "pattern": {
              "fillmode": "overlay",
              "size": 10,
              "solidity": 0.2
             }
            },
            "type": "bar"
           }
          ],
          "barpolar": [
           {
            "marker": {
             "line": {
              "color": "#E5ECF6",
              "width": 0.5
             },
             "pattern": {
              "fillmode": "overlay",
              "size": 10,
              "solidity": 0.2
             }
            },
            "type": "barpolar"
           }
          ],
          "carpet": [
           {
            "aaxis": {
             "endlinecolor": "#2a3f5f",
             "gridcolor": "white",
             "linecolor": "white",
             "minorgridcolor": "white",
             "startlinecolor": "#2a3f5f"
            },
            "baxis": {
             "endlinecolor": "#2a3f5f",
             "gridcolor": "white",
             "linecolor": "white",
             "minorgridcolor": "white",
             "startlinecolor": "#2a3f5f"
            },
            "type": "carpet"
           }
          ],
          "choropleth": [
           {
            "colorbar": {
             "outlinewidth": 0,
             "ticks": ""
            },
            "type": "choropleth"
           }
          ],
          "contour": [
           {
            "colorbar": {
             "outlinewidth": 0,
             "ticks": ""
            },
            "colorscale": [
             [
              0,
              "#0d0887"
             ],
             [
              0.1111111111111111,
              "#46039f"
             ],
             [
              0.2222222222222222,
              "#7201a8"
             ],
             [
              0.3333333333333333,
              "#9c179e"
             ],
             [
              0.4444444444444444,
              "#bd3786"
             ],
             [
              0.5555555555555556,
              "#d8576b"
             ],
             [
              0.6666666666666666,
              "#ed7953"
             ],
             [
              0.7777777777777778,
              "#fb9f3a"
             ],
             [
              0.8888888888888888,
              "#fdca26"
             ],
             [
              1,
              "#f0f921"
             ]
            ],
            "type": "contour"
           }
          ],
          "contourcarpet": [
           {
            "colorbar": {
             "outlinewidth": 0,
             "ticks": ""
            },
            "type": "contourcarpet"
           }
          ],
          "heatmap": [
           {
            "colorbar": {
             "outlinewidth": 0,
             "ticks": ""
            },
            "colorscale": [
             [
              0,
              "#0d0887"
             ],
             [
              0.1111111111111111,
              "#46039f"
             ],
             [
              0.2222222222222222,
              "#7201a8"
             ],
             [
              0.3333333333333333,
              "#9c179e"
             ],
             [
              0.4444444444444444,
              "#bd3786"
             ],
             [
              0.5555555555555556,
              "#d8576b"
             ],
             [
              0.6666666666666666,
              "#ed7953"
             ],
             [
              0.7777777777777778,
              "#fb9f3a"
             ],
             [
              0.8888888888888888,
              "#fdca26"
             ],
             [
              1,
              "#f0f921"
             ]
            ],
            "type": "heatmap"
           }
          ],
          "heatmapgl": [
           {
            "colorbar": {
             "outlinewidth": 0,
             "ticks": ""
            },
            "colorscale": [
             [
              0,
              "#0d0887"
             ],
             [
              0.1111111111111111,
              "#46039f"
             ],
             [
              0.2222222222222222,
              "#7201a8"
             ],
             [
              0.3333333333333333,
              "#9c179e"
             ],
             [
              0.4444444444444444,
              "#bd3786"
             ],
             [
              0.5555555555555556,
              "#d8576b"
             ],
             [
              0.6666666666666666,
              "#ed7953"
             ],
             [
              0.7777777777777778,
              "#fb9f3a"
             ],
             [
              0.8888888888888888,
              "#fdca26"
             ],
             [
              1,
              "#f0f921"
             ]
            ],
            "type": "heatmapgl"
           }
          ],
          "histogram": [
           {
            "marker": {
             "pattern": {
              "fillmode": "overlay",
              "size": 10,
              "solidity": 0.2
             }
            },
            "type": "histogram"
           }
          ],
          "histogram2d": [
           {
            "colorbar": {
             "outlinewidth": 0,
             "ticks": ""
            },
            "colorscale": [
             [
              0,
              "#0d0887"
             ],
             [
              0.1111111111111111,
              "#46039f"
             ],
             [
              0.2222222222222222,
              "#7201a8"
             ],
             [
              0.3333333333333333,
              "#9c179e"
             ],
             [
              0.4444444444444444,
              "#bd3786"
             ],
             [
              0.5555555555555556,
              "#d8576b"
             ],
             [
              0.6666666666666666,
              "#ed7953"
             ],
             [
              0.7777777777777778,
              "#fb9f3a"
             ],
             [
              0.8888888888888888,
              "#fdca26"
             ],
             [
              1,
              "#f0f921"
             ]
            ],
            "type": "histogram2d"
           }
          ],
          "histogram2dcontour": [
           {
            "colorbar": {
             "outlinewidth": 0,
             "ticks": ""
            },
            "colorscale": [
             [
              0,
              "#0d0887"
             ],
             [
              0.1111111111111111,
              "#46039f"
             ],
             [
              0.2222222222222222,
              "#7201a8"
             ],
             [
              0.3333333333333333,
              "#9c179e"
             ],
             [
              0.4444444444444444,
              "#bd3786"
             ],
             [
              0.5555555555555556,
              "#d8576b"
             ],
             [
              0.6666666666666666,
              "#ed7953"
             ],
             [
              0.7777777777777778,
              "#fb9f3a"
             ],
             [
              0.8888888888888888,
              "#fdca26"
             ],
             [
              1,
              "#f0f921"
             ]
            ],
            "type": "histogram2dcontour"
           }
          ],
          "mesh3d": [
           {
            "colorbar": {
             "outlinewidth": 0,
             "ticks": ""
            },
            "type": "mesh3d"
           }
          ],
          "parcoords": [
           {
            "line": {
             "colorbar": {
              "outlinewidth": 0,
              "ticks": ""
             }
            },
            "type": "parcoords"
           }
          ],
          "pie": [
           {
            "automargin": true,
            "type": "pie"
           }
          ],
          "scatter": [
           {
            "fillpattern": {
             "fillmode": "overlay",
             "size": 10,
             "solidity": 0.2
            },
            "type": "scatter"
           }
          ],
          "scatter3d": [
           {
            "line": {
             "colorbar": {
              "outlinewidth": 0,
              "ticks": ""
             }
            },
            "marker": {
             "colorbar": {
              "outlinewidth": 0,
              "ticks": ""
             }
            },
            "type": "scatter3d"
           }
          ],
          "scattercarpet": [
           {
            "marker": {
             "colorbar": {
              "outlinewidth": 0,
              "ticks": ""
             }
            },
            "type": "scattercarpet"
           }
          ],
          "scattergeo": [
           {
            "marker": {
             "colorbar": {
              "outlinewidth": 0,
              "ticks": ""
             }
            },
            "type": "scattergeo"
           }
          ],
          "scattergl": [
           {
            "marker": {
             "colorbar": {
              "outlinewidth": 0,
              "ticks": ""
             }
            },
            "type": "scattergl"
           }
          ],
          "scattermapbox": [
           {
            "marker": {
             "colorbar": {
              "outlinewidth": 0,
              "ticks": ""
             }
            },
            "type": "scattermapbox"
           }
          ],
          "scatterpolar": [
           {
            "marker": {
             "colorbar": {
              "outlinewidth": 0,
              "ticks": ""
             }
            },
            "type": "scatterpolar"
           }
          ],
          "scatterpolargl": [
           {
            "marker": {
             "colorbar": {
              "outlinewidth": 0,
              "ticks": ""
             }
            },
            "type": "scatterpolargl"
           }
          ],
          "scatterternary": [
           {
            "marker": {
             "colorbar": {
              "outlinewidth": 0,
              "ticks": ""
             }
            },
            "type": "scatterternary"
           }
          ],
          "surface": [
           {
            "colorbar": {
             "outlinewidth": 0,
             "ticks": ""
            },
            "colorscale": [
             [
              0,
              "#0d0887"
             ],
             [
              0.1111111111111111,
              "#46039f"
             ],
             [
              0.2222222222222222,
              "#7201a8"
             ],
             [
              0.3333333333333333,
              "#9c179e"
             ],
             [
              0.4444444444444444,
              "#bd3786"
             ],
             [
              0.5555555555555556,
              "#d8576b"
             ],
             [
              0.6666666666666666,
              "#ed7953"
             ],
             [
              0.7777777777777778,
              "#fb9f3a"
             ],
             [
              0.8888888888888888,
              "#fdca26"
             ],
             [
              1,
              "#f0f921"
             ]
            ],
            "type": "surface"
           }
          ],
          "table": [
           {
            "cells": {
             "fill": {
              "color": "#EBF0F8"
             },
             "line": {
              "color": "white"
             }
            },
            "header": {
             "fill": {
              "color": "#C8D4E3"
             },
             "line": {
              "color": "white"
             }
            },
            "type": "table"
           }
          ]
         },
         "layout": {
          "annotationdefaults": {
           "arrowcolor": "#2a3f5f",
           "arrowhead": 0,
           "arrowwidth": 1
          },
          "autotypenumbers": "strict",
          "coloraxis": {
           "colorbar": {
            "outlinewidth": 0,
            "ticks": ""
           }
          },
          "colorscale": {
           "diverging": [
            [
             0,
             "#8e0152"
            ],
            [
             0.1,
             "#c51b7d"
            ],
            [
             0.2,
             "#de77ae"
            ],
            [
             0.3,
             "#f1b6da"
            ],
            [
             0.4,
             "#fde0ef"
            ],
            [
             0.5,
             "#f7f7f7"
            ],
            [
             0.6,
             "#e6f5d0"
            ],
            [
             0.7,
             "#b8e186"
            ],
            [
             0.8,
             "#7fbc41"
            ],
            [
             0.9,
             "#4d9221"
            ],
            [
             1,
             "#276419"
            ]
           ],
           "sequential": [
            [
             0,
             "#0d0887"
            ],
            [
             0.1111111111111111,
             "#46039f"
            ],
            [
             0.2222222222222222,
             "#7201a8"
            ],
            [
             0.3333333333333333,
             "#9c179e"
            ],
            [
             0.4444444444444444,
             "#bd3786"
            ],
            [
             0.5555555555555556,
             "#d8576b"
            ],
            [
             0.6666666666666666,
             "#ed7953"
            ],
            [
             0.7777777777777778,
             "#fb9f3a"
            ],
            [
             0.8888888888888888,
             "#fdca26"
            ],
            [
             1,
             "#f0f921"
            ]
           ],
           "sequentialminus": [
            [
             0,
             "#0d0887"
            ],
            [
             0.1111111111111111,
             "#46039f"
            ],
            [
             0.2222222222222222,
             "#7201a8"
            ],
            [
             0.3333333333333333,
             "#9c179e"
            ],
            [
             0.4444444444444444,
             "#bd3786"
            ],
            [
             0.5555555555555556,
             "#d8576b"
            ],
            [
             0.6666666666666666,
             "#ed7953"
            ],
            [
             0.7777777777777778,
             "#fb9f3a"
            ],
            [
             0.8888888888888888,
             "#fdca26"
            ],
            [
             1,
             "#f0f921"
            ]
           ]
          },
          "colorway": [
           "#636efa",
           "#EF553B",
           "#00cc96",
           "#ab63fa",
           "#FFA15A",
           "#19d3f3",
           "#FF6692",
           "#B6E880",
           "#FF97FF",
           "#FECB52"
          ],
          "font": {
           "color": "#2a3f5f"
          },
          "geo": {
           "bgcolor": "white",
           "lakecolor": "white",
           "landcolor": "#E5ECF6",
           "showlakes": true,
           "showland": true,
           "subunitcolor": "white"
          },
          "hoverlabel": {
           "align": "left"
          },
          "hovermode": "closest",
          "mapbox": {
           "style": "light"
          },
          "paper_bgcolor": "white",
          "plot_bgcolor": "#E5ECF6",
          "polar": {
           "angularaxis": {
            "gridcolor": "white",
            "linecolor": "white",
            "ticks": ""
           },
           "bgcolor": "#E5ECF6",
           "radialaxis": {
            "gridcolor": "white",
            "linecolor": "white",
            "ticks": ""
           }
          },
          "scene": {
           "xaxis": {
            "backgroundcolor": "#E5ECF6",
            "gridcolor": "white",
            "gridwidth": 2,
            "linecolor": "white",
            "showbackground": true,
            "ticks": "",
            "zerolinecolor": "white"
           },
           "yaxis": {
            "backgroundcolor": "#E5ECF6",
            "gridcolor": "white",
            "gridwidth": 2,
            "linecolor": "white",
            "showbackground": true,
            "ticks": "",
            "zerolinecolor": "white"
           },
           "zaxis": {
            "backgroundcolor": "#E5ECF6",
            "gridcolor": "white",
            "gridwidth": 2,
            "linecolor": "white",
            "showbackground": true,
            "ticks": "",
            "zerolinecolor": "white"
           }
          },
          "shapedefaults": {
           "line": {
            "color": "#2a3f5f"
           }
          },
          "ternary": {
           "aaxis": {
            "gridcolor": "white",
            "linecolor": "white",
            "ticks": ""
           },
           "baxis": {
            "gridcolor": "white",
            "linecolor": "white",
            "ticks": ""
           },
           "bgcolor": "#E5ECF6",
           "caxis": {
            "gridcolor": "white",
            "linecolor": "white",
            "ticks": ""
           }
          },
          "title": {
           "x": 0.05
          },
          "xaxis": {
           "automargin": true,
           "gridcolor": "white",
           "linecolor": "white",
           "ticks": "",
           "title": {
            "standoff": 15
           },
           "zerolinecolor": "white",
           "zerolinewidth": 2
          },
          "yaxis": {
           "automargin": true,
           "gridcolor": "white",
           "linecolor": "white",
           "ticks": "",
           "title": {
            "standoff": 15
           },
           "zerolinecolor": "white",
           "zerolinewidth": 2
          }
         }
        },
        "title": {
         "text": "Two Sunburst Charts"
        },
        "width": 800
       }
      }
     },
     "metadata": {},
     "output_type": "display_data"
    }
   ],
   "source": [
    "import plotly.graph_objects as go\n",
    "import plotly.subplots as sp\n",
    "fig = sp.make_subplots(rows=1, cols=2, specs=[[{'type': 'sunburst'}, {'type': 'sunburst'}]])\n",
    "\n",
    "fig.add_trace(go.Sunburst(labels=df['Q'], parents=df['A'], values=[1]*len(df)), row=1, col=1)\n",
    "# fig.add_trace(go.Sunburst(labels=df2['Q'], parents=df2['A'], values=[1]*len(df2)), row=1, col=2)\n",
    "\n",
    "fig.update_layout(height=600, width=800, title_text=\"Two Sunburst Charts\")\n",
    "fig.show()\n"
   ]
  },
  {
   "cell_type": "code",
   "execution_count": null,
   "metadata": {},
   "outputs": [],
   "source": []
  },
  {
   "cell_type": "code",
   "execution_count": null,
   "metadata": {},
   "outputs": [],
   "source": []
  },
  {
   "cell_type": "code",
   "execution_count": null,
   "metadata": {},
   "outputs": [],
   "source": []
  },
  {
   "cell_type": "code",
   "execution_count": null,
   "metadata": {},
   "outputs": [],
   "source": []
  },
  {
   "attachments": {},
   "cell_type": "markdown",
   "metadata": {},
   "source": [
    "# 音別正答率の折れ線グラフ日付で"
   ]
  },
  {
   "cell_type": "code",
   "execution_count": null,
   "metadata": {},
   "outputs": [],
   "source": []
  },
  {
   "cell_type": "code",
   "execution_count": null,
   "metadata": {},
   "outputs": [],
   "source": []
  },
  {
   "cell_type": "code",
   "execution_count": null,
   "metadata": {},
   "outputs": [],
   "source": []
  },
  {
   "cell_type": "code",
   "execution_count": null,
   "metadata": {},
   "outputs": [],
   "source": []
  }
 ],
 "metadata": {
  "kernelspec": {
   "display_name": "pymol",
   "language": "python",
   "name": "python3"
  },
  "language_info": {
   "codemirror_mode": {
    "name": "ipython",
    "version": 3
   },
   "file_extension": ".py",
   "mimetype": "text/x-python",
   "name": "python",
   "nbconvert_exporter": "python",
   "pygments_lexer": "ipython3",
   "version": "3.10.6"
  },
  "orig_nbformat": 4,
  "vscode": {
   "interpreter": {
    "hash": "ccd261da9c8ca32c8405b2975246cd7ab0f3455db7e03ddf16b51d50dde3d20e"
   }
  }
 },
 "nbformat": 4,
 "nbformat_minor": 2
}
